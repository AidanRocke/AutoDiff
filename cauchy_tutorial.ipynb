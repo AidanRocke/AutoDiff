{
  "cells": [
    {
      "cell_type": "markdown",
      "source": [
        "## Automatic Differentiation via Contour Integration: "
      ],
      "metadata": {}
    },
    {
      "cell_type": "markdown",
      "source": [
        "## 1. The Cauchy Integral Formula for computing derivatives: "
      ],
      "metadata": {}
    },
    {
      "cell_type": "code",
      "source": [
        "function nabla(f, x::Float64, delta::Float64)\n",
        "\n",
        "  N = round(Int,2*pi/delta)\n",
        "  thetas = vcat(1:N)*delta\n",
        "\n",
        "  ## collect arguments and rotations: \n",
        "  rotations = map(theta -> exp(-im*theta),thetas)\n",
        "  arguments = x .+ conj.(rotations)  \n",
        "\n",
        "  ## calculate expectation: \n",
        "  expectation = 1.0/(2*pi)*real(sum(map(f,arguments).*rotations))*delta\n",
        "\n",
        "  return expectation\n",
        "\nend"
      ],
      "outputs": [
        {
          "output_type": "execute_result",
          "execution_count": 1,
          "data": {
            "text/plain": [
              "nabla (generic function with 1 method)"
            ]
          },
          "metadata": {}
        }
      ],
      "execution_count": 1,
      "metadata": {
        "collapsed": false,
        "outputHidden": false,
        "inputHidden": false
      }
    },
    {
      "cell_type": "markdown",
      "source": [
        "## 2. A few test cases: "
      ],
      "metadata": {
        "collapsed": false,
        "outputHidden": false,
        "inputHidden": false
      }
    },
    {
      "cell_type": "markdown",
      "source": [
        "### a. A few test functions of a single variable including compositions of functions:"
      ],
      "metadata": {}
    },
    {
      "cell_type": "code",
      "source": [
        "cosh_(x) = (exp(x)+exp(-x))/2\n",
        "\n",
        "g(x) = (x-1)^2 + (x-2)^4 + (x-3)^6\n",
        "\n",
        "h(x) = cos(x)\n",
        "\n",
        "l = g ∘ h\n",
        "\nm = g ∘ cosh_"
      ],
      "outputs": [
        {
          "output_type": "execute_result",
          "execution_count": 2,
          "data": {
            "text/plain": [
              "#52 (generic function with 1 method)"
            ]
          },
          "metadata": {}
        }
      ],
      "execution_count": 2,
      "metadata": {
        "collapsed": false,
        "outputHidden": false,
        "inputHidden": false
      }
    },
    {
      "cell_type": "markdown",
      "source": [
        "### b. Test it on cosine: "
      ],
      "metadata": {}
    },
    {
      "cell_type": "code",
      "source": [
        "delta = (2*pi)/1000\n",
        "\nnabla(h, pi/2, delta)"
      ],
      "outputs": [
        {
          "output_type": "execute_result",
          "execution_count": 3,
          "data": {
            "text/plain": [
              "-1.0000000000000016"
            ]
          },
          "metadata": {}
        }
      ],
      "execution_count": 3,
      "metadata": {
        "collapsed": false,
        "outputHidden": false,
        "inputHidden": false
      }
    },
    {
      "cell_type": "markdown",
      "source": [
        "### c. Test it on compositions of functions:"
      ],
      "metadata": {}
    },
    {
      "cell_type": "code",
      "source": [
        "delta = (2*pi)/1000\n",
        "\nnabla(m, 1.0, delta) "
      ],
      "outputs": [
        {
          "output_type": "execute_result",
          "execution_count": 4,
          "data": {
            "text/plain": [
              "-45.45705185890576"
            ]
          },
          "metadata": {}
        }
      ],
      "execution_count": 4,
      "metadata": {
        "collapsed": false,
        "outputHidden": false,
        "inputHidden": false
      }
    },
    {
      "cell_type": "markdown",
      "source": [
        "#### Wolfram Alpha agrees with the above calculations. A good sign."
      ],
      "metadata": {}
    },
    {
      "cell_type": "markdown",
      "source": [
        "## 3. Using the Cauchy Integral Formula to perform gradient descent: "
      ],
      "metadata": {}
    },
    {
      "cell_type": "code",
      "source": [
        "function gradient_descent(f,x_p::Float64,alpha::Float64)\n",
        "\n",
        "  ## 100 steps\n",
        "  for i=1:100\n",
        "\n",
        "    x_n = x_p - alpha*nabla(f,x_p,delta)\n",
        "    x_p = x_n\n",
        "\n",
        "  end\n",
        "\n",
        "  return x_p\n",
        "\nend"
      ],
      "outputs": [
        {
          "output_type": "execute_result",
          "execution_count": 5,
          "data": {
            "text/plain": [
              "gradient_descent (generic function with 1 method)"
            ]
          },
          "metadata": {}
        }
      ],
      "execution_count": 5,
      "metadata": {
        "collapsed": false,
        "outputHidden": false,
        "inputHidden": false
      }
    },
    {
      "cell_type": "code",
      "source": [
        "## initial value: \n",
        "x_p = 5.0 \n",
        "\n",
        "## learning rate: \n",
        "alpha = 0.01 \n",
        "\nx_min = gradient_descent(g,x_p,alpha)"
      ],
      "outputs": [
        {
          "output_type": "execute_result",
          "execution_count": 6,
          "data": {
            "text/plain": [
              "2.1702275657206824"
            ]
          },
          "metadata": {}
        }
      ],
      "execution_count": 6,
      "metadata": {
        "collapsed": false,
        "outputHidden": false,
        "inputHidden": false
      }
    },
    {
      "cell_type": "code",
      "source": [
        "## check solution: \n",
        "\ng(x_min)"
      ],
      "outputs": [
        {
          "output_type": "execute_result",
          "execution_count": 7,
          "data": {
            "text/plain": [
              "1.6966751541950713"
            ]
          },
          "metadata": {}
        }
      ],
      "execution_count": 7,
      "metadata": {
        "collapsed": false,
        "outputHidden": false,
        "inputHidden": false
      }
    },
    {
      "cell_type": "markdown",
      "source": [
        "## 4. Using the Cauchy Integral Formula to compute Partial Derivatives: "
      ],
      "metadata": {}
    },
    {
      "cell_type": "markdown",
      "source": [
        "#### a. Define a function of several variables, in this case three: "
      ],
      "metadata": {}
    },
    {
      "cell_type": "code",
      "source": [
        "q(X) = X[1] + X[2]^2 + cos(X[3])\n",
        "\n",
        "## kronecker delta, which will come in handy:\n",
        "\n",
        "kd(i,n) = [j==i for j in 1:n]\n",
        "\n",
        "## use q to create three functions of a single variable where \n",
        "## all the other variables are held constant: \n",
        "\n",
        "q1 = x -> q(x .+ X.*(ones(3)-kd(1,3)))\n",
        "\n",
        "q2 = x -> q(x .+ X.*(ones(3)-kd(2,3)))\n",
        "\nq3 = x -> q(x .+ X.*(ones(3)-kd(3,3)))"
      ],
      "outputs": [
        {
          "output_type": "execute_result",
          "execution_count": 8,
          "data": {
            "text/plain": [
              "#11 (generic function with 1 method)"
            ]
          },
          "metadata": {}
        }
      ],
      "execution_count": 8,
      "metadata": {
        "collapsed": false,
        "outputHidden": false,
        "inputHidden": false
      }
    },
    {
      "cell_type": "markdown",
      "source": [
        "#### b. Compute all three partial derivatives:"
      ],
      "metadata": {}
    },
    {
      "cell_type": "code",
      "source": [
        "## computations are done with respect to a point X:\n",
        "X = rand(3)\n",
        "\n",
        "## then compute three partial derivatives: \n",
        "nabla(q1,X[1],delta)\n",
        "\n",
        "nabla(q2,X[2],delta)\n",
        "\nnabla(q3,X[3],delta)"
      ],
      "outputs": [
        {
          "output_type": "execute_result",
          "execution_count": 9,
          "data": {
            "text/plain": [
              "2.7511825105975394"
            ]
          },
          "metadata": {}
        }
      ],
      "execution_count": 9,
      "metadata": {
        "collapsed": false,
        "outputHidden": false,
        "inputHidden": false
      }
    },
    {
      "cell_type": "markdown",
      "source": [
        "## 5. The case where we have some uncertainty about the function to be evaluated: "
      ],
      "metadata": {}
    },
    {
      "cell_type": "code",
      "source": [
        "### If we are uncertain about f, which is generally the case, a more refined grid over [0,2*pi] may \n",
        "### actually yield a more biased answer so it may be better to use noise present in the biological \n",
        "### system to come up with a cheap and fast monte-carlo estimate.\n",
        "\n",
        "### This motivates the definition of monte-carlo gradients using half the usual number of points and the definition\n",
        "### of the gradient as an expected value:\n",
        "\n",
        "function mc_nabla(f, x::Float64, delta::Float64)\n",
        "\n",
        "  N = round(Int,2*pi/delta)\n",
        "\n",
        "  ## sample with only half the number of points: \n",
        "  sample = rand(1:N,round(Int,N/2)) \n",
        "  thetas = sample*delta\n",
        "\n",
        "  ## collect arguments and rotations: \n",
        "  rotations = map(theta -> exp(-im*theta),thetas)\n",
        "  arguments = x .+ conj.(rotations)  \n",
        "\n",
        "  ## calculate expectation: \n",
        "  expectation = 1.0/(2*pi)*real(sum(map(f,arguments).*rotations))*2*delta\n",
        "\n",
        "  return expectation\n",
        "\nend"
      ],
      "outputs": [
        {
          "output_type": "execute_result",
          "execution_count": 10,
          "data": {
            "text/plain": [
              "mc_nabla (generic function with 1 method)"
            ]
          },
          "metadata": {}
        }
      ],
      "execution_count": 10,
      "metadata": {
        "collapsed": false,
        "outputHidden": false,
        "inputHidden": false
      }
    },
    {
      "cell_type": "markdown",
      "source": [
        "## 6. Simulating a spring pendulum using the Euler-Lagrange equations: "
      ],
      "metadata": {}
    },
    {
      "cell_type": "markdown",
      "source": [
        "### a. We define the Lagrangian then proceed as we did for calculating partial derivatives earlier: "
      ],
      "metadata": {}
    },
    {
      "cell_type": "code",
      "source": [
        "## The Lagrangian where we assume the length of the unextended spring is 1.0 and mass is 1.0 kg: \n",
        "L(X) = 0.5*(X[3]^2+(1.0+X[1])^2*X[4]^2)+9.8*(1.0+X[1])*cos(X[2])-0.5*X[1]^2\n",
        "\n",
        "## kronecker delta, which will come in handy:\n",
        "kd(i,n) = [j==i for j in 1:n]\n",
        "\n",
        "##  All four variables will be stored in this array:\n",
        "Z = zeros(100,4)\n",
        "\n",
        "## The initial conditions: \n",
        "Z[1,:] = [1.0,pi/4,0.0,0.0]"
      ],
      "outputs": [
        {
          "output_type": "execute_result",
          "execution_count": 11,
          "data": {
            "text/plain": [
              "4-element Array{Float64,1}:\n",
              " 1.0               \n",
              " 0.7853981633974483\n",
              " 0.0               \n",
              " 0.0               "
            ]
          },
          "metadata": {}
        }
      ],
      "execution_count": 11,
      "metadata": {
        "collapsed": false,
        "outputHidden": false,
        "inputHidden": false
      }
    },
    {
      "cell_type": "markdown",
      "source": [
        "### b. Simulate the spring pendulum using the leapfrog method: "
      ],
      "metadata": {}
    },
    {
      "cell_type": "code",
      "source": [
        "## simulate the pendulum system: \n",
        "for i=1:99\n",
        "\n",
        "\t## define partial derivatives: \n",
        "\tdd_theta = x -> L(x .+ Z[i,:].*(ones(4)-kd(2,4)))\n",
        "\n",
        "\tdd_x = x -> L(x .+ Z[i,:].*(ones(4)-kd(1,4)))\n",
        "\n",
        "\t## update angle: \n",
        "\tZ[i+1,1] = Z[i,1] + Z[i,3]*0.01 + 0.5*(nabla(dd_theta,Z[i,4],delta))*0.0001\n",
        "\n",
        "\t## update position: \n",
        "\tZ[i+1,2] = Z[i,2] + Z[i,4]*0.01 + 0.5*(nabla(dd_x,Z[i,4],delta))*0.0001\n",
        "\n",
        "\t## update derivatives:\n",
        "\tZ[i+1,3] = Z[i,3] + 0.5*(nabla(dd_x,Z[i,1],delta)+nabla(dd_x,Z[i+1,1],delta))*0.01\n",
        "\n",
        "\tZ[i+1,4] = Z[i,4] + 0.5*(nabla(dd_theta,Z[i,2],delta)+nabla(dd_theta,Z[i+1,2],delta))*0.01\n",
        "\nend"
      ],
      "outputs": [],
      "execution_count": 12,
      "metadata": {
        "collapsed": false,
        "outputHidden": false,
        "inputHidden": false
      }
    },
    {
      "cell_type": "markdown",
      "source": [
        "### c. Visualising the system: "
      ],
      "metadata": {}
    },
    {
      "cell_type": "code",
      "source": [
        "using Plots\n",
        "\n",
        "## plotting angle(theta) against the angular velocity(dtheta): \n",
        "plot(Z[:,2], Z[:,4])"
      ],
      "outputs": [
        {
          "output_type": "execute_result",
          "execution_count": 18,
          "data": {
            "image/svg+xml": [
              "<?xml version=\"1.0\" encoding=\"utf-8\"?>\n",
              "<svg xmlns=\"http://www.w3.org/2000/svg\" xmlns:xlink=\"http://www.w3.org/1999/xlink\" width=\"600\" height=\"400\" viewBox=\"0 0 2400 1600\">\n",
              "<defs>\n",
              "  <clipPath id=\"clip6300\">\n",
              "    <rect x=\"0\" y=\"0\" width=\"2400\" height=\"1600\"/>\n",
              "  </clipPath>\n",
              "</defs>\n",
              "<path clip-path=\"url(#clip6300)\" d=\"\n",
              "M0 1600 L2400 1600 L2400 0 L0 0  Z\n",
              "  \" fill=\"#ffffff\" fill-rule=\"evenodd\" fill-opacity=\"1\"/>\n",
              "<defs>\n",
              "  <clipPath id=\"clip6301\">\n",
              "    <rect x=\"480\" y=\"0\" width=\"1681\" height=\"1600\"/>\n",
              "  </clipPath>\n",
              "</defs>\n",
              "<path clip-path=\"url(#clip6300)\" d=\"\n",
              "M141.865 1487.47 L2352.76 1487.47 L2352.76 47.2441 L141.865 47.2441  Z\n",
              "  \" fill=\"#ffffff\" fill-rule=\"evenodd\" fill-opacity=\"1\"/>\n",
              "<defs>\n",
              "  <clipPath id=\"clip6302\">\n",
              "    <rect x=\"141\" y=\"47\" width=\"2212\" height=\"1441\"/>\n",
              "  </clipPath>\n",
              "</defs>\n",
              "<polyline clip-path=\"url(#clip6302)\" style=\"stroke:#000000; stroke-width:2; stroke-opacity:0.1; fill:none\" points=\"\n",
              "  206.087,1487.47 206.087,47.2441 \n",
              "  \"/>\n",
              "<polyline clip-path=\"url(#clip6302)\" style=\"stroke:#000000; stroke-width:2; stroke-opacity:0.1; fill:none\" points=\"\n",
              "  709.299,1487.47 709.299,47.2441 \n",
              "  \"/>\n",
              "<polyline clip-path=\"url(#clip6302)\" style=\"stroke:#000000; stroke-width:2; stroke-opacity:0.1; fill:none\" points=\"\n",
              "  1212.51,1487.47 1212.51,47.2441 \n",
              "  \"/>\n",
              "<polyline clip-path=\"url(#clip6302)\" style=\"stroke:#000000; stroke-width:2; stroke-opacity:0.1; fill:none\" points=\"\n",
              "  1715.72,1487.47 1715.72,47.2441 \n",
              "  \"/>\n",
              "<polyline clip-path=\"url(#clip6302)\" style=\"stroke:#000000; stroke-width:2; stroke-opacity:0.1; fill:none\" points=\"\n",
              "  2218.93,1487.47 2218.93,47.2441 \n",
              "  \"/>\n",
              "<polyline clip-path=\"url(#clip6302)\" style=\"stroke:#000000; stroke-width:2; stroke-opacity:0.1; fill:none\" points=\"\n",
              "  141.865,1259.12 2352.76,1259.12 \n",
              "  \"/>\n",
              "<polyline clip-path=\"url(#clip6302)\" style=\"stroke:#000000; stroke-width:2; stroke-opacity:0.1; fill:none\" points=\"\n",
              "  141.865,1002.09 2352.76,1002.09 \n",
              "  \"/>\n",
              "<polyline clip-path=\"url(#clip6302)\" style=\"stroke:#000000; stroke-width:2; stroke-opacity:0.1; fill:none\" points=\"\n",
              "  141.865,745.063 2352.76,745.063 \n",
              "  \"/>\n",
              "<polyline clip-path=\"url(#clip6302)\" style=\"stroke:#000000; stroke-width:2; stroke-opacity:0.1; fill:none\" points=\"\n",
              "  141.865,488.033 2352.76,488.033 \n",
              "  \"/>\n",
              "<polyline clip-path=\"url(#clip6302)\" style=\"stroke:#000000; stroke-width:2; stroke-opacity:0.1; fill:none\" points=\"\n",
              "  141.865,231.004 2352.76,231.004 \n",
              "  \"/>\n",
              "<polyline clip-path=\"url(#clip6300)\" style=\"stroke:#000000; stroke-width:4; stroke-opacity:1; fill:none\" points=\"\n",
              "  141.865,1487.47 2352.76,1487.47 \n",
              "  \"/>\n",
              "<polyline clip-path=\"url(#clip6300)\" style=\"stroke:#000000; stroke-width:4; stroke-opacity:1; fill:none\" points=\"\n",
              "  141.865,1487.47 141.865,47.2441 \n",
              "  \"/>\n",
              "<polyline clip-path=\"url(#clip6300)\" style=\"stroke:#000000; stroke-width:4; stroke-opacity:1; fill:none\" points=\"\n",
              "  206.087,1487.47 206.087,1465.87 \n",
              "  \"/>\n",
              "<polyline clip-path=\"url(#clip6300)\" style=\"stroke:#000000; stroke-width:4; stroke-opacity:1; fill:none\" points=\"\n",
              "  709.299,1487.47 709.299,1465.87 \n",
              "  \"/>\n",
              "<polyline clip-path=\"url(#clip6300)\" style=\"stroke:#000000; stroke-width:4; stroke-opacity:1; fill:none\" points=\"\n",
              "  1212.51,1487.47 1212.51,1465.87 \n",
              "  \"/>\n",
              "<polyline clip-path=\"url(#clip6300)\" style=\"stroke:#000000; stroke-width:4; stroke-opacity:1; fill:none\" points=\"\n",
              "  1715.72,1487.47 1715.72,1465.87 \n",
              "  \"/>\n",
              "<polyline clip-path=\"url(#clip6300)\" style=\"stroke:#000000; stroke-width:4; stroke-opacity:1; fill:none\" points=\"\n",
              "  2218.93,1487.47 2218.93,1465.87 \n",
              "  \"/>\n",
              "<polyline clip-path=\"url(#clip6300)\" style=\"stroke:#000000; stroke-width:4; stroke-opacity:1; fill:none\" points=\"\n",
              "  141.865,1259.12 175.028,1259.12 \n",
              "  \"/>\n",
              "<polyline clip-path=\"url(#clip6300)\" style=\"stroke:#000000; stroke-width:4; stroke-opacity:1; fill:none\" points=\"\n",
              "  141.865,1002.09 175.028,1002.09 \n",
              "  \"/>\n",
              "<polyline clip-path=\"url(#clip6300)\" style=\"stroke:#000000; stroke-width:4; stroke-opacity:1; fill:none\" points=\"\n",
              "  141.865,745.063 175.028,745.063 \n",
              "  \"/>\n",
              "<polyline clip-path=\"url(#clip6300)\" style=\"stroke:#000000; stroke-width:4; stroke-opacity:1; fill:none\" points=\"\n",
              "  141.865,488.033 175.028,488.033 \n",
              "  \"/>\n",
              "<polyline clip-path=\"url(#clip6300)\" style=\"stroke:#000000; stroke-width:4; stroke-opacity:1; fill:none\" points=\"\n",
              "  141.865,231.004 175.028,231.004 \n",
              "  \"/>\n",
              "<g clip-path=\"url(#clip6300)\">\n",
              "<text style=\"fill:#000000; fill-opacity:1; font-family:Arial,Helvetica Neue,Helvetica,sans-serif; font-size:48px; text-anchor:middle;\" transform=\"rotate(0, 206.087, 1541.47)\" x=\"206.087\" y=\"1541.47\">-0.25</text>\n",
              "</g>\n",
              "<g clip-path=\"url(#clip6300)\">\n",
              "<text style=\"fill:#000000; fill-opacity:1; font-family:Arial,Helvetica Neue,Helvetica,sans-serif; font-size:48px; text-anchor:middle;\" transform=\"rotate(0, 709.299, 1541.47)\" x=\"709.299\" y=\"1541.47\">0.00</text>\n",
              "</g>\n",
              "<g clip-path=\"url(#clip6300)\">\n",
              "<text style=\"fill:#000000; fill-opacity:1; font-family:Arial,Helvetica Neue,Helvetica,sans-serif; font-size:48px; text-anchor:middle;\" transform=\"rotate(0, 1212.51, 1541.47)\" x=\"1212.51\" y=\"1541.47\">0.25</text>\n",
              "</g>\n",
              "<g clip-path=\"url(#clip6300)\">\n",
              "<text style=\"fill:#000000; fill-opacity:1; font-family:Arial,Helvetica Neue,Helvetica,sans-serif; font-size:48px; text-anchor:middle;\" transform=\"rotate(0, 1715.72, 1541.47)\" x=\"1715.72\" y=\"1541.47\">0.50</text>\n",
              "</g>\n",
              "<g clip-path=\"url(#clip6300)\">\n",
              "<text style=\"fill:#000000; fill-opacity:1; font-family:Arial,Helvetica Neue,Helvetica,sans-serif; font-size:48px; text-anchor:middle;\" transform=\"rotate(0, 2218.93, 1541.47)\" x=\"2218.93\" y=\"1541.47\">0.75</text>\n",
              "</g>\n",
              "<g clip-path=\"url(#clip6300)\">\n",
              "<text style=\"fill:#000000; fill-opacity:1; font-family:Arial,Helvetica Neue,Helvetica,sans-serif; font-size:48px; text-anchor:end;\" transform=\"rotate(0, 117.865, 1276.62)\" x=\"117.865\" y=\"1276.62\">-2</text>\n",
              "</g>\n",
              "<g clip-path=\"url(#clip6300)\">\n",
              "<text style=\"fill:#000000; fill-opacity:1; font-family:Arial,Helvetica Neue,Helvetica,sans-serif; font-size:48px; text-anchor:end;\" transform=\"rotate(0, 117.865, 1019.59)\" x=\"117.865\" y=\"1019.59\">-1</text>\n",
              "</g>\n",
              "<g clip-path=\"url(#clip6300)\">\n",
              "<text style=\"fill:#000000; fill-opacity:1; font-family:Arial,Helvetica Neue,Helvetica,sans-serif; font-size:48px; text-anchor:end;\" transform=\"rotate(0, 117.865, 762.563)\" x=\"117.865\" y=\"762.563\">0</text>\n",
              "</g>\n",
              "<g clip-path=\"url(#clip6300)\">\n",
              "<text style=\"fill:#000000; fill-opacity:1; font-family:Arial,Helvetica Neue,Helvetica,sans-serif; font-size:48px; text-anchor:end;\" transform=\"rotate(0, 117.865, 505.533)\" x=\"117.865\" y=\"505.533\">1</text>\n",
              "</g>\n",
              "<g clip-path=\"url(#clip6300)\">\n",
              "<text style=\"fill:#000000; fill-opacity:1; font-family:Arial,Helvetica Neue,Helvetica,sans-serif; font-size:48px; text-anchor:end;\" transform=\"rotate(0, 117.865, 248.504)\" x=\"117.865\" y=\"248.504\">2</text>\n",
              "</g>\n",
              "<polyline clip-path=\"url(#clip6302)\" style=\"stroke:#009af9; stroke-width:4; stroke-opacity:1; fill:none\" points=\"\n",
              "  2290.18,745.063 2290.18,759.355 2289.15,775.743 2286.95,794.401 2283.4,815.484 2278.32,839.121 2271.53,865.401 2262.8,894.354 2251.92,925.939 2238.62,960.028 \n",
              "  2222.67,996.389 2203.77,1034.68 2181.69,1074.45 2156.15,1115.14 2126.95,1156.09 2093.92,1196.59 2056.94,1235.9 2016,1273.27 1971.19,1308.02 1922.65,1339.55 \n",
              "  1870.68,1367.39 1815.6,1391.18 1757.82,1410.71 1697.82,1425.94 1636.06,1436.89 1573.04,1443.74 1509.23,1446.71 1445.08,1446.11 1381.01,1442.24 1317.41,1435.46 \n",
              "  1254.59,1426.1 1192.86,1414.5 1132.44,1400.97 1073.54,1385.8 1016.32,1369.24 960.906,1351.54 907.4,1332.89 855.872,1313.5 806.375,1293.5 758.941,1273.04 \n",
              "  713.589,1252.23 670.325,1231.17 629.148,1209.94 590.047,1188.61 553.005,1167.23 518.001,1145.84 485.012,1124.48 454.011,1103.18 424.971,1081.96 397.861,1060.82 \n",
              "  372.654,1039.79 349.32,1018.85 327.83,998.026 308.155,977.3 290.267,956.672 274.141,936.138 259.751,915.689 247.071,895.317 236.079,875.014 226.753,854.77 \n",
              "  219.071,834.575 213.016,814.421 208.569,794.297 205.714,774.195 204.437,754.108 204.724,734.026 206.564,713.945 209.948,693.859 214.869,673.764 221.32,653.655 \n",
              "  229.3,633.533 238.807,613.395 249.843,593.244 262.413,573.08 276.525,552.909 292.188,532.736 309.417,512.567 328.228,492.41 348.642,472.276 370.682,452.177 \n",
              "  394.376,432.124 419.756,412.133 446.854,392.219 475.708,372.4 506.358,352.695 538.848,333.124 573.221,313.709 609.524,294.474 647.806,275.442 688.113,256.64 \n",
              "  730.493,238.095 774.992,219.837 821.653,201.895 870.516,184.301 921.617,167.088 974.985,150.291 1030.64,133.945 1088.61,118.09 1148.88,102.763 1211.45,88.0053 \n",
              "  \n",
              "  \"/>\n",
              "<path clip-path=\"url(#clip6300)\" d=\"\n",
              "M1989.93 251.724 L2280.76 251.724 L2280.76 130.764 L1989.93 130.764  Z\n",
              "  \" fill=\"#ffffff\" fill-rule=\"evenodd\" fill-opacity=\"1\"/>\n",
              "<polyline clip-path=\"url(#clip6300)\" style=\"stroke:#000000; stroke-width:4; stroke-opacity:1; fill:none\" points=\"\n",
              "  1989.93,251.724 2280.76,251.724 2280.76,130.764 1989.93,130.764 1989.93,251.724 \n",
              "  \"/>\n",
              "<polyline clip-path=\"url(#clip6300)\" style=\"stroke:#009af9; stroke-width:4; stroke-opacity:1; fill:none\" points=\"\n",
              "  2013.93,191.244 2157.93,191.244 \n",
              "  \"/>\n",
              "<g clip-path=\"url(#clip6300)\">\n",
              "<text style=\"fill:#000000; fill-opacity:1; font-family:Arial,Helvetica Neue,Helvetica,sans-serif; font-size:48px; text-anchor:start;\" transform=\"rotate(0, 2181.93, 208.744)\" x=\"2181.93\" y=\"208.744\">y1</text>\n",
              "</g>\n",
              "</svg>\n"
            ]
          },
          "metadata": {}
        }
      ],
      "execution_count": 18,
      "metadata": {
        "collapsed": false,
        "outputHidden": false,
        "inputHidden": false
      }
    }
  ],
  "metadata": {
    "kernel_info": {
      "name": "julia-1.0"
    },
    "language_info": {
      "file_extension": ".jl",
      "name": "julia",
      "mimetype": "application/julia",
      "version": "1.0.0"
    },
    "kernelspec": {
      "name": "julia-1.0",
      "language": "julia",
      "display_name": "Julia 1.0.0"
    },
    "nteract": {
      "version": "0.11.6"
    }
  },
  "nbformat": 4,
  "nbformat_minor": 4
}