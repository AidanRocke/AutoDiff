{
  "cells": [
    {
      "cell_type": "markdown",
      "source": [
        "## Automatic Differentiation via Contour Integration: "
      ],
      "metadata": {}
    },
    {
      "cell_type": "markdown",
      "source": [
        "## 1. The Cauchy Integral Formula for computing derivatives: "
      ],
      "metadata": {}
    },
    {
      "cell_type": "code",
      "source": [
        "function nabla(f, x::Float64, delta::Float64)\n",
        "\n",
        "  N = round(Int,2*pi/delta)\n",
        "  thetas = vcat(1:N)*delta\n",
        "\n",
        "  ## collect arguments and rotations: \n",
        "  rotations = map(theta -> exp(-im*theta),thetas)\n",
        "  arguments = x .+ conj.(rotations)  \n",
        "\n",
        "  ## calculate expectation: \n",
        "  expectation = 1.0/N*real(sum(map(f,arguments).*rotations))\n",
        "\n",
        "  return expectation\n",
        "\nend"
      ],
      "outputs": [
        {
          "output_type": "execute_result",
          "execution_count": 2,
          "data": {
            "text/plain": [
              "nabla (generic function with 1 method)"
            ]
          },
          "metadata": {}
        }
      ],
      "execution_count": 2,
      "metadata": {
        "collapsed": false,
        "outputHidden": false,
        "inputHidden": false
      }
    },
    {
      "cell_type": "markdown",
      "source": [
        "## 2. A few test cases: "
      ],
      "metadata": {
        "collapsed": false,
        "outputHidden": false,
        "inputHidden": false
      }
    },
    {
      "cell_type": "markdown",
      "source": [
        "### a. A few test functions of a single variable including compositions of functions:"
      ],
      "metadata": {}
    },
    {
      "cell_type": "code",
      "source": [
        "cosh_(x) = (exp(x)+exp(-x))/2\n",
        "\n",
        "g(x) = (x-1)^2 + (x-2)^4 + (x-3)^6\n",
        "\n",
        "h(x) = cos(x)\n",
        "\n",
        "l = g ∘ h\n",
        "\nm = g ∘ cosh_"
      ],
      "outputs": [
        {
          "output_type": "execute_result",
          "execution_count": 3,
          "data": {
            "text/plain": [
              "#52 (generic function with 1 method)"
            ]
          },
          "metadata": {}
        }
      ],
      "execution_count": 3,
      "metadata": {
        "collapsed": false,
        "outputHidden": false,
        "inputHidden": false
      }
    },
    {
      "cell_type": "markdown",
      "source": [
        "### b. Test it on cosine: "
      ],
      "metadata": {}
    },
    {
      "cell_type": "code",
      "source": [
        "delta = (2*pi)/1000\n",
        "\nnabla(h, pi/2, delta)"
      ],
      "outputs": [
        {
          "output_type": "execute_result",
          "execution_count": 4,
          "data": {
            "text/plain": [
              "-1.0000000000000016"
            ]
          },
          "metadata": {}
        }
      ],
      "execution_count": 4,
      "metadata": {
        "collapsed": false,
        "outputHidden": false,
        "inputHidden": false
      }
    },
    {
      "cell_type": "markdown",
      "source": [
        "### c. Test it on compositions of functions:"
      ],
      "metadata": {}
    },
    {
      "cell_type": "code",
      "source": [
        "delta = (2*pi)/1000\n",
        "\nnabla(m, 1.0, delta) "
      ],
      "outputs": [
        {
          "output_type": "execute_result",
          "execution_count": 5,
          "data": {
            "text/plain": [
              "-45.45705185890576"
            ]
          },
          "metadata": {}
        }
      ],
      "execution_count": 5,
      "metadata": {
        "collapsed": false,
        "outputHidden": false,
        "inputHidden": false
      }
    },
    {
      "cell_type": "markdown",
      "source": [
        "#### Wolfram Alpha agrees with the above calculations. A good sign."
      ],
      "metadata": {}
    },
    {
      "cell_type": "markdown",
      "source": [
        "## 3. Using the Cauchy Integral Formula to perform gradient descent: "
      ],
      "metadata": {}
    },
    {
      "cell_type": "code",
      "source": [
        "function gradient_descent(f,x_p::Float64,alpha::Float64)\n",
        "\n",
        "  ## 100 steps\n",
        "  for i=1:100\n",
        "\n",
        "    x_n = x_p - alpha*nabla(f,x_p,delta)\n",
        "    x_p = x_n\n",
        "\n",
        "  end\n",
        "\n",
        "  return x_p\n",
        "\nend"
      ],
      "outputs": [
        {
          "output_type": "execute_result",
          "execution_count": 6,
          "data": {
            "text/plain": [
              "gradient_descent (generic function with 1 method)"
            ]
          },
          "metadata": {}
        }
      ],
      "execution_count": 6,
      "metadata": {
        "collapsed": false,
        "outputHidden": false,
        "inputHidden": false
      }
    },
    {
      "cell_type": "code",
      "source": [
        "## initial value: \n",
        "x_p = 5.0 \n",
        "\n",
        "## learning rate: \n",
        "alpha = 0.01 \n",
        "\nx_min = gradient_descent(g,x_p,alpha)"
      ],
      "outputs": [
        {
          "output_type": "execute_result",
          "execution_count": 7,
          "data": {
            "text/plain": [
              "2.1702275657206824"
            ]
          },
          "metadata": {}
        }
      ],
      "execution_count": 7,
      "metadata": {
        "collapsed": false,
        "outputHidden": false,
        "inputHidden": false
      }
    },
    {
      "cell_type": "code",
      "source": [
        "## check solution: \n",
        "\ng(x_min)"
      ],
      "outputs": [
        {
          "output_type": "execute_result",
          "execution_count": 8,
          "data": {
            "text/plain": [
              "1.6966751541950713"
            ]
          },
          "metadata": {}
        }
      ],
      "execution_count": 8,
      "metadata": {
        "collapsed": false,
        "outputHidden": false,
        "inputHidden": false
      }
    },
    {
      "cell_type": "markdown",
      "source": [
        "## 4. Using the Cauchy Integral Formula to compute Partial Derivatives: "
      ],
      "metadata": {}
    },
    {
      "cell_type": "markdown",
      "source": [
        "#### a. Define a function of several variables, in this case three: "
      ],
      "metadata": {}
    },
    {
      "cell_type": "code",
      "source": [
        "q(X) = X[1] + X[2]^2 + cos(X[3])\n",
        "\n",
        "## kronecker delta, which will come in handy:\n",
        "\n",
        "kd(i,n) = [j==i for j in 1:n]\n",
        "\n",
        "## use q to create three functions of a single variable where \n",
        "## all the other variables are held constant: \n",
        "\n",
        "q1 = x -> q(x*kd(1,3) .+ X.*(ones(3)-kd(1,3)))\n",
        "\n",
        "q2 = x -> q(x*kd(2,3) .+ X.*(ones(3)-kd(2,3)))\n",
        "\nq3 = x -> q(x*kd(3,3) .+ X.*(ones(3)-kd(3,3)))"
      ],
      "outputs": [
        {
          "output_type": "execute_result",
          "execution_count": 9,
          "data": {
            "text/plain": [
              "#11 (generic function with 1 method)"
            ]
          },
          "metadata": {}
        }
      ],
      "execution_count": 9,
      "metadata": {
        "collapsed": false,
        "outputHidden": false,
        "inputHidden": false
      }
    },
    {
      "cell_type": "markdown",
      "source": [
        "#### b. Compute all three partial derivatives:"
      ],
      "metadata": {}
    },
    {
      "cell_type": "code",
      "source": [
        "## computations are done with respect to a point X:\n",
        "X = [0.0,0.0,pi/2.0]"
      ],
      "outputs": [
        {
          "output_type": "execute_result",
          "execution_count": 31,
          "data": {
            "text/plain": [
              "3-element Array{Float64,1}:\n",
              " 0.0               \n",
              " 0.0               \n",
              " 1.5707963267948966"
            ]
          },
          "metadata": {}
        }
      ],
      "execution_count": 31,
      "metadata": {
        "collapsed": false,
        "outputHidden": false,
        "inputHidden": false
      }
    },
    {
      "cell_type": "code",
      "source": [
        "## first partial derivative: \n",
        "nabla(q1,X[1],delta)"
      ],
      "outputs": [
        {
          "output_type": "execute_result",
          "execution_count": 33,
          "data": {
            "text/plain": [
              "1.0"
            ]
          },
          "metadata": {}
        }
      ],
      "execution_count": 33,
      "metadata": {
        "collapsed": false,
        "outputHidden": false,
        "inputHidden": false
      }
    },
    {
      "cell_type": "code",
      "source": [
        "## second partial derivative: \n",
        "nabla(q2,X[2],delta)"
      ],
      "outputs": [
        {
          "output_type": "execute_result",
          "execution_count": 34,
          "data": {
            "text/plain": [
              "-1.1324274851176598e-17"
            ]
          },
          "metadata": {}
        }
      ],
      "execution_count": 34,
      "metadata": {
        "collapsed": false,
        "outputHidden": false,
        "inputHidden": false
      }
    },
    {
      "cell_type": "code",
      "source": [
        "## third partial derivative:\n",
        "nabla(q3,X[3],delta)"
      ],
      "outputs": [
        {
          "output_type": "execute_result",
          "execution_count": 35,
          "data": {
            "text/plain": [
              "-1.0000000000000016"
            ]
          },
          "metadata": {}
        }
      ],
      "execution_count": 35,
      "metadata": {
        "collapsed": false,
        "outputHidden": false,
        "inputHidden": false
      }
    },
    {
      "cell_type": "markdown",
      "source": [
        "## 5. The case where we have some uncertainty about the function to be evaluated: "
      ],
      "metadata": {}
    },
    {
      "cell_type": "code",
      "source": [
        "### If we are uncertain about f, which is generally the case, a more refined grid over [0,2*pi] may \n",
        "### actually yield a more biased answer so it may be better to use noise present in the biological \n",
        "### system to come up with a cheap and fast monte-carlo estimate.\n",
        "\n",
        "### This motivates the definition of monte-carlo gradients using half the usual number of points and the definition\n",
        "### of the gradient as an expected value:\n",
        "\n",
        "function mc_nabla(f, x::Float64, delta::Float64)\n",
        "\n",
        "  N = round(Int,2*pi/delta)\n",
        "\n",
        "  ## sample with only half the number of points: \n",
        "  sample = rand(1:N,round(Int,N/2)) \n",
        "  thetas = sample*delta\n",
        "\n",
        "  ## collect arguments and rotations: \n",
        "  rotations = map(theta -> exp(-im*theta),thetas)\n",
        "  arguments = x .+ conj.(rotations)  \n",
        "\n",
        "  ## calculate expectation: \n",
        "  expectation = 2.0/N*real(sum(map(f,arguments).*rotations))\n",
        "\n",
        "  return expectation\n",
        "\nend"
      ],
      "outputs": [
        {
          "output_type": "execute_result",
          "execution_count": 18,
          "data": {
            "text/plain": [
              "mc_nabla (generic function with 1 method)"
            ]
          },
          "metadata": {}
        }
      ],
      "execution_count": 18,
      "metadata": {
        "collapsed": false,
        "outputHidden": false,
        "inputHidden": false
      }
    },
    {
      "cell_type": "markdown",
      "source": [
        "## 6. Simulating a spring pendulum using the Euler-Lagrange equations: "
      ],
      "metadata": {}
    },
    {
      "cell_type": "markdown",
      "source": [
        "### a. We define the Lagrangian then proceed as we did for calculating partial derivatives earlier: "
      ],
      "metadata": {}
    },
    {
      "cell_type": "code",
      "source": [
        "## The Lagrangian where we assume the length of the unextended spring is 1.0 and mass is 1.0 kg:\n",
        "M, l, K = 1.0, 1.0, 1.0\n",
        "\n",
        "L(X) = 0.5*M*(X[3]^2+(l+X[1])^2*X[4]^2)+M*9.8*(l+X[1])*cos(X[2])-0.5*K*X[1]^2\n",
        "\n",
        "## kronecker delta, which will come in handy:\n",
        "kd(i,n) = [j==i for j in 1:n]\n",
        "\n",
        "##  All four variables will be stored in this array:\n",
        "Z = zeros(100,4)\n",
        "\n",
        "## The initial conditions: \n",
        "Z[1,:] = [1.0,pi/4,0.0,0.0]"
      ],
      "outputs": [
        {
          "output_type": "execute_result",
          "execution_count": 58,
          "data": {
            "text/plain": [
              "4-element Array{Float64,1}:\n",
              " 1.0               \n",
              " 0.7853981633974483\n",
              " 0.0               \n",
              " 0.0               "
            ]
          },
          "metadata": {}
        }
      ],
      "execution_count": 58,
      "metadata": {
        "collapsed": false,
        "outputHidden": false,
        "inputHidden": false
      }
    },
    {
      "cell_type": "markdown",
      "source": [
        "### b. Simulate the spring pendulum using the leapfrog method: "
      ],
      "metadata": {}
    },
    {
      "cell_type": "code",
      "source": [
        "delta = (2*pi)/1000\n",
        "\n",
        "dt = 0.01\n",
        "\n",
        "## simulate the pendulum system: \n",
        "for i=1:99\n",
        "\n",
        "\t## apply kronecker delta so we can compute partial derivatives: \n",
        "\tdd_theta = x -> L(x*kd(2,4) .+ Z[i,:].*(ones(4)-kd(2,4)))\n",
        "\n",
        "\tdd_x = x -> L(x*kd(1,4) .+ Z[i,:].*(ones(4)-kd(1,4)))\n",
        "\n",
        "\t## update angle: \n",
        "\tZ[i+1,1] = Z[i,1] + Z[i,3]*dt + 0.5*(nabla(dd_x,Z[i,1],delta))*dt^2\n",
        "\n",
        "\t## update position: \n",
        "\tZ[i+1,2] = Z[i,2] + Z[i,4]*dt + 0.5*(nabla(dd_theta,Z[i,2],delta))*dt^2\n",
        "\n",
        "\t## update derivatives:\n",
        "\tZ[i+1,3] = Z[i,3] + 0.5*(nabla(dd_x,Z[i,1],delta)+nabla(dd_x,Z[i+1,1],delta))*dt\n",
        "\n",
        "\tZ[i+1,4] = Z[i,4] + 0.5*(nabla(dd_theta,Z[i,2],delta)+nabla(dd_theta,Z[i+1,2],delta))*dt\n",
        "\nend"
      ],
      "outputs": [],
      "execution_count": 59,
      "metadata": {
        "collapsed": false,
        "outputHidden": false,
        "inputHidden": false
      }
    },
    {
      "cell_type": "markdown",
      "source": [
        "### c. Visualising the system: "
      ],
      "metadata": {}
    },
    {
      "cell_type": "code",
      "source": [
        "using Plots\n",
        "\n",
        "## plotting angular velocity(dtheta) against angle(theta): \n",
        "plot(Z[:,2],Z[:,4])\n",
        "\n",
        "xlabel!(\"theta\")\n",
        "ylabel!(\"d_theta\")"
      ],
      "outputs": [
        {
          "output_type": "execute_result",
          "execution_count": 65,
          "data": {
            "image/svg+xml": [
              "<?xml version=\"1.0\" encoding=\"utf-8\"?>\n",
              "<svg xmlns=\"http://www.w3.org/2000/svg\" xmlns:xlink=\"http://www.w3.org/1999/xlink\" width=\"600\" height=\"400\" viewBox=\"0 0 2400 1600\">\n",
              "<defs>\n",
              "  <clipPath id=\"clip6800\">\n",
              "    <rect x=\"0\" y=\"0\" width=\"2400\" height=\"1600\"/>\n",
              "  </clipPath>\n",
              "</defs>\n",
              "<path clip-path=\"url(#clip6800)\" d=\"\n",
              "M0 1600 L2400 1600 L2400 0 L0 0  Z\n",
              "  \" fill=\"#ffffff\" fill-rule=\"evenodd\" fill-opacity=\"1\"/>\n",
              "<defs>\n",
              "  <clipPath id=\"clip6801\">\n",
              "    <rect x=\"480\" y=\"0\" width=\"1681\" height=\"1600\"/>\n",
              "  </clipPath>\n",
              "</defs>\n",
              "<path clip-path=\"url(#clip6800)\" d=\"\n",
              "M203.721 1425.62 L2352.76 1425.62 L2352.76 47.2441 L203.721 47.2441  Z\n",
              "  \" fill=\"#ffffff\" fill-rule=\"evenodd\" fill-opacity=\"1\"/>\n",
              "<defs>\n",
              "  <clipPath id=\"clip6802\">\n",
              "    <rect x=\"203\" y=\"47\" width=\"2150\" height=\"1379\"/>\n",
              "  </clipPath>\n",
              "</defs>\n",
              "<polyline clip-path=\"url(#clip6802)\" style=\"stroke:#000000; stroke-width:2; stroke-opacity:0.1; fill:none\" points=\"\n",
              "  361.224,1425.62 361.224,47.2441 \n",
              "  \"/>\n",
              "<polyline clip-path=\"url(#clip6802)\" style=\"stroke:#000000; stroke-width:2; stroke-opacity:0.1; fill:none\" points=\"\n",
              "  736.733,1425.62 736.733,47.2441 \n",
              "  \"/>\n",
              "<polyline clip-path=\"url(#clip6802)\" style=\"stroke:#000000; stroke-width:2; stroke-opacity:0.1; fill:none\" points=\"\n",
              "  1112.24,1425.62 1112.24,47.2441 \n",
              "  \"/>\n",
              "<polyline clip-path=\"url(#clip6802)\" style=\"stroke:#000000; stroke-width:2; stroke-opacity:0.1; fill:none\" points=\"\n",
              "  1487.75,1425.62 1487.75,47.2441 \n",
              "  \"/>\n",
              "<polyline clip-path=\"url(#clip6802)\" style=\"stroke:#000000; stroke-width:2; stroke-opacity:0.1; fill:none\" points=\"\n",
              "  1863.26,1425.62 1863.26,47.2441 \n",
              "  \"/>\n",
              "<polyline clip-path=\"url(#clip6802)\" style=\"stroke:#000000; stroke-width:2; stroke-opacity:0.1; fill:none\" points=\"\n",
              "  2238.76,1425.62 2238.76,47.2441 \n",
              "  \"/>\n",
              "<polyline clip-path=\"url(#clip6802)\" style=\"stroke:#000000; stroke-width:2; stroke-opacity:0.1; fill:none\" points=\"\n",
              "  203.721,1134.42 2352.76,1134.42 \n",
              "  \"/>\n",
              "<polyline clip-path=\"url(#clip6802)\" style=\"stroke:#000000; stroke-width:2; stroke-opacity:0.1; fill:none\" points=\"\n",
              "  203.721,823.208 2352.76,823.208 \n",
              "  \"/>\n",
              "<polyline clip-path=\"url(#clip6802)\" style=\"stroke:#000000; stroke-width:2; stroke-opacity:0.1; fill:none\" points=\"\n",
              "  203.721,511.996 2352.76,511.996 \n",
              "  \"/>\n",
              "<polyline clip-path=\"url(#clip6802)\" style=\"stroke:#000000; stroke-width:2; stroke-opacity:0.1; fill:none\" points=\"\n",
              "  203.721,200.784 2352.76,200.784 \n",
              "  \"/>\n",
              "<polyline clip-path=\"url(#clip6800)\" style=\"stroke:#000000; stroke-width:4; stroke-opacity:1; fill:none\" points=\"\n",
              "  203.721,1425.62 2352.76,1425.62 \n",
              "  \"/>\n",
              "<polyline clip-path=\"url(#clip6800)\" style=\"stroke:#000000; stroke-width:4; stroke-opacity:1; fill:none\" points=\"\n",
              "  203.721,1425.62 203.721,47.2441 \n",
              "  \"/>\n",
              "<polyline clip-path=\"url(#clip6800)\" style=\"stroke:#000000; stroke-width:4; stroke-opacity:1; fill:none\" points=\"\n",
              "  361.224,1425.62 361.224,1404.94 \n",
              "  \"/>\n",
              "<polyline clip-path=\"url(#clip6800)\" style=\"stroke:#000000; stroke-width:4; stroke-opacity:1; fill:none\" points=\"\n",
              "  736.733,1425.62 736.733,1404.94 \n",
              "  \"/>\n",
              "<polyline clip-path=\"url(#clip6800)\" style=\"stroke:#000000; stroke-width:4; stroke-opacity:1; fill:none\" points=\"\n",
              "  1112.24,1425.62 1112.24,1404.94 \n",
              "  \"/>\n",
              "<polyline clip-path=\"url(#clip6800)\" style=\"stroke:#000000; stroke-width:4; stroke-opacity:1; fill:none\" points=\"\n",
              "  1487.75,1425.62 1487.75,1404.94 \n",
              "  \"/>\n",
              "<polyline clip-path=\"url(#clip6800)\" style=\"stroke:#000000; stroke-width:4; stroke-opacity:1; fill:none\" points=\"\n",
              "  1863.26,1425.62 1863.26,1404.94 \n",
              "  \"/>\n",
              "<polyline clip-path=\"url(#clip6800)\" style=\"stroke:#000000; stroke-width:4; stroke-opacity:1; fill:none\" points=\"\n",
              "  2238.76,1425.62 2238.76,1404.94 \n",
              "  \"/>\n",
              "<polyline clip-path=\"url(#clip6800)\" style=\"stroke:#000000; stroke-width:4; stroke-opacity:1; fill:none\" points=\"\n",
              "  203.721,1134.42 235.956,1134.42 \n",
              "  \"/>\n",
              "<polyline clip-path=\"url(#clip6800)\" style=\"stroke:#000000; stroke-width:4; stroke-opacity:1; fill:none\" points=\"\n",
              "  203.721,823.208 235.956,823.208 \n",
              "  \"/>\n",
              "<polyline clip-path=\"url(#clip6800)\" style=\"stroke:#000000; stroke-width:4; stroke-opacity:1; fill:none\" points=\"\n",
              "  203.721,511.996 235.956,511.996 \n",
              "  \"/>\n",
              "<polyline clip-path=\"url(#clip6800)\" style=\"stroke:#000000; stroke-width:4; stroke-opacity:1; fill:none\" points=\"\n",
              "  203.721,200.784 235.956,200.784 \n",
              "  \"/>\n",
              "<g clip-path=\"url(#clip6800)\">\n",
              "<text style=\"fill:#000000; fill-opacity:1; font-family:Arial,Helvetica Neue,Helvetica,sans-serif; font-size:48px; text-anchor:middle;\" transform=\"rotate(0, 361.224, 1479.62)\" x=\"361.224\" y=\"1479.62\">-0.50</text>\n",
              "</g>\n",
              "<g clip-path=\"url(#clip6800)\">\n",
              "<text style=\"fill:#000000; fill-opacity:1; font-family:Arial,Helvetica Neue,Helvetica,sans-serif; font-size:48px; text-anchor:middle;\" transform=\"rotate(0, 736.733, 1479.62)\" x=\"736.733\" y=\"1479.62\">-0.25</text>\n",
              "</g>\n",
              "<g clip-path=\"url(#clip6800)\">\n",
              "<text style=\"fill:#000000; fill-opacity:1; font-family:Arial,Helvetica Neue,Helvetica,sans-serif; font-size:48px; text-anchor:middle;\" transform=\"rotate(0, 1112.24, 1479.62)\" x=\"1112.24\" y=\"1479.62\">0.00</text>\n",
              "</g>\n",
              "<g clip-path=\"url(#clip6800)\">\n",
              "<text style=\"fill:#000000; fill-opacity:1; font-family:Arial,Helvetica Neue,Helvetica,sans-serif; font-size:48px; text-anchor:middle;\" transform=\"rotate(0, 1487.75, 1479.62)\" x=\"1487.75\" y=\"1479.62\">0.25</text>\n",
              "</g>\n",
              "<g clip-path=\"url(#clip6800)\">\n",
              "<text style=\"fill:#000000; fill-opacity:1; font-family:Arial,Helvetica Neue,Helvetica,sans-serif; font-size:48px; text-anchor:middle;\" transform=\"rotate(0, 1863.26, 1479.62)\" x=\"1863.26\" y=\"1479.62\">0.50</text>\n",
              "</g>\n",
              "<g clip-path=\"url(#clip6800)\">\n",
              "<text style=\"fill:#000000; fill-opacity:1; font-family:Arial,Helvetica Neue,Helvetica,sans-serif; font-size:48px; text-anchor:middle;\" transform=\"rotate(0, 2238.76, 1479.62)\" x=\"2238.76\" y=\"1479.62\">0.75</text>\n",
              "</g>\n",
              "<g clip-path=\"url(#clip6800)\">\n",
              "<text style=\"fill:#000000; fill-opacity:1; font-family:Arial,Helvetica Neue,Helvetica,sans-serif; font-size:48px; text-anchor:end;\" transform=\"rotate(0, 179.721, 1151.92)\" x=\"179.721\" y=\"1151.92\">-2</text>\n",
              "</g>\n",
              "<g clip-path=\"url(#clip6800)\">\n",
              "<text style=\"fill:#000000; fill-opacity:1; font-family:Arial,Helvetica Neue,Helvetica,sans-serif; font-size:48px; text-anchor:end;\" transform=\"rotate(0, 179.721, 840.708)\" x=\"179.721\" y=\"840.708\">0</text>\n",
              "</g>\n",
              "<g clip-path=\"url(#clip6800)\">\n",
              "<text style=\"fill:#000000; fill-opacity:1; font-family:Arial,Helvetica Neue,Helvetica,sans-serif; font-size:48px; text-anchor:end;\" transform=\"rotate(0, 179.721, 529.496)\" x=\"179.721\" y=\"529.496\">2</text>\n",
              "</g>\n",
              "<g clip-path=\"url(#clip6800)\">\n",
              "<text style=\"fill:#000000; fill-opacity:1; font-family:Arial,Helvetica Neue,Helvetica,sans-serif; font-size:48px; text-anchor:end;\" transform=\"rotate(0, 179.721, 218.284)\" x=\"179.721\" y=\"218.284\">4</text>\n",
              "</g>\n",
              "<g clip-path=\"url(#clip6800)\">\n",
              "<text style=\"fill:#000000; fill-opacity:1; font-family:Arial,Helvetica Neue,Helvetica,sans-serif; font-size:66px; text-anchor:middle;\" transform=\"rotate(0, 1278.24, 1559.48)\" x=\"1278.24\" y=\"1559.48\">theta</text>\n",
              "</g>\n",
              "<g clip-path=\"url(#clip6800)\">\n",
              "<text style=\"fill:#000000; fill-opacity:1; font-family:Arial,Helvetica Neue,Helvetica,sans-serif; font-size:66px; text-anchor:middle;\" transform=\"rotate(-90, 89.2861, 736.431)\" x=\"89.2861\" y=\"736.431\">d_theta</text>\n",
              "</g>\n",
              "<polyline clip-path=\"url(#clip6802)\" style=\"stroke:#009af9; stroke-width:4; stroke-opacity:1; fill:none\" points=\"\n",
              "  2291.93,823.208 2290.89,844.766 2287.77,866.298 2282.57,887.779 2275.31,909.186 2265.97,930.495 2254.59,951.681 2241.17,972.72 2225.73,993.587 2208.27,1014.26 \n",
              "  2188.84,1034.7 2167.44,1054.9 2144.11,1074.81 2118.86,1094.42 2091.74,1113.7 2062.78,1132.61 2032,1151.13 1999.46,1169.21 1965.2,1186.84 1929.26,1203.97 \n",
              "  1891.69,1220.56 1852.54,1236.58 1811.87,1252 1769.75,1266.75 1726.24,1280.81 1681.4,1294.11 1635.32,1306.62 1588.06,1318.28 1539.73,1329.04 1490.4,1338.82 \n",
              "  1440.18,1347.59 1389.16,1355.26 1337.45,1361.78 1285.18,1367.06 1232.46,1371.05 1179.41,1373.66 1126.18,1374.82 1072.92,1374.45 1019.76,1372.47 966.884,1368.79 \n",
              "  914.442,1363.35 862.614,1356.06 811.583,1346.85 761.537,1335.64 712.673,1322.37 665.193,1306.97 619.304,1289.4 575.22,1269.6 533.157,1247.54 493.334,1223.2 \n",
              "  455.974,1196.57 421.296,1167.65 389.522,1136.46 360.869,1103.03 335.55,1067.43 313.773,1029.73 295.735,990.024 281.624,948.43 271.617,905.088 265.875,860.162 \n",
              "  264.542,813.839 267.744,766.33 275.582,717.871 288.139,668.722 305.465,619.167 327.588,569.515 354.499,520.098 386.16,471.271 422.497,423.412 463.396,376.92 \n",
              "  508.706,332.215 558.234,289.733 611.744,249.931 668.954,213.279 729.537,180.26 793.118,151.367 859.274,127.101 927.535,107.963 997.379,94.4524 1068.24,87.0589 \n",
              "  1139.5,86.2547 1210.51,92.4851 1280.56,106.158 1348.91,127.629 1414.8,157.189 1477.43,195.049 1535.99,241.321 1589.68,296 1637.67,358.949 1679.18,429.881 \n",
              "  1713.47,508.345 1739.82,593.71 1757.62,685.159 1766.32,781.679 1765.48,882.061 1754.8,984.902 1734.11,1088.61 1703.41,1191.43 1662.87,1291.44 1612.87,1386.61 \n",
              "  \n",
              "  \"/>\n",
              "<path clip-path=\"url(#clip6800)\" d=\"\n",
              "M1989.93 251.724 L2280.76 251.724 L2280.76 130.764 L1989.93 130.764  Z\n",
              "  \" fill=\"#ffffff\" fill-rule=\"evenodd\" fill-opacity=\"1\"/>\n",
              "<polyline clip-path=\"url(#clip6800)\" style=\"stroke:#000000; stroke-width:4; stroke-opacity:1; fill:none\" points=\"\n",
              "  1989.93,251.724 2280.76,251.724 2280.76,130.764 1989.93,130.764 1989.93,251.724 \n",
              "  \"/>\n",
              "<polyline clip-path=\"url(#clip6800)\" style=\"stroke:#009af9; stroke-width:4; stroke-opacity:1; fill:none\" points=\"\n",
              "  2013.93,191.244 2157.93,191.244 \n",
              "  \"/>\n",
              "<g clip-path=\"url(#clip6800)\">\n",
              "<text style=\"fill:#000000; fill-opacity:1; font-family:Arial,Helvetica Neue,Helvetica,sans-serif; font-size:48px; text-anchor:start;\" transform=\"rotate(0, 2181.93, 208.744)\" x=\"2181.93\" y=\"208.744\">y1</text>\n",
              "</g>\n",
              "</svg>\n"
            ]
          },
          "metadata": {}
        }
      ],
      "execution_count": 65,
      "metadata": {
        "collapsed": false,
        "outputHidden": false,
        "inputHidden": false
      }
    }
  ],
  "metadata": {
    "kernel_info": {
      "name": "julia-1.0"
    },
    "language_info": {
      "file_extension": ".jl",
      "name": "julia",
      "mimetype": "application/julia",
      "version": "1.0.0"
    },
    "kernelspec": {
      "name": "julia-1.0",
      "language": "julia",
      "display_name": "Julia 1.0.0"
    },
    "nteract": {
      "version": "0.11.6"
    }
  },
  "nbformat": 4,
  "nbformat_minor": 4
}