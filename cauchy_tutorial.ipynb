{
  "cells": [
    {
      "cell_type": "markdown",
      "source": [
        "## Automatic Differentiation via Contour Integration: "
      ],
      "metadata": {}
    },
    {
      "cell_type": "markdown",
      "source": [
        "## 1. The Cauchy Integral Formula for computing derivatives: "
      ],
      "metadata": {}
    },
    {
      "cell_type": "code",
      "source": [
        "function nabla(f, x::Float64, delta::Float64)\n",
        "\n",
        "  N = round(Int,2*pi/delta)\n",
        "  thetas = vcat(1:N)*delta\n",
        "\n",
        "  ## collect arguments and rotations: \n",
        "  rotations = map(theta -> exp(-im*theta),thetas)\n",
        "  arguments = x .+ conj.(rotations)  \n",
        "\n",
        "  ## calculate expectation: \n",
        "  expectation = 1.0/N*real(sum(map(f,arguments).*rotations))\n",
        "\n",
        "  return expectation\n",
        "\nend"
      ],
      "outputs": [
        {
          "output_type": "execute_result",
          "execution_count": 1,
          "data": {
            "text/plain": [
              "nabla (generic function with 1 method)"
            ]
          },
          "metadata": {}
        }
      ],
      "execution_count": 1,
      "metadata": {
        "collapsed": false,
        "outputHidden": false,
        "inputHidden": false
      }
    },
    {
      "cell_type": "markdown",
      "source": [
        "## 2. A few test cases: "
      ],
      "metadata": {
        "collapsed": false,
        "outputHidden": false,
        "inputHidden": false
      }
    },
    {
      "cell_type": "markdown",
      "source": [
        "### a. A few test functions of a single variable including compositions of functions:"
      ],
      "metadata": {}
    },
    {
      "cell_type": "code",
      "source": [
        "cosh_(x) = (exp(x)+exp(-x))/2\n",
        "\n",
        "g(x) = (x-1)^2 + (x-2)^4 + (x-3)^6\n",
        "\n",
        "h(x) = cos(x)\n",
        "\n",
        "l = g ∘ h\n",
        "\nm = g ∘ cosh_"
      ],
      "outputs": [
        {
          "output_type": "execute_result",
          "execution_count": 2,
          "data": {
            "text/plain": [
              "#52 (generic function with 1 method)"
            ]
          },
          "metadata": {}
        }
      ],
      "execution_count": 2,
      "metadata": {
        "collapsed": false,
        "outputHidden": false,
        "inputHidden": false
      }
    },
    {
      "cell_type": "markdown",
      "source": [
        "### b. Test it on cosine: "
      ],
      "metadata": {}
    },
    {
      "cell_type": "code",
      "source": [
        "delta = (2*pi)/1000\n",
        "\nnabla(h, pi/2, delta)"
      ],
      "outputs": [
        {
          "output_type": "execute_result",
          "execution_count": 3,
          "data": {
            "text/plain": [
              "-1.0000000000000016"
            ]
          },
          "metadata": {}
        }
      ],
      "execution_count": 3,
      "metadata": {
        "collapsed": false,
        "outputHidden": false,
        "inputHidden": false
      }
    },
    {
      "cell_type": "markdown",
      "source": [
        "### c. Test it on compositions of functions:"
      ],
      "metadata": {}
    },
    {
      "cell_type": "code",
      "source": [
        "delta = (2*pi)/1000\n",
        "\nnabla(m, 1.0, delta) "
      ],
      "outputs": [
        {
          "output_type": "execute_result",
          "execution_count": 4,
          "data": {
            "text/plain": [
              "-45.45705185890576"
            ]
          },
          "metadata": {}
        }
      ],
      "execution_count": 4,
      "metadata": {
        "collapsed": false,
        "outputHidden": false,
        "inputHidden": false
      }
    },
    {
      "cell_type": "markdown",
      "source": [
        "#### Wolfram Alpha agrees with the above calculations. A good sign."
      ],
      "metadata": {}
    },
    {
      "cell_type": "markdown",
      "source": [
        "## 3. Using the Cauchy Integral Formula to perform gradient descent: "
      ],
      "metadata": {}
    },
    {
      "cell_type": "code",
      "source": [
        "function gradient_descent(f,x_p::Float64,alpha::Float64)\n",
        "\n",
        "  ## 100 steps\n",
        "  for i=1:100\n",
        "\n",
        "    x_n = x_p - alpha*nabla(f,x_p,delta)\n",
        "    x_p = x_n\n",
        "\n",
        "  end\n",
        "\n",
        "  return x_p\n",
        "\nend"
      ],
      "outputs": [
        {
          "output_type": "execute_result",
          "execution_count": 5,
          "data": {
            "text/plain": [
              "gradient_descent (generic function with 1 method)"
            ]
          },
          "metadata": {}
        }
      ],
      "execution_count": 5,
      "metadata": {
        "collapsed": false,
        "outputHidden": false,
        "inputHidden": false
      }
    },
    {
      "cell_type": "code",
      "source": [
        "## initial value: \n",
        "x_p = 5.0 \n",
        "\n",
        "## learning rate: \n",
        "alpha = 0.01 \n",
        "\nx_min = gradient_descent(g,x_p,alpha)"
      ],
      "outputs": [
        {
          "output_type": "execute_result",
          "execution_count": 6,
          "data": {
            "text/plain": [
              "2.1702275657206824"
            ]
          },
          "metadata": {}
        }
      ],
      "execution_count": 6,
      "metadata": {
        "collapsed": false,
        "outputHidden": false,
        "inputHidden": false
      }
    },
    {
      "cell_type": "code",
      "source": [
        "## check solution: \n",
        "\ng(x_min)"
      ],
      "outputs": [
        {
          "output_type": "execute_result",
          "execution_count": 7,
          "data": {
            "text/plain": [
              "1.6966751541950713"
            ]
          },
          "metadata": {}
        }
      ],
      "execution_count": 7,
      "metadata": {
        "collapsed": false,
        "outputHidden": false,
        "inputHidden": false
      }
    },
    {
      "cell_type": "markdown",
      "source": [
        "## 4. Using the Cauchy Integral Formula to compute Partial Derivatives: "
      ],
      "metadata": {}
    },
    {
      "cell_type": "markdown",
      "source": [
        "#### a. Define a function of several variables, in this case three: "
      ],
      "metadata": {}
    },
    {
      "cell_type": "code",
      "source": [
        "q(X) = X[1] + X[2]^2 + cos(X[3])\n",
        "\n",
        "## kronecker delta, which will come in handy:\n",
        "\n",
        "kd(i,n) = [j==i for j in 1:n]\n",
        "\n",
        "## use q to create three functions of a single variable where \n",
        "## all the other variables are held constant: \n",
        "\n",
        "q1 = x -> q(x*kd(1,3) .+ X.*(ones(3)-kd(1,3)))\n",
        "\n",
        "q2 = x -> q(x*kd(2,3) .+ X.*(ones(3)-kd(2,3)))\n",
        "\nq3 = x -> q(x*kd(3,3) .+ X.*(ones(3)-kd(3,3)))"
      ],
      "outputs": [
        {
          "output_type": "execute_result",
          "execution_count": 23,
          "data": {
            "text/plain": [
              "#41 (generic function with 1 method)"
            ]
          },
          "metadata": {}
        }
      ],
      "execution_count": 23,
      "metadata": {
        "collapsed": false,
        "outputHidden": false,
        "inputHidden": false
      }
    },
    {
      "cell_type": "markdown",
      "source": [
        "#### b. Compute all three partial derivatives:"
      ],
      "metadata": {}
    },
    {
      "cell_type": "code",
      "source": [
        "## computations are done with respect to a point X:\n",
        "X = [0.0,0.0,0.0]\n",
        "\n",
        "## then compute three partial derivatives: \n",
        "nabla(q1,X[1],delta)"
      ],
      "outputs": [
        {
          "output_type": "execute_result",
          "execution_count": 24,
          "data": {
            "text/plain": [
              "0.9999999999999994"
            ]
          },
          "metadata": {}
        }
      ],
      "execution_count": 24,
      "metadata": {
        "collapsed": false,
        "outputHidden": false,
        "inputHidden": false
      }
    },
    {
      "cell_type": "code",
      "source": [
        "nabla(q2,X[2],delta)"
      ],
      "outputs": [
        {
          "output_type": "execute_result",
          "execution_count": 25,
          "data": {
            "text/plain": [
              "-4.4408920985006264e-17"
            ]
          },
          "metadata": {}
        }
      ],
      "execution_count": 25,
      "metadata": {
        "collapsed": false,
        "outputHidden": false,
        "inputHidden": false
      }
    },
    {
      "cell_type": "code",
      "source": [
        "nabla(q3,X[3],delta)"
      ],
      "outputs": [
        {
          "output_type": "execute_result",
          "execution_count": 26,
          "data": {
            "text/plain": [
              "1.98729921407903e-17"
            ]
          },
          "metadata": {}
        }
      ],
      "execution_count": 26,
      "metadata": {
        "collapsed": false,
        "outputHidden": false,
        "inputHidden": false
      }
    },
    {
      "cell_type": "markdown",
      "source": [
        "## 5. The case where we have some uncertainty about the function to be evaluated: "
      ],
      "metadata": {}
    },
    {
      "cell_type": "code",
      "source": [
        "### If we are uncertain about f, which is generally the case, a more refined grid over [0,2*pi] may \n",
        "### actually yield a more biased answer so it may be better to use noise present in the biological \n",
        "### system to come up with a cheap and fast monte-carlo estimate.\n",
        "\n",
        "### This motivates the definition of monte-carlo gradients using half the usual number of points and the definition\n",
        "### of the gradient as an expected value:\n",
        "\n",
        "function mc_nabla(f, x::Float64, delta::Float64)\n",
        "\n",
        "  N = round(Int,2*pi/delta)\n",
        "\n",
        "  ## sample with only half the number of points: \n",
        "  sample = rand(1:N,round(Int,N/2)) \n",
        "  thetas = sample*delta\n",
        "\n",
        "  ## collect arguments and rotations: \n",
        "  rotations = map(theta -> exp(-im*theta),thetas)\n",
        "  arguments = x .+ conj.(rotations)  \n",
        "\n",
        "  ## calculate expectation: \n",
        "  expectation = 2.0/N*real(sum(map(f,arguments).*rotations))\n",
        "\n",
        "  return expectation\n",
        "\nend"
      ],
      "outputs": [
        {
          "output_type": "execute_result",
          "execution_count": 10,
          "data": {
            "text/plain": [
              "mc_nabla (generic function with 1 method)"
            ]
          },
          "metadata": {}
        }
      ],
      "execution_count": 10,
      "metadata": {
        "collapsed": false,
        "outputHidden": false,
        "inputHidden": false
      }
    },
    {
      "cell_type": "markdown",
      "source": [
        "## 6. Simulating a spring pendulum using the Euler-Lagrange equations: "
      ],
      "metadata": {}
    },
    {
      "cell_type": "markdown",
      "source": [
        "### a. We define the Lagrangian then proceed as we did for calculating partial derivatives earlier: "
      ],
      "metadata": {}
    },
    {
      "cell_type": "code",
      "source": [
        "## The Lagrangian where we assume the length of the unextended spring is 1.0 and mass is 1.0 kg: \n",
        "L(X) = 0.5*(X[3]^2+(1.0+X[1])^2*X[4]^2)+9.8*(1.0+X[1])*cos(X[2])-0.5*X[1]^2\n",
        "\n",
        "## kronecker delta, which will come in handy:\n",
        "kd(i,n) = [j==i for j in 1:n]\n",
        "\n",
        "##  All four variables will be stored in this array:\n",
        "Z = zeros(100,4)\n",
        "\n",
        "## The initial conditions: \n",
        "Z[1,:] = [1.0,pi/4,0.0,0.0]"
      ],
      "outputs": [
        {
          "output_type": "execute_result",
          "execution_count": 2,
          "data": {
            "text/plain": [
              "4-element Array{Float64,1}:\n",
              " 1.0               \n",
              " 0.7853981633974483\n",
              " 0.0               \n",
              " 0.0               "
            ]
          },
          "metadata": {}
        }
      ],
      "execution_count": 2,
      "metadata": {
        "collapsed": false,
        "outputHidden": false,
        "inputHidden": false
      }
    },
    {
      "cell_type": "markdown",
      "source": [
        "### b. Simulate the spring pendulum using the leapfrog method: "
      ],
      "metadata": {}
    },
    {
      "cell_type": "code",
      "source": [
        "delta = (2*pi)/1000\n",
        "\n",
        "dt = 0.01\n",
        "\n",
        "## simulate the pendulum system: \n",
        "for i=1:99\n",
        "\n",
        "\t## apply kronecker delta so we can compute partial derivatives: \n",
        "\tdd_theta = x -> L(x*kd(2,4) .+ Z[i,:].*(ones(4)-kd(2,4)))\n",
        "\n",
        "\tdd_x = x -> L(x*kd(1,4) .+ Z[i,:].*(ones(4)-kd(1,4)))\n",
        "\n",
        "\t## update angle: \n",
        "\tZ[i+1,1] = Z[i,1] + Z[i,3]*dt + 0.5*(nabla(dd_x,Z[i,1],delta))*dt^2\n",
        "\n",
        "\t## update position: \n",
        "\tZ[i+1,2] = Z[i,2] + Z[i,4]*dt + 0.5*(nabla(dd_theta,Z[i,2],delta))*dt^2\n",
        "\n",
        "\t## update derivatives:\n",
        "\tZ[i+1,3] = Z[i,3] + 0.5*(nabla(dd_x,Z[i,1],delta)+nabla(dd_x,Z[i+1,1],delta))*dt\n",
        "\n",
        "\tZ[i+1,4] = Z[i,4] + 0.5*(nabla(dd_theta,Z[i,2],delta)+nabla(dd_theta,Z[i+1,2],delta))*dt\n",
        "\nend"
      ],
      "outputs": [],
      "execution_count": 39,
      "metadata": {
        "collapsed": false,
        "outputHidden": false,
        "inputHidden": false
      }
    },
    {
      "cell_type": "markdown",
      "source": [
        "### c. Visualising the system: "
      ],
      "metadata": {}
    },
    {
      "cell_type": "code",
      "source": [
        "using Plots\n",
        "\n",
        "## plotting angular velocity(dtheta) against angle(theta): \n",
        "plot(Z[:,4],Z[:,2])"
      ],
      "outputs": [
        {
          "output_type": "execute_result",
          "execution_count": 40,
          "data": {
            "image/svg+xml": [
              "<?xml version=\"1.0\" encoding=\"utf-8\"?>\n",
              "<svg xmlns=\"http://www.w3.org/2000/svg\" xmlns:xlink=\"http://www.w3.org/1999/xlink\" width=\"600\" height=\"400\" viewBox=\"0 0 2400 1600\">\n",
              "<defs>\n",
              "  <clipPath id=\"clip7900\">\n",
              "    <rect x=\"0\" y=\"0\" width=\"2400\" height=\"1600\"/>\n",
              "  </clipPath>\n",
              "</defs>\n",
              "<path clip-path=\"url(#clip7900)\" d=\"\n",
              "M0 1600 L2400 1600 L2400 0 L0 0  Z\n",
              "  \" fill=\"#ffffff\" fill-rule=\"evenodd\" fill-opacity=\"1\"/>\n",
              "<defs>\n",
              "  <clipPath id=\"clip7901\">\n",
              "    <rect x=\"480\" y=\"0\" width=\"1681\" height=\"1600\"/>\n",
              "  </clipPath>\n",
              "</defs>\n",
              "<path clip-path=\"url(#clip7900)\" d=\"\n",
              "M208.77 1487.47 L2352.76 1487.47 L2352.76 47.2441 L208.77 47.2441  Z\n",
              "  \" fill=\"#ffffff\" fill-rule=\"evenodd\" fill-opacity=\"1\"/>\n",
              "<defs>\n",
              "  <clipPath id=\"clip7902\">\n",
              "    <rect x=\"208\" y=\"47\" width=\"2145\" height=\"1441\"/>\n",
              "  </clipPath>\n",
              "</defs>\n",
              "<polyline clip-path=\"url(#clip7902)\" style=\"stroke:#000000; stroke-width:2; stroke-opacity:0.1; fill:none\" points=\"\n",
              "  661.715,1487.47 661.715,47.2441 \n",
              "  \"/>\n",
              "<polyline clip-path=\"url(#clip7902)\" style=\"stroke:#000000; stroke-width:2; stroke-opacity:0.1; fill:none\" points=\"\n",
              "  1145.79,1487.47 1145.79,47.2441 \n",
              "  \"/>\n",
              "<polyline clip-path=\"url(#clip7902)\" style=\"stroke:#000000; stroke-width:2; stroke-opacity:0.1; fill:none\" points=\"\n",
              "  1629.86,1487.47 1629.86,47.2441 \n",
              "  \"/>\n",
              "<polyline clip-path=\"url(#clip7902)\" style=\"stroke:#000000; stroke-width:2; stroke-opacity:0.1; fill:none\" points=\"\n",
              "  2113.93,1487.47 2113.93,47.2441 \n",
              "  \"/>\n",
              "<polyline clip-path=\"url(#clip7902)\" style=\"stroke:#000000; stroke-width:2; stroke-opacity:0.1; fill:none\" points=\"\n",
              "  208.77,1381.92 2352.76,1381.92 \n",
              "  \"/>\n",
              "<polyline clip-path=\"url(#clip7902)\" style=\"stroke:#000000; stroke-width:2; stroke-opacity:0.1; fill:none\" points=\"\n",
              "  208.77,1130.26 2352.76,1130.26 \n",
              "  \"/>\n",
              "<polyline clip-path=\"url(#clip7902)\" style=\"stroke:#000000; stroke-width:2; stroke-opacity:0.1; fill:none\" points=\"\n",
              "  208.77,878.607 2352.76,878.607 \n",
              "  \"/>\n",
              "<polyline clip-path=\"url(#clip7902)\" style=\"stroke:#000000; stroke-width:2; stroke-opacity:0.1; fill:none\" points=\"\n",
              "  208.77,626.951 2352.76,626.951 \n",
              "  \"/>\n",
              "<polyline clip-path=\"url(#clip7902)\" style=\"stroke:#000000; stroke-width:2; stroke-opacity:0.1; fill:none\" points=\"\n",
              "  208.77,375.294 2352.76,375.294 \n",
              "  \"/>\n",
              "<polyline clip-path=\"url(#clip7902)\" style=\"stroke:#000000; stroke-width:2; stroke-opacity:0.1; fill:none\" points=\"\n",
              "  208.77,123.638 2352.76,123.638 \n",
              "  \"/>\n",
              "<polyline clip-path=\"url(#clip7900)\" style=\"stroke:#000000; stroke-width:4; stroke-opacity:1; fill:none\" points=\"\n",
              "  208.77,1487.47 2352.76,1487.47 \n",
              "  \"/>\n",
              "<polyline clip-path=\"url(#clip7900)\" style=\"stroke:#000000; stroke-width:4; stroke-opacity:1; fill:none\" points=\"\n",
              "  208.77,1487.47 208.77,47.2441 \n",
              "  \"/>\n",
              "<polyline clip-path=\"url(#clip7900)\" style=\"stroke:#000000; stroke-width:4; stroke-opacity:1; fill:none\" points=\"\n",
              "  661.715,1487.47 661.715,1465.87 \n",
              "  \"/>\n",
              "<polyline clip-path=\"url(#clip7900)\" style=\"stroke:#000000; stroke-width:4; stroke-opacity:1; fill:none\" points=\"\n",
              "  1145.79,1487.47 1145.79,1465.87 \n",
              "  \"/>\n",
              "<polyline clip-path=\"url(#clip7900)\" style=\"stroke:#000000; stroke-width:4; stroke-opacity:1; fill:none\" points=\"\n",
              "  1629.86,1487.47 1629.86,1465.87 \n",
              "  \"/>\n",
              "<polyline clip-path=\"url(#clip7900)\" style=\"stroke:#000000; stroke-width:4; stroke-opacity:1; fill:none\" points=\"\n",
              "  2113.93,1487.47 2113.93,1465.87 \n",
              "  \"/>\n",
              "<polyline clip-path=\"url(#clip7900)\" style=\"stroke:#000000; stroke-width:4; stroke-opacity:1; fill:none\" points=\"\n",
              "  208.77,1381.92 240.93,1381.92 \n",
              "  \"/>\n",
              "<polyline clip-path=\"url(#clip7900)\" style=\"stroke:#000000; stroke-width:4; stroke-opacity:1; fill:none\" points=\"\n",
              "  208.77,1130.26 240.93,1130.26 \n",
              "  \"/>\n",
              "<polyline clip-path=\"url(#clip7900)\" style=\"stroke:#000000; stroke-width:4; stroke-opacity:1; fill:none\" points=\"\n",
              "  208.77,878.607 240.93,878.607 \n",
              "  \"/>\n",
              "<polyline clip-path=\"url(#clip7900)\" style=\"stroke:#000000; stroke-width:4; stroke-opacity:1; fill:none\" points=\"\n",
              "  208.77,626.951 240.93,626.951 \n",
              "  \"/>\n",
              "<polyline clip-path=\"url(#clip7900)\" style=\"stroke:#000000; stroke-width:4; stroke-opacity:1; fill:none\" points=\"\n",
              "  208.77,375.294 240.93,375.294 \n",
              "  \"/>\n",
              "<polyline clip-path=\"url(#clip7900)\" style=\"stroke:#000000; stroke-width:4; stroke-opacity:1; fill:none\" points=\"\n",
              "  208.77,123.638 240.93,123.638 \n",
              "  \"/>\n",
              "<g clip-path=\"url(#clip7900)\">\n",
              "<text style=\"fill:#000000; fill-opacity:1; font-family:Arial,Helvetica Neue,Helvetica,sans-serif; font-size:48px; text-anchor:middle;\" transform=\"rotate(0, 661.715, 1541.47)\" x=\"661.715\" y=\"1541.47\">-2</text>\n",
              "</g>\n",
              "<g clip-path=\"url(#clip7900)\">\n",
              "<text style=\"fill:#000000; fill-opacity:1; font-family:Arial,Helvetica Neue,Helvetica,sans-serif; font-size:48px; text-anchor:middle;\" transform=\"rotate(0, 1145.79, 1541.47)\" x=\"1145.79\" y=\"1541.47\">0</text>\n",
              "</g>\n",
              "<g clip-path=\"url(#clip7900)\">\n",
              "<text style=\"fill:#000000; fill-opacity:1; font-family:Arial,Helvetica Neue,Helvetica,sans-serif; font-size:48px; text-anchor:middle;\" transform=\"rotate(0, 1629.86, 1541.47)\" x=\"1629.86\" y=\"1541.47\">2</text>\n",
              "</g>\n",
              "<g clip-path=\"url(#clip7900)\">\n",
              "<text style=\"fill:#000000; fill-opacity:1; font-family:Arial,Helvetica Neue,Helvetica,sans-serif; font-size:48px; text-anchor:middle;\" transform=\"rotate(0, 2113.93, 1541.47)\" x=\"2113.93\" y=\"1541.47\">4</text>\n",
              "</g>\n",
              "<g clip-path=\"url(#clip7900)\">\n",
              "<text style=\"fill:#000000; fill-opacity:1; font-family:Arial,Helvetica Neue,Helvetica,sans-serif; font-size:48px; text-anchor:end;\" transform=\"rotate(0, 184.77, 1399.42)\" x=\"184.77\" y=\"1399.42\">-0.50</text>\n",
              "</g>\n",
              "<g clip-path=\"url(#clip7900)\">\n",
              "<text style=\"fill:#000000; fill-opacity:1; font-family:Arial,Helvetica Neue,Helvetica,sans-serif; font-size:48px; text-anchor:end;\" transform=\"rotate(0, 184.77, 1147.76)\" x=\"184.77\" y=\"1147.76\">-0.25</text>\n",
              "</g>\n",
              "<g clip-path=\"url(#clip7900)\">\n",
              "<text style=\"fill:#000000; fill-opacity:1; font-family:Arial,Helvetica Neue,Helvetica,sans-serif; font-size:48px; text-anchor:end;\" transform=\"rotate(0, 184.77, 896.107)\" x=\"184.77\" y=\"896.107\">0.00</text>\n",
              "</g>\n",
              "<g clip-path=\"url(#clip7900)\">\n",
              "<text style=\"fill:#000000; fill-opacity:1; font-family:Arial,Helvetica Neue,Helvetica,sans-serif; font-size:48px; text-anchor:end;\" transform=\"rotate(0, 184.77, 644.451)\" x=\"184.77\" y=\"644.451\">0.25</text>\n",
              "</g>\n",
              "<g clip-path=\"url(#clip7900)\">\n",
              "<text style=\"fill:#000000; fill-opacity:1; font-family:Arial,Helvetica Neue,Helvetica,sans-serif; font-size:48px; text-anchor:end;\" transform=\"rotate(0, 184.77, 392.794)\" x=\"184.77\" y=\"392.794\">0.50</text>\n",
              "</g>\n",
              "<g clip-path=\"url(#clip7900)\">\n",
              "<text style=\"fill:#000000; fill-opacity:1; font-family:Arial,Helvetica Neue,Helvetica,sans-serif; font-size:48px; text-anchor:end;\" transform=\"rotate(0, 184.77, 141.138)\" x=\"184.77\" y=\"141.138\">0.75</text>\n",
              "</g>\n",
              "<polyline clip-path=\"url(#clip7902)\" style=\"stroke:#009af9; stroke-width:4; stroke-opacity:1; fill:none\" points=\"\n",
              "  1145.79,88.0053 1112.25,88.7029 1078.76,90.7947 1045.35,94.2783 1012.05,99.1496 978.908,105.403 945.954,113.031 913.228,122.026 880.771,132.377 848.622,144.072 \n",
              "  816.821,157.097 785.409,171.437 754.429,187.076 723.926,203.993 693.943,222.169 664.528,241.581 635.729,262.204 607.595,284.011 580.18,306.974 553.538,331.063 \n",
              "  527.725,356.242 502.802,382.478 478.832,409.731 455.881,437.961 434.02,467.123 413.321,497.171 393.863,528.055 375.727,559.722 359,592.115 343.773,625.172 \n",
              "  330.142,658.831 318.207,693.023 308.073,727.674 299.848,762.708 293.646,798.042 289.583,833.591 287.781,869.262 288.359,904.96 291.443,940.582 297.156,976.022 \n",
              "  305.623,1011.17 316.963,1045.9 331.294,1080.1 348.729,1113.64 369.373,1146.39 393.32,1178.21 420.656,1208.96 451.45,1238.51 485.758,1266.69 523.617,1293.38 \n",
              "  565.042,1318.42 610.029,1341.66 658.545,1362.96 710.534,1382.16 765.908,1399.13 824.551,1413.72 886.313,1425.81 951.011,1435.27 1018.43,1441.97 1088.31,1445.82 \n",
              "  1160.36,1446.71 1234.26,1444.57 1309.63,1439.31 1386.08,1430.9 1463.16,1419.29 1540.39,1404.46 1617.26,1386.43 1693.21,1365.21 1767.65,1340.86 1839.96,1313.45 \n",
              "  1909.5,1283.08 1975.58,1249.89 2037.49,1214.03 2094.5,1175.69 2145.86,1135.09 2190.8,1092.48 2228.54,1048.14 2258.31,1002.39 2279.33,955.584 2290.83,908.095 \n",
              "  2292.08,860.336 2282.39,812.75 2261.12,765.805 2227.72,719.997 2181.74,675.84 2122.85,633.866 2050.88,594.618 1965.83,558.642 1867.92,526.479 1757.59,498.657 \n",
              "  1635.54,475.679 1502.76,458.016 1360.51,446.089 1210.38,440.261 1054.24,440.823 894.281,447.982 732.966,461.849 573.037,482.423 417.472,509.588 269.449,543.097 \n",
              "  \n",
              "  \"/>\n",
              "<path clip-path=\"url(#clip7900)\" d=\"\n",
              "M1989.93 251.724 L2280.76 251.724 L2280.76 130.764 L1989.93 130.764  Z\n",
              "  \" fill=\"#ffffff\" fill-rule=\"evenodd\" fill-opacity=\"1\"/>\n",
              "<polyline clip-path=\"url(#clip7900)\" style=\"stroke:#000000; stroke-width:4; stroke-opacity:1; fill:none\" points=\"\n",
              "  1989.93,251.724 2280.76,251.724 2280.76,130.764 1989.93,130.764 1989.93,251.724 \n",
              "  \"/>\n",
              "<polyline clip-path=\"url(#clip7900)\" style=\"stroke:#009af9; stroke-width:4; stroke-opacity:1; fill:none\" points=\"\n",
              "  2013.93,191.244 2157.93,191.244 \n",
              "  \"/>\n",
              "<g clip-path=\"url(#clip7900)\">\n",
              "<text style=\"fill:#000000; fill-opacity:1; font-family:Arial,Helvetica Neue,Helvetica,sans-serif; font-size:48px; text-anchor:start;\" transform=\"rotate(0, 2181.93, 208.744)\" x=\"2181.93\" y=\"208.744\">y1</text>\n",
              "</g>\n",
              "</svg>\n"
            ]
          },
          "metadata": {}
        }
      ],
      "execution_count": 40,
      "metadata": {
        "collapsed": false,
        "outputHidden": false,
        "inputHidden": false
      }
    }
  ],
  "metadata": {
    "kernel_info": {
      "name": "julia-1.0"
    },
    "language_info": {
      "file_extension": ".jl",
      "name": "julia",
      "mimetype": "application/julia",
      "version": "1.0.0"
    },
    "kernelspec": {
      "name": "julia-1.0",
      "language": "julia",
      "display_name": "Julia 1.0.0"
    },
    "nteract": {
      "version": "0.11.6"
    }
  },
  "nbformat": 4,
  "nbformat_minor": 4
}