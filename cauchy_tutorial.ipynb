{
  "cells": [
    {
      "cell_type": "markdown",
      "source": [
        "## Automatic Differentiation via Contour Integration: "
      ],
      "metadata": {}
    },
    {
      "cell_type": "markdown",
      "source": [
        "## 1. The Cauchy Integral Formula for computing derivatives: "
      ],
      "metadata": {}
    },
    {
      "cell_type": "code",
      "source": [
        "function nabla(f, x::Float64, delta::Float64)\n",
        "\n",
        "  N = round(Int,2*pi/delta)\n",
        "  thetas = vcat(1:N)*delta\n",
        "\n",
        "  ## collect arguments and rotations: \n",
        "  rotations = map(theta -> exp(-im*theta),thetas)\n",
        "  arguments = x .+ conj.(rotations)  \n",
        "\n",
        "  ## calculate expectation: \n",
        "  expectation = 1.0/N*real(sum(map(f,arguments).*rotations))\n",
        "\n",
        "  return expectation\n",
        "\nend"
      ],
      "outputs": [
        {
          "output_type": "execute_result",
          "execution_count": 2,
          "data": {
            "text/plain": [
              "nabla (generic function with 1 method)"
            ]
          },
          "metadata": {}
        }
      ],
      "execution_count": 2,
      "metadata": {
        "collapsed": false,
        "outputHidden": false,
        "inputHidden": false
      }
    },
    {
      "cell_type": "markdown",
      "source": [
        "## 2. A few test cases: "
      ],
      "metadata": {
        "collapsed": false,
        "outputHidden": false,
        "inputHidden": false
      }
    },
    {
      "cell_type": "markdown",
      "source": [
        "### a. A few test functions of a single variable including compositions of functions:"
      ],
      "metadata": {}
    },
    {
      "cell_type": "code",
      "source": [
        "cosh_(x) = (exp(x)+exp(-x))/2\n",
        "\n",
        "g(x) = (x-1)^2 + (x-2)^4 + (x-3)^6\n",
        "\n",
        "h(x) = cos(x)\n",
        "\n",
        "l = g ∘ h\n",
        "\nm = g ∘ cosh_"
      ],
      "outputs": [
        {
          "output_type": "execute_result",
          "execution_count": 3,
          "data": {
            "text/plain": [
              "#52 (generic function with 1 method)"
            ]
          },
          "metadata": {}
        }
      ],
      "execution_count": 3,
      "metadata": {
        "collapsed": false,
        "outputHidden": false,
        "inputHidden": false
      }
    },
    {
      "cell_type": "markdown",
      "source": [
        "### b. Test it on cosine: "
      ],
      "metadata": {}
    },
    {
      "cell_type": "code",
      "source": [
        "delta = (2*pi)/1000\n",
        "\nnabla(h, pi/2, delta)"
      ],
      "outputs": [
        {
          "output_type": "execute_result",
          "execution_count": 4,
          "data": {
            "text/plain": [
              "-1.0000000000000016"
            ]
          },
          "metadata": {}
        }
      ],
      "execution_count": 4,
      "metadata": {
        "collapsed": false,
        "outputHidden": false,
        "inputHidden": false
      }
    },
    {
      "cell_type": "markdown",
      "source": [
        "### c. Test it on compositions of functions:"
      ],
      "metadata": {}
    },
    {
      "cell_type": "code",
      "source": [
        "delta = (2*pi)/1000\n",
        "\nnabla(m, 1.0, delta) "
      ],
      "outputs": [
        {
          "output_type": "execute_result",
          "execution_count": 5,
          "data": {
            "text/plain": [
              "-45.45705185890576"
            ]
          },
          "metadata": {}
        }
      ],
      "execution_count": 5,
      "metadata": {
        "collapsed": false,
        "outputHidden": false,
        "inputHidden": false
      }
    },
    {
      "cell_type": "markdown",
      "source": [
        "#### Wolfram Alpha agrees with the above calculations. A good sign."
      ],
      "metadata": {}
    },
    {
      "cell_type": "markdown",
      "source": [
        "## 3. Using the Cauchy Integral Formula to perform gradient descent: "
      ],
      "metadata": {}
    },
    {
      "cell_type": "code",
      "source": [
        "function gradient_descent(f,x_p::Float64,alpha::Float64)\n",
        "\n",
        "  ## 100 steps\n",
        "  for i=1:100\n",
        "\n",
        "    x_n = x_p - alpha*nabla(f,x_p,delta)\n",
        "    x_p = x_n\n",
        "\n",
        "  end\n",
        "\n",
        "  return x_p\n",
        "\nend"
      ],
      "outputs": [
        {
          "output_type": "execute_result",
          "execution_count": 6,
          "data": {
            "text/plain": [
              "gradient_descent (generic function with 1 method)"
            ]
          },
          "metadata": {}
        }
      ],
      "execution_count": 6,
      "metadata": {
        "collapsed": false,
        "outputHidden": false,
        "inputHidden": false
      }
    },
    {
      "cell_type": "code",
      "source": [
        "## initial value: \n",
        "x_p = 5.0 \n",
        "\n",
        "## learning rate: \n",
        "alpha = 0.01 \n",
        "\nx_min = gradient_descent(g,x_p,alpha)"
      ],
      "outputs": [
        {
          "output_type": "execute_result",
          "execution_count": 7,
          "data": {
            "text/plain": [
              "2.1702275657206824"
            ]
          },
          "metadata": {}
        }
      ],
      "execution_count": 7,
      "metadata": {
        "collapsed": false,
        "outputHidden": false,
        "inputHidden": false
      }
    },
    {
      "cell_type": "code",
      "source": [
        "## check solution: \n",
        "\ng(x_min)"
      ],
      "outputs": [
        {
          "output_type": "execute_result",
          "execution_count": 8,
          "data": {
            "text/plain": [
              "1.6966751541950713"
            ]
          },
          "metadata": {}
        }
      ],
      "execution_count": 8,
      "metadata": {
        "collapsed": false,
        "outputHidden": false,
        "inputHidden": false
      }
    },
    {
      "cell_type": "markdown",
      "source": [
        "## 4. Using the Cauchy Integral Formula to compute Partial Derivatives: "
      ],
      "metadata": {}
    },
    {
      "cell_type": "markdown",
      "source": [
        "#### a. Define a function of several variables, in this case three: "
      ],
      "metadata": {}
    },
    {
      "cell_type": "code",
      "source": [
        "q(X) = X[1] + X[2]^2 + cos(X[3])\n",
        "\n",
        "## kronecker delta, which will come in handy:\n",
        "\n",
        "kd(i,n) = [j==i for j in 1:n]\n",
        "\n",
        "## use q to create three functions of a single variable where \n",
        "## all the other variables are held constant: \n",
        "\n",
        "q1 = x -> q(x*kd(1,3) .+ X.*(ones(3)-kd(1,3)))\n",
        "\n",
        "q2 = x -> q(x*kd(2,3) .+ X.*(ones(3)-kd(2,3)))\n",
        "\nq3 = x -> q(x*kd(3,3) .+ X.*(ones(3)-kd(3,3)))"
      ],
      "outputs": [
        {
          "output_type": "execute_result",
          "execution_count": 9,
          "data": {
            "text/plain": [
              "#11 (generic function with 1 method)"
            ]
          },
          "metadata": {}
        }
      ],
      "execution_count": 9,
      "metadata": {
        "collapsed": false,
        "outputHidden": false,
        "inputHidden": false
      }
    },
    {
      "cell_type": "markdown",
      "source": [
        "#### b. Compute all three partial derivatives:"
      ],
      "metadata": {}
    },
    {
      "cell_type": "code",
      "source": [
        "## computations are done with respect to a point X:\n",
        "X = [0.0,0.0,pi/2.0]"
      ],
      "outputs": [
        {
          "output_type": "execute_result",
          "execution_count": 31,
          "data": {
            "text/plain": [
              "3-element Array{Float64,1}:\n",
              " 0.0               \n",
              " 0.0               \n",
              " 1.5707963267948966"
            ]
          },
          "metadata": {}
        }
      ],
      "execution_count": 31,
      "metadata": {
        "collapsed": false,
        "outputHidden": false,
        "inputHidden": false
      }
    },
    {
      "cell_type": "code",
      "source": [
        "## first partial derivative: \n",
        "nabla(q1,X[1],delta)"
      ],
      "outputs": [
        {
          "output_type": "execute_result",
          "execution_count": 33,
          "data": {
            "text/plain": [
              "1.0"
            ]
          },
          "metadata": {}
        }
      ],
      "execution_count": 33,
      "metadata": {
        "collapsed": false,
        "outputHidden": false,
        "inputHidden": false
      }
    },
    {
      "cell_type": "code",
      "source": [
        "## second partial derivative: \n",
        "nabla(q2,X[2],delta)"
      ],
      "outputs": [
        {
          "output_type": "execute_result",
          "execution_count": 34,
          "data": {
            "text/plain": [
              "-1.1324274851176598e-17"
            ]
          },
          "metadata": {}
        }
      ],
      "execution_count": 34,
      "metadata": {
        "collapsed": false,
        "outputHidden": false,
        "inputHidden": false
      }
    },
    {
      "cell_type": "code",
      "source": [
        "## third partial derivative:\n",
        "nabla(q3,X[3],delta)"
      ],
      "outputs": [
        {
          "output_type": "execute_result",
          "execution_count": 35,
          "data": {
            "text/plain": [
              "-1.0000000000000016"
            ]
          },
          "metadata": {}
        }
      ],
      "execution_count": 35,
      "metadata": {
        "collapsed": false,
        "outputHidden": false,
        "inputHidden": false
      }
    },
    {
      "cell_type": "markdown",
      "source": [
        "## 5. The case where we have some uncertainty about the function to be evaluated: "
      ],
      "metadata": {}
    },
    {
      "cell_type": "code",
      "source": [
        "### If we are uncertain about f, which is generally the case, a more refined grid over [0,2*pi] may \n",
        "### actually yield a more biased answer so it may be better to use noise present in the biological \n",
        "### system to come up with a cheap and fast monte-carlo estimate.\n",
        "\n",
        "### This motivates the definition of monte-carlo gradients using half the usual number of points and the definition\n",
        "### of the gradient as an expected value:\n",
        "\n",
        "function mc_nabla(f, x::Float64, delta::Float64)\n",
        "\n",
        "  N = round(Int,2*pi/delta)\n",
        "\n",
        "  ## sample with only half the number of points: \n",
        "  sample = rand(1:N,round(Int,N/2)) \n",
        "  thetas = sample*delta\n",
        "\n",
        "  ## collect arguments and rotations: \n",
        "  rotations = map(theta -> exp(-im*theta),thetas)\n",
        "  arguments = x .+ conj.(rotations)  \n",
        "\n",
        "  ## calculate expectation: \n",
        "  expectation = 2.0/N*real(sum(map(f,arguments).*rotations))\n",
        "\n",
        "  return expectation\n",
        "\nend"
      ],
      "outputs": [
        {
          "output_type": "execute_result",
          "execution_count": 18,
          "data": {
            "text/plain": [
              "mc_nabla (generic function with 1 method)"
            ]
          },
          "metadata": {}
        }
      ],
      "execution_count": 18,
      "metadata": {
        "collapsed": false,
        "outputHidden": false,
        "inputHidden": false
      }
    },
    {
      "cell_type": "markdown",
      "source": [
        "## 6. Simulating a spring pendulum using the Euler-Lagrange equations: "
      ],
      "metadata": {}
    },
    {
      "cell_type": "markdown",
      "source": [
        "### a. We define the Lagrangian then proceed as we did for calculating partial derivatives earlier: "
      ],
      "metadata": {}
    },
    {
      "cell_type": "code",
      "source": [
        "## The Lagrangian where we assume the length of the unextended spring is 1.0 and mass is 1.0 kg: \n",
        "L(X) = 0.5*(X[3]^2+(1.0+X[1])^2*X[4]^2)+9.8*(1.0+X[1])*cos(X[2])-0.25*X[1]^2\n",
        "\n",
        "## kronecker delta, which will come in handy:\n",
        "kd(i,n) = [j==i for j in 1:n]\n",
        "\n",
        "##  All four variables will be stored in this array:\n",
        "Z = zeros(100,4)\n",
        "\n",
        "## The initial conditions: \n",
        "Z[1,:] = [1.0,pi/4,0.0,0.0]"
      ],
      "outputs": [
        {
          "output_type": "execute_result",
          "execution_count": 28,
          "data": {
            "text/plain": [
              "4-element Array{Float64,1}:\n",
              " 1.0               \n",
              " 0.7853981633974483\n",
              " 0.0               \n",
              " 0.0               "
            ]
          },
          "metadata": {}
        }
      ],
      "execution_count": 28,
      "metadata": {
        "collapsed": false,
        "outputHidden": false,
        "inputHidden": false
      }
    },
    {
      "cell_type": "markdown",
      "source": [
        "### b. Simulate the spring pendulum using the leapfrog method: "
      ],
      "metadata": {}
    },
    {
      "cell_type": "code",
      "source": [
        "delta = (2*pi)/1000\n",
        "\n",
        "dt = 0.01\n",
        "\n",
        "## simulate the pendulum system: \n",
        "for i=1:99\n",
        "\n",
        "\t## apply kronecker delta so we can compute partial derivatives: \n",
        "\tdd_theta = x -> L(x*kd(2,4) .+ Z[i,:].*(ones(4)-kd(2,4)))\n",
        "\n",
        "\tdd_x = x -> L(x*kd(1,4) .+ Z[i,:].*(ones(4)-kd(1,4)))\n",
        "\n",
        "\t## update angle: \n",
        "\tZ[i+1,1] = Z[i,1] + Z[i,3]*dt + 0.5*(nabla(dd_x,Z[i,1],delta))*dt^2\n",
        "\n",
        "\t## update position: \n",
        "\tZ[i+1,2] = Z[i,2] + Z[i,4]*dt + 0.5*(nabla(dd_theta,Z[i,2],delta))*dt^2\n",
        "\n",
        "\t## update derivatives:\n",
        "\tZ[i+1,3] = Z[i,3] + 0.5*(nabla(dd_x,Z[i,1],delta)+nabla(dd_x,Z[i+1,1],delta))*dt\n",
        "\n",
        "\tZ[i+1,4] = Z[i,4] + 0.5*(nabla(dd_theta,Z[i,2],delta)+nabla(dd_theta,Z[i+1,2],delta))*dt\n",
        "\nend"
      ],
      "outputs": [],
      "execution_count": 29,
      "metadata": {
        "collapsed": false,
        "outputHidden": false,
        "inputHidden": false
      }
    },
    {
      "cell_type": "markdown",
      "source": [
        "### c. Visualising the system: "
      ],
      "metadata": {}
    },
    {
      "cell_type": "code",
      "source": [
        "using Plots\n",
        "\n",
        "## plotting angular velocity(dtheta) against angle(theta): \n",
        "plot(Z[:,2],Z[:,4])"
      ],
      "outputs": [
        {
          "output_type": "execute_result",
          "execution_count": 30,
          "data": {
            "image/svg+xml": [
              "<?xml version=\"1.0\" encoding=\"utf-8\"?>\n",
              "<svg xmlns=\"http://www.w3.org/2000/svg\" xmlns:xlink=\"http://www.w3.org/1999/xlink\" width=\"600\" height=\"400\" viewBox=\"0 0 2400 1600\">\n",
              "<defs>\n",
              "  <clipPath id=\"clip1200\">\n",
              "    <rect x=\"0\" y=\"0\" width=\"2400\" height=\"1600\"/>\n",
              "  </clipPath>\n",
              "</defs>\n",
              "<path clip-path=\"url(#clip1200)\" d=\"\n",
              "M0 1600 L2400 1600 L2400 0 L0 0  Z\n",
              "  \" fill=\"#ffffff\" fill-rule=\"evenodd\" fill-opacity=\"1\"/>\n",
              "<defs>\n",
              "  <clipPath id=\"clip1201\">\n",
              "    <rect x=\"480\" y=\"0\" width=\"1681\" height=\"1600\"/>\n",
              "  </clipPath>\n",
              "</defs>\n",
              "<path clip-path=\"url(#clip1200)\" d=\"\n",
              "M141.865 1487.47 L2352.76 1487.47 L2352.76 47.2441 L141.865 47.2441  Z\n",
              "  \" fill=\"#ffffff\" fill-rule=\"evenodd\" fill-opacity=\"1\"/>\n",
              "<defs>\n",
              "  <clipPath id=\"clip1202\">\n",
              "    <rect x=\"141\" y=\"47\" width=\"2212\" height=\"1441\"/>\n",
              "  </clipPath>\n",
              "</defs>\n",
              "<polyline clip-path=\"url(#clip1202)\" style=\"stroke:#000000; stroke-width:2; stroke-opacity:0.1; fill:none\" points=\"\n",
              "  298.491,1487.47 298.491,47.2441 \n",
              "  \"/>\n",
              "<polyline clip-path=\"url(#clip1202)\" style=\"stroke:#000000; stroke-width:2; stroke-opacity:0.1; fill:none\" points=\"\n",
              "  685.86,1487.47 685.86,47.2441 \n",
              "  \"/>\n",
              "<polyline clip-path=\"url(#clip1202)\" style=\"stroke:#000000; stroke-width:2; stroke-opacity:0.1; fill:none\" points=\"\n",
              "  1073.23,1487.47 1073.23,47.2441 \n",
              "  \"/>\n",
              "<polyline clip-path=\"url(#clip1202)\" style=\"stroke:#000000; stroke-width:2; stroke-opacity:0.1; fill:none\" points=\"\n",
              "  1460.6,1487.47 1460.6,47.2441 \n",
              "  \"/>\n",
              "<polyline clip-path=\"url(#clip1202)\" style=\"stroke:#000000; stroke-width:2; stroke-opacity:0.1; fill:none\" points=\"\n",
              "  1847.97,1487.47 1847.97,47.2441 \n",
              "  \"/>\n",
              "<polyline clip-path=\"url(#clip1202)\" style=\"stroke:#000000; stroke-width:2; stroke-opacity:0.1; fill:none\" points=\"\n",
              "  2235.33,1487.47 2235.33,47.2441 \n",
              "  \"/>\n",
              "<polyline clip-path=\"url(#clip1202)\" style=\"stroke:#000000; stroke-width:2; stroke-opacity:0.1; fill:none\" points=\"\n",
              "  141.865,1430.02 2352.76,1430.02 \n",
              "  \"/>\n",
              "<polyline clip-path=\"url(#clip1202)\" style=\"stroke:#000000; stroke-width:2; stroke-opacity:0.1; fill:none\" points=\"\n",
              "  141.865,1123.94 2352.76,1123.94 \n",
              "  \"/>\n",
              "<polyline clip-path=\"url(#clip1202)\" style=\"stroke:#000000; stroke-width:2; stroke-opacity:0.1; fill:none\" points=\"\n",
              "  141.865,817.859 2352.76,817.859 \n",
              "  \"/>\n",
              "<polyline clip-path=\"url(#clip1202)\" style=\"stroke:#000000; stroke-width:2; stroke-opacity:0.1; fill:none\" points=\"\n",
              "  141.865,511.777 2352.76,511.777 \n",
              "  \"/>\n",
              "<polyline clip-path=\"url(#clip1202)\" style=\"stroke:#000000; stroke-width:2; stroke-opacity:0.1; fill:none\" points=\"\n",
              "  141.865,205.694 2352.76,205.694 \n",
              "  \"/>\n",
              "<polyline clip-path=\"url(#clip1200)\" style=\"stroke:#000000; stroke-width:4; stroke-opacity:1; fill:none\" points=\"\n",
              "  141.865,1487.47 2352.76,1487.47 \n",
              "  \"/>\n",
              "<polyline clip-path=\"url(#clip1200)\" style=\"stroke:#000000; stroke-width:4; stroke-opacity:1; fill:none\" points=\"\n",
              "  141.865,1487.47 141.865,47.2441 \n",
              "  \"/>\n",
              "<polyline clip-path=\"url(#clip1200)\" style=\"stroke:#000000; stroke-width:4; stroke-opacity:1; fill:none\" points=\"\n",
              "  298.491,1487.47 298.491,1465.87 \n",
              "  \"/>\n",
              "<polyline clip-path=\"url(#clip1200)\" style=\"stroke:#000000; stroke-width:4; stroke-opacity:1; fill:none\" points=\"\n",
              "  685.86,1487.47 685.86,1465.87 \n",
              "  \"/>\n",
              "<polyline clip-path=\"url(#clip1200)\" style=\"stroke:#000000; stroke-width:4; stroke-opacity:1; fill:none\" points=\"\n",
              "  1073.23,1487.47 1073.23,1465.87 \n",
              "  \"/>\n",
              "<polyline clip-path=\"url(#clip1200)\" style=\"stroke:#000000; stroke-width:4; stroke-opacity:1; fill:none\" points=\"\n",
              "  1460.6,1487.47 1460.6,1465.87 \n",
              "  \"/>\n",
              "<polyline clip-path=\"url(#clip1200)\" style=\"stroke:#000000; stroke-width:4; stroke-opacity:1; fill:none\" points=\"\n",
              "  1847.97,1487.47 1847.97,1465.87 \n",
              "  \"/>\n",
              "<polyline clip-path=\"url(#clip1200)\" style=\"stroke:#000000; stroke-width:4; stroke-opacity:1; fill:none\" points=\"\n",
              "  2235.33,1487.47 2235.33,1465.87 \n",
              "  \"/>\n",
              "<polyline clip-path=\"url(#clip1200)\" style=\"stroke:#000000; stroke-width:4; stroke-opacity:1; fill:none\" points=\"\n",
              "  141.865,1430.02 175.028,1430.02 \n",
              "  \"/>\n",
              "<polyline clip-path=\"url(#clip1200)\" style=\"stroke:#000000; stroke-width:4; stroke-opacity:1; fill:none\" points=\"\n",
              "  141.865,1123.94 175.028,1123.94 \n",
              "  \"/>\n",
              "<polyline clip-path=\"url(#clip1200)\" style=\"stroke:#000000; stroke-width:4; stroke-opacity:1; fill:none\" points=\"\n",
              "  141.865,817.859 175.028,817.859 \n",
              "  \"/>\n",
              "<polyline clip-path=\"url(#clip1200)\" style=\"stroke:#000000; stroke-width:4; stroke-opacity:1; fill:none\" points=\"\n",
              "  141.865,511.777 175.028,511.777 \n",
              "  \"/>\n",
              "<polyline clip-path=\"url(#clip1200)\" style=\"stroke:#000000; stroke-width:4; stroke-opacity:1; fill:none\" points=\"\n",
              "  141.865,205.694 175.028,205.694 \n",
              "  \"/>\n",
              "<g clip-path=\"url(#clip1200)\">\n",
              "<text style=\"fill:#000000; fill-opacity:1; font-family:Arial,Helvetica Neue,Helvetica,sans-serif; font-size:48px; text-anchor:middle;\" transform=\"rotate(0, 298.491, 1541.47)\" x=\"298.491\" y=\"1541.47\">-0.50</text>\n",
              "</g>\n",
              "<g clip-path=\"url(#clip1200)\">\n",
              "<text style=\"fill:#000000; fill-opacity:1; font-family:Arial,Helvetica Neue,Helvetica,sans-serif; font-size:48px; text-anchor:middle;\" transform=\"rotate(0, 685.86, 1541.47)\" x=\"685.86\" y=\"1541.47\">-0.25</text>\n",
              "</g>\n",
              "<g clip-path=\"url(#clip1200)\">\n",
              "<text style=\"fill:#000000; fill-opacity:1; font-family:Arial,Helvetica Neue,Helvetica,sans-serif; font-size:48px; text-anchor:middle;\" transform=\"rotate(0, 1073.23, 1541.47)\" x=\"1073.23\" y=\"1541.47\">0.00</text>\n",
              "</g>\n",
              "<g clip-path=\"url(#clip1200)\">\n",
              "<text style=\"fill:#000000; fill-opacity:1; font-family:Arial,Helvetica Neue,Helvetica,sans-serif; font-size:48px; text-anchor:middle;\" transform=\"rotate(0, 1460.6, 1541.47)\" x=\"1460.6\" y=\"1541.47\">0.25</text>\n",
              "</g>\n",
              "<g clip-path=\"url(#clip1200)\">\n",
              "<text style=\"fill:#000000; fill-opacity:1; font-family:Arial,Helvetica Neue,Helvetica,sans-serif; font-size:48px; text-anchor:middle;\" transform=\"rotate(0, 1847.97, 1541.47)\" x=\"1847.97\" y=\"1541.47\">0.50</text>\n",
              "</g>\n",
              "<g clip-path=\"url(#clip1200)\">\n",
              "<text style=\"fill:#000000; fill-opacity:1; font-family:Arial,Helvetica Neue,Helvetica,sans-serif; font-size:48px; text-anchor:middle;\" transform=\"rotate(0, 2235.33, 1541.47)\" x=\"2235.33\" y=\"1541.47\">0.75</text>\n",
              "</g>\n",
              "<g clip-path=\"url(#clip1200)\">\n",
              "<text style=\"fill:#000000; fill-opacity:1; font-family:Arial,Helvetica Neue,Helvetica,sans-serif; font-size:48px; text-anchor:end;\" transform=\"rotate(0, 117.865, 1447.52)\" x=\"117.865\" y=\"1447.52\">-4</text>\n",
              "</g>\n",
              "<g clip-path=\"url(#clip1200)\">\n",
              "<text style=\"fill:#000000; fill-opacity:1; font-family:Arial,Helvetica Neue,Helvetica,sans-serif; font-size:48px; text-anchor:end;\" transform=\"rotate(0, 117.865, 1141.44)\" x=\"117.865\" y=\"1141.44\">-2</text>\n",
              "</g>\n",
              "<g clip-path=\"url(#clip1200)\">\n",
              "<text style=\"fill:#000000; fill-opacity:1; font-family:Arial,Helvetica Neue,Helvetica,sans-serif; font-size:48px; text-anchor:end;\" transform=\"rotate(0, 117.865, 835.359)\" x=\"117.865\" y=\"835.359\">0</text>\n",
              "</g>\n",
              "<g clip-path=\"url(#clip1200)\">\n",
              "<text style=\"fill:#000000; fill-opacity:1; font-family:Arial,Helvetica Neue,Helvetica,sans-serif; font-size:48px; text-anchor:end;\" transform=\"rotate(0, 117.865, 529.277)\" x=\"117.865\" y=\"529.277\">2</text>\n",
              "</g>\n",
              "<g clip-path=\"url(#clip1200)\">\n",
              "<text style=\"fill:#000000; fill-opacity:1; font-family:Arial,Helvetica Neue,Helvetica,sans-serif; font-size:48px; text-anchor:end;\" transform=\"rotate(0, 117.865, 223.194)\" x=\"117.865\" y=\"223.194\">4</text>\n",
              "</g>\n",
              "<polyline clip-path=\"url(#clip1202)\" style=\"stroke:#009af9; stroke-width:4; stroke-opacity:1; fill:none\" points=\"\n",
              "  2290.18,817.859 2289.11,839.062 2285.89,860.24 2280.53,881.368 2273.03,902.425 2263.4,923.386 2251.66,944.23 2237.81,964.932 2221.88,985.467 2203.87,1005.81 \n",
              "  2183.81,1025.94 2161.73,1045.83 2137.65,1065.44 2111.59,1084.76 2083.6,1103.76 2053.7,1122.4 2021.93,1140.66 1988.33,1158.5 1952.94,1175.9 1915.82,1192.8 \n",
              "  1877.01,1209.19 1836.57,1225.02 1794.56,1240.25 1751.03,1254.84 1706.06,1268.73 1659.72,1281.9 1612.09,1294.28 1563.24,1305.82 1513.27,1316.46 1462.27,1326.15 \n",
              "  1410.34,1334.82 1357.58,1342.42 1304.11,1348.86 1250.05,1354.08 1195.53,1358 1140.68,1360.56 1085.64,1361.66 1030.56,1361.23 975.609,1359.19 920.949,1355.46 \n",
              "  866.757,1349.95 813.216,1342.58 760.518,1333.29 708.862,1321.99 658.455,1308.61 609.511,1293.1 562.249,1275.4 516.894,1255.45 473.674,1233.23 432.822,1208.72 \n",
              "  394.57,1181.89 359.154,1152.76 326.805,1121.34 297.752,1087.68 272.222,1051.83 250.431,1013.88 232.589,973.912 218.893,932.06 209.526,888.469 204.658,843.307 \n",
              "  204.437,796.769 208.992,749.075 218.429,700.472 232.826,651.228 252.233,601.642 276.67,552.034 306.121,502.752 340.536,454.166 379.824,406.671 423.854,360.684 \n",
              "  472.453,316.642 525.399,275.003 582.427,236.244 643.219,200.856 707.409,169.343 774.578,142.22 844.255,120.007 915.915,103.226 988.983,92.3907 1062.83,88.0053 \n",
              "  1136.77,90.5502 1210.09,100.473 1282.01,118.175 1351.73,143.997 1418.41,178.203 1481.18,220.963 1539.18,272.333 1591.54,332.237 1637.39,400.447 1675.92,476.57 \n",
              "  1706.35,560.028 1727.97,650.047 1740.16,745.651 1742.42,845.654 1734.36,948.66 1715.76,1053.08 1686.56,1157.11 1646.9,1258.82 1597.12,1356.09 1537.77,1446.71 \n",
              "  \n",
              "  \"/>\n",
              "<path clip-path=\"url(#clip1200)\" d=\"\n",
              "M1989.93 251.724 L2280.76 251.724 L2280.76 130.764 L1989.93 130.764  Z\n",
              "  \" fill=\"#ffffff\" fill-rule=\"evenodd\" fill-opacity=\"1\"/>\n",
              "<polyline clip-path=\"url(#clip1200)\" style=\"stroke:#000000; stroke-width:4; stroke-opacity:1; fill:none\" points=\"\n",
              "  1989.93,251.724 2280.76,251.724 2280.76,130.764 1989.93,130.764 1989.93,251.724 \n",
              "  \"/>\n",
              "<polyline clip-path=\"url(#clip1200)\" style=\"stroke:#009af9; stroke-width:4; stroke-opacity:1; fill:none\" points=\"\n",
              "  2013.93,191.244 2157.93,191.244 \n",
              "  \"/>\n",
              "<g clip-path=\"url(#clip1200)\">\n",
              "<text style=\"fill:#000000; fill-opacity:1; font-family:Arial,Helvetica Neue,Helvetica,sans-serif; font-size:48px; text-anchor:start;\" transform=\"rotate(0, 2181.93, 208.744)\" x=\"2181.93\" y=\"208.744\">y1</text>\n",
              "</g>\n",
              "</svg>\n"
            ]
          },
          "metadata": {}
        }
      ],
      "execution_count": 30,
      "metadata": {
        "collapsed": false,
        "outputHidden": false,
        "inputHidden": false
      }
    }
  ],
  "metadata": {
    "kernel_info": {
      "name": "julia-1.0"
    },
    "language_info": {
      "file_extension": ".jl",
      "name": "julia",
      "mimetype": "application/julia",
      "version": "1.0.0"
    },
    "kernelspec": {
      "name": "julia-1.0",
      "language": "julia",
      "display_name": "Julia 1.0.0"
    },
    "nteract": {
      "version": "0.11.6"
    }
  },
  "nbformat": 4,
  "nbformat_minor": 4
}