{
  "cells": [
    {
      "cell_type": "markdown",
      "source": [
        "## Automatic Differentiation via Contour Integration: "
      ],
      "metadata": {}
    },
    {
      "cell_type": "markdown",
      "source": [
        "## 1. The Cauchy Integral Formula for computing derivatives: "
      ],
      "metadata": {}
    },
    {
      "cell_type": "code",
      "source": [
        "function nabla(f, x::Float64, delta::Float64)\n",
        "\n",
        "  N = round(Int,2*pi/delta)\n",
        "  thetas = vcat(1:N)*delta\n",
        "\n",
        "  ## collect arguments and rotations: \n",
        "  rotations = map(theta -> exp(-im*theta),thetas)\n",
        "  arguments = x .+ conj.(rotations)  \n",
        "\n",
        "  ## calculate expectation: \n",
        "  expectation = 1.0/N*real(sum(map(f,arguments).*rotations))\n",
        "\n",
        "  return expectation\n",
        "\nend"
      ],
      "outputs": [
        {
          "output_type": "execute_result",
          "execution_count": 1,
          "data": {
            "text/plain": [
              "nabla (generic function with 1 method)"
            ]
          },
          "metadata": {}
        }
      ],
      "execution_count": 1,
      "metadata": {
        "collapsed": false,
        "outputHidden": false,
        "inputHidden": false
      }
    },
    {
      "cell_type": "markdown",
      "source": [
        "## 2. A few test cases: "
      ],
      "metadata": {
        "collapsed": false,
        "outputHidden": false,
        "inputHidden": false
      }
    },
    {
      "cell_type": "markdown",
      "source": [
        "### a. A few test functions of a single variable including compositions of functions:"
      ],
      "metadata": {}
    },
    {
      "cell_type": "code",
      "source": [
        "cosh_(x) = (exp(x)+exp(-x))/2\n",
        "\n",
        "g(x) = (x-1)^2 + (x-2)^4 + (x-3)^6\n",
        "\n",
        "h(x) = cos(x)\n",
        "\n",
        "l = g ∘ h\n",
        "\nm = g ∘ cosh_"
      ],
      "outputs": [
        {
          "output_type": "execute_result",
          "execution_count": 2,
          "data": {
            "text/plain": [
              "#52 (generic function with 1 method)"
            ]
          },
          "metadata": {}
        }
      ],
      "execution_count": 2,
      "metadata": {
        "collapsed": false,
        "outputHidden": false,
        "inputHidden": false
      }
    },
    {
      "cell_type": "markdown",
      "source": [
        "### b. Test it on cosine: "
      ],
      "metadata": {}
    },
    {
      "cell_type": "code",
      "source": [
        "delta = (2*pi)/1000\n",
        "\nnabla(h, pi/2, delta)"
      ],
      "outputs": [
        {
          "output_type": "execute_result",
          "execution_count": 3,
          "data": {
            "text/plain": [
              "-1.0000000000000016"
            ]
          },
          "metadata": {}
        }
      ],
      "execution_count": 3,
      "metadata": {
        "collapsed": false,
        "outputHidden": false,
        "inputHidden": false
      }
    },
    {
      "cell_type": "markdown",
      "source": [
        "### c. Test it on compositions of functions:"
      ],
      "metadata": {}
    },
    {
      "cell_type": "code",
      "source": [
        "delta = (2*pi)/1000\n",
        "\nnabla(m, 1.0, delta) "
      ],
      "outputs": [
        {
          "output_type": "execute_result",
          "execution_count": 4,
          "data": {
            "text/plain": [
              "-45.45705185890576"
            ]
          },
          "metadata": {}
        }
      ],
      "execution_count": 4,
      "metadata": {
        "collapsed": false,
        "outputHidden": false,
        "inputHidden": false
      }
    },
    {
      "cell_type": "markdown",
      "source": [
        "#### Wolfram Alpha agrees with the above calculations. A good sign."
      ],
      "metadata": {}
    },
    {
      "cell_type": "markdown",
      "source": [
        "## 3. Using the Cauchy Integral Formula to perform gradient descent: "
      ],
      "metadata": {}
    },
    {
      "cell_type": "code",
      "source": [
        "function gradient_descent(f,x_p::Float64,alpha::Float64)\n",
        "\n",
        "  ## 100 steps\n",
        "  for i=1:100\n",
        "\n",
        "    x_n = x_p - alpha*nabla(f,x_p,delta)\n",
        "    x_p = x_n\n",
        "\n",
        "  end\n",
        "\n",
        "  return x_p\n",
        "\nend"
      ],
      "outputs": [
        {
          "output_type": "execute_result",
          "execution_count": 5,
          "data": {
            "text/plain": [
              "gradient_descent (generic function with 1 method)"
            ]
          },
          "metadata": {}
        }
      ],
      "execution_count": 5,
      "metadata": {
        "collapsed": false,
        "outputHidden": false,
        "inputHidden": false
      }
    },
    {
      "cell_type": "code",
      "source": [
        "## initial value: \n",
        "x_p = 5.0 \n",
        "\n",
        "## learning rate: \n",
        "alpha = 0.01 \n",
        "\nx_min = gradient_descent(g,x_p,alpha)"
      ],
      "outputs": [
        {
          "output_type": "execute_result",
          "execution_count": 6,
          "data": {
            "text/plain": [
              "2.1702275657206824"
            ]
          },
          "metadata": {}
        }
      ],
      "execution_count": 6,
      "metadata": {
        "collapsed": false,
        "outputHidden": false,
        "inputHidden": false
      }
    },
    {
      "cell_type": "code",
      "source": [
        "## check solution: \n",
        "\ng(x_min)"
      ],
      "outputs": [
        {
          "output_type": "execute_result",
          "execution_count": 7,
          "data": {
            "text/plain": [
              "1.6966751541950713"
            ]
          },
          "metadata": {}
        }
      ],
      "execution_count": 7,
      "metadata": {
        "collapsed": false,
        "outputHidden": false,
        "inputHidden": false
      }
    },
    {
      "cell_type": "markdown",
      "source": [
        "## 4. Using the Cauchy Integral Formula to compute Partial Derivatives: "
      ],
      "metadata": {}
    },
    {
      "cell_type": "markdown",
      "source": [
        "#### a. Define a function of several variables, in this case three: "
      ],
      "metadata": {}
    },
    {
      "cell_type": "code",
      "source": [
        "q(X) = X[1] + X[2]^2 + cos(X[3])\n",
        "\n",
        "## we can now introduce partial nabla: \n",
        "function partial_nabla(f, i::Int64, X::Array{Float64,1},delta::Float64)\n",
        "\n",
        "  ## f:= the function to be differentiated\n",
        "  ## i:= partial differentiation with respect to this index\n",
        "  ## X:= where the partial derivative is evaluated\n",
        "  ## delta:= the sampling frequency\n",
        "\n",
        "  N = length(X)\n",
        "\n",
        "  kd(i,n) = [j==i for j in 1:n]\n",
        "\n",
        "  f_x = x -> f(x*kd(i,N) .+ X.*(ones(N)-kd(i,N)))\n",
        "\n",
        "  return nabla(f_x,X[i],delta)\n",
        "\nend"
      ],
      "outputs": [
        {
          "output_type": "execute_result",
          "execution_count": 8,
          "data": {
            "text/plain": [
              "partial_nabla (generic function with 1 method)"
            ]
          },
          "metadata": {}
        }
      ],
      "execution_count": 8,
      "metadata": {
        "collapsed": false,
        "outputHidden": false,
        "inputHidden": false
      }
    },
    {
      "cell_type": "markdown",
      "source": [
        "#### b. Compute all three partial derivatives:"
      ],
      "metadata": {}
    },
    {
      "cell_type": "code",
      "source": [
        "## computations are done with respect to a point X:\n",
        "X = [0.0,0.0,pi/2.0]"
      ],
      "outputs": [
        {
          "output_type": "execute_result",
          "execution_count": 9,
          "data": {
            "text/plain": [
              "3-element Array{Float64,1}:\n",
              " 0.0               \n",
              " 0.0               \n",
              " 1.5707963267948966"
            ]
          },
          "metadata": {}
        }
      ],
      "execution_count": 9,
      "metadata": {
        "collapsed": false,
        "outputHidden": false,
        "inputHidden": false
      }
    },
    {
      "cell_type": "code",
      "source": [
        "## first partial derivative: \n",
        "delta = (2*pi)/1000\n",
        "\npartial_nabla(q,1,X,delta)"
      ],
      "outputs": [
        {
          "output_type": "execute_result",
          "execution_count": 10,
          "data": {
            "text/plain": [
              "1.0"
            ]
          },
          "metadata": {}
        }
      ],
      "execution_count": 10,
      "metadata": {
        "collapsed": false,
        "outputHidden": false,
        "inputHidden": false
      }
    },
    {
      "cell_type": "code",
      "source": [
        "## second partial derivative: \n",
        "delta = (2*pi)/1000\n",
        "\npartial_nabla(q,2,X,delta)"
      ],
      "outputs": [
        {
          "output_type": "execute_result",
          "execution_count": 11,
          "data": {
            "text/plain": [
              "-1.1324274851176598e-17"
            ]
          },
          "metadata": {}
        }
      ],
      "execution_count": 11,
      "metadata": {
        "collapsed": false,
        "outputHidden": false,
        "inputHidden": false
      }
    },
    {
      "cell_type": "code",
      "source": [
        "## third partial derivative: \n",
        "delta = (2*pi)/1000\n",
        "\npartial_nabla(q,3,X,delta)"
      ],
      "outputs": [
        {
          "output_type": "execute_result",
          "execution_count": 12,
          "data": {
            "text/plain": [
              "-1.0000000000000016"
            ]
          },
          "metadata": {}
        }
      ],
      "execution_count": 12,
      "metadata": {
        "collapsed": false,
        "outputHidden": false,
        "inputHidden": false
      }
    },
    {
      "cell_type": "markdown",
      "source": [
        "## 5. The case where we have some uncertainty about the function to be evaluated: "
      ],
      "metadata": {}
    },
    {
      "cell_type": "code",
      "source": [
        "### If we are uncertain about f, which is generally the case, a more refined grid over [0,2*pi] may \n",
        "### actually yield a more biased answer so it may be better to use noise present in the biological \n",
        "### system to come up with a cheap and fast monte-carlo estimate.\n",
        "\n",
        "### This motivates the definition of monte-carlo gradients using half the usual number of points and the definition\n",
        "### of the gradient as an expected value:\n",
        "\n",
        "function mc_nabla(f, x::Float64, delta::Float64)\n",
        "\n",
        "  N = round(Int,2*pi/delta)\n",
        "\n",
        "  ## sample with only half the number of points: \n",
        "  sample = rand(1:N,round(Int,N/2)) \n",
        "  thetas = sample*delta\n",
        "\n",
        "  ## collect arguments and rotations: \n",
        "  rotations = map(theta -> exp(-im*theta),thetas)\n",
        "  arguments = x .+ conj.(rotations)  \n",
        "\n",
        "  ## calculate expectation: \n",
        "  expectation = 2.0/N*real(sum(map(f,arguments).*rotations))\n",
        "\n",
        "  return expectation\n",
        "\nend"
      ],
      "outputs": [
        {
          "output_type": "execute_result",
          "execution_count": 13,
          "data": {
            "text/plain": [
              "mc_nabla (generic function with 1 method)"
            ]
          },
          "metadata": {}
        }
      ],
      "execution_count": 13,
      "metadata": {
        "collapsed": false,
        "outputHidden": false,
        "inputHidden": false
      }
    },
    {
      "cell_type": "markdown",
      "source": [
        "## 6. Simulating a spring pendulum using the Euler-Lagrange equations: "
      ],
      "metadata": {}
    },
    {
      "cell_type": "markdown",
      "source": [
        "### a. We define the Lagrangian then proceed as we did for calculating partial derivatives earlier: "
      ],
      "metadata": {}
    },
    {
      "cell_type": "code",
      "source": [
        "## The Lagrangian where we assume the length of the unextended spring is 1.0 and mass is 1.0 kg:\n",
        "M, l, K = 1.0, 2.0, 1.0\n",
        "\n",
        "L(X) = 0.5*M*(X[3]^2+(l+X[1])^2*X[4]^2)+M*9.8*(l+X[1])*cos(X[2])-0.5*K*X[1]^2\n",
        "\n",
        "## kronecker delta, which will come in handy:\n",
        "kd(i,n) = [j==i for j in 1:n]\n",
        "\n",
        "##  All four variables will be stored in this array:\n",
        "Z = zeros(150,4)\n",
        "\n",
        "## The initial conditions: \n",
        "Z[1,:] = [1.0,pi/4,1.0,1.0]"
      ],
      "outputs": [
        {
          "output_type": "execute_result",
          "execution_count": 14,
          "data": {
            "text/plain": [
              "4-element Array{Float64,1}:\n",
              " 1.0               \n",
              " 0.7853981633974483\n",
              " 1.0               \n",
              " 1.0               "
            ]
          },
          "metadata": {}
        }
      ],
      "execution_count": 14,
      "metadata": {
        "collapsed": false,
        "outputHidden": false,
        "inputHidden": false
      }
    },
    {
      "cell_type": "markdown",
      "source": [
        "### b. Simulate the spring pendulum using the leapfrog method: "
      ],
      "metadata": {}
    },
    {
      "cell_type": "code",
      "source": [
        "delta = (2*pi)/1000\n",
        "\n",
        "dt = 0.01\n",
        "\n",
        "## simulate the pendulum system: \n",
        "for i=1:149\n",
        "\n",
        "\t## apply kronecker delta so we can compute partial derivatives: \n",
        "\tdd_theta = x -> L(x*kd(2,4) .+ Z[i,:].*(ones(4)-kd(2,4)))\n",
        "\n",
        "\tdd_x = x -> L(x*kd(1,4) .+ Z[i,:].*(ones(4)-kd(1,4)))\n",
        "\n",
        "\t## update angle: \n",
        "\tZ[i+1,1] = Z[i,1] + Z[i,3]*dt + 0.5*(nabla(dd_x,Z[i,1],delta))*dt^2\n",
        "\n",
        "\t## update position: \n",
        "\tZ[i+1,2] = Z[i,2] + Z[i,4]*dt + 0.5*(nabla(dd_theta,Z[i,2],delta))*dt^2\n",
        "\n",
        "\t## update derivatives:\n",
        "\tZ[i+1,3] = Z[i,3] + 0.5*(nabla(dd_x,Z[i,1],delta)+nabla(dd_x,Z[i+1,1],delta))*dt\n",
        "\n",
        "\tZ[i+1,4] = Z[i,4] + 0.5*(nabla(dd_theta,Z[i,2],delta)+nabla(dd_theta,Z[i+1,2],delta))*dt\n",
        "\nend"
      ],
      "outputs": [],
      "execution_count": 15,
      "metadata": {
        "collapsed": false,
        "outputHidden": false,
        "inputHidden": false
      }
    },
    {
      "cell_type": "markdown",
      "source": [
        "### c. Visualising the system: "
      ],
      "metadata": {}
    },
    {
      "cell_type": "code",
      "source": [
        "using Plots\n",
        "\n",
        "## plotting angular velocity(dtheta) against angle(theta): \n",
        "plot(Z[:,2],Z[:,4])\n",
        "\n",
        "xlabel!(\"theta\")\n",
        "ylabel!(\"d_theta\")"
      ],
      "outputs": [
        {
          "output_type": "execute_result",
          "execution_count": 16,
          "data": {
            "image/svg+xml": [
              "<?xml version=\"1.0\" encoding=\"utf-8\"?>\n",
              "<svg xmlns=\"http://www.w3.org/2000/svg\" xmlns:xlink=\"http://www.w3.org/1999/xlink\" width=\"600\" height=\"400\" viewBox=\"0 0 2400 1600\">\n",
              "<defs>\n",
              "  <clipPath id=\"clip4800\">\n",
              "    <rect x=\"0\" y=\"0\" width=\"2400\" height=\"1600\"/>\n",
              "  </clipPath>\n",
              "</defs>\n",
              "<path clip-path=\"url(#clip4800)\" d=\"\n",
              "M0 1600 L2400 1600 L2400 0 L0 0  Z\n",
              "  \" fill=\"#ffffff\" fill-rule=\"evenodd\" fill-opacity=\"1\"/>\n",
              "<defs>\n",
              "  <clipPath id=\"clip4801\">\n",
              "    <rect x=\"480\" y=\"0\" width=\"1681\" height=\"1600\"/>\n",
              "  </clipPath>\n",
              "</defs>\n",
              "<path clip-path=\"url(#clip4800)\" d=\"\n",
              "M230.483 1425.62 L2352.76 1425.62 L2352.76 47.2441 L230.483 47.2441  Z\n",
              "  \" fill=\"#ffffff\" fill-rule=\"evenodd\" fill-opacity=\"1\"/>\n",
              "<defs>\n",
              "  <clipPath id=\"clip4802\">\n",
              "    <rect x=\"230\" y=\"47\" width=\"2123\" height=\"1379\"/>\n",
              "  </clipPath>\n",
              "</defs>\n",
              "<polyline clip-path=\"url(#clip4802)\" style=\"stroke:#000000; stroke-width:2; stroke-opacity:0.1; fill:none\" points=\"\n",
              "  420.228,1425.62 420.228,47.2441 \n",
              "  \"/>\n",
              "<polyline clip-path=\"url(#clip4802)\" style=\"stroke:#000000; stroke-width:2; stroke-opacity:0.1; fill:none\" points=\"\n",
              "  777.843,1425.62 777.843,47.2441 \n",
              "  \"/>\n",
              "<polyline clip-path=\"url(#clip4802)\" style=\"stroke:#000000; stroke-width:2; stroke-opacity:0.1; fill:none\" points=\"\n",
              "  1135.46,1425.62 1135.46,47.2441 \n",
              "  \"/>\n",
              "<polyline clip-path=\"url(#clip4802)\" style=\"stroke:#000000; stroke-width:2; stroke-opacity:0.1; fill:none\" points=\"\n",
              "  1493.07,1425.62 1493.07,47.2441 \n",
              "  \"/>\n",
              "<polyline clip-path=\"url(#clip4802)\" style=\"stroke:#000000; stroke-width:2; stroke-opacity:0.1; fill:none\" points=\"\n",
              "  1850.69,1425.62 1850.69,47.2441 \n",
              "  \"/>\n",
              "<polyline clip-path=\"url(#clip4802)\" style=\"stroke:#000000; stroke-width:2; stroke-opacity:0.1; fill:none\" points=\"\n",
              "  2208.31,1425.62 2208.31,47.2441 \n",
              "  \"/>\n",
              "<polyline clip-path=\"url(#clip4802)\" style=\"stroke:#000000; stroke-width:2; stroke-opacity:0.1; fill:none\" points=\"\n",
              "  230.483,1345.77 2352.76,1345.77 \n",
              "  \"/>\n",
              "<polyline clip-path=\"url(#clip4802)\" style=\"stroke:#000000; stroke-width:2; stroke-opacity:0.1; fill:none\" points=\"\n",
              "  230.483,1140.59 2352.76,1140.59 \n",
              "  \"/>\n",
              "<polyline clip-path=\"url(#clip4802)\" style=\"stroke:#000000; stroke-width:2; stroke-opacity:0.1; fill:none\" points=\"\n",
              "  230.483,935.408 2352.76,935.408 \n",
              "  \"/>\n",
              "<polyline clip-path=\"url(#clip4802)\" style=\"stroke:#000000; stroke-width:2; stroke-opacity:0.1; fill:none\" points=\"\n",
              "  230.483,730.225 2352.76,730.225 \n",
              "  \"/>\n",
              "<polyline clip-path=\"url(#clip4802)\" style=\"stroke:#000000; stroke-width:2; stroke-opacity:0.1; fill:none\" points=\"\n",
              "  230.483,525.042 2352.76,525.042 \n",
              "  \"/>\n",
              "<polyline clip-path=\"url(#clip4802)\" style=\"stroke:#000000; stroke-width:2; stroke-opacity:0.1; fill:none\" points=\"\n",
              "  230.483,319.86 2352.76,319.86 \n",
              "  \"/>\n",
              "<polyline clip-path=\"url(#clip4802)\" style=\"stroke:#000000; stroke-width:2; stroke-opacity:0.1; fill:none\" points=\"\n",
              "  230.483,114.677 2352.76,114.677 \n",
              "  \"/>\n",
              "<polyline clip-path=\"url(#clip4800)\" style=\"stroke:#000000; stroke-width:4; stroke-opacity:1; fill:none\" points=\"\n",
              "  230.483,1425.62 2352.76,1425.62 \n",
              "  \"/>\n",
              "<polyline clip-path=\"url(#clip4800)\" style=\"stroke:#000000; stroke-width:4; stroke-opacity:1; fill:none\" points=\"\n",
              "  230.483,1425.62 230.483,47.2441 \n",
              "  \"/>\n",
              "<polyline clip-path=\"url(#clip4800)\" style=\"stroke:#000000; stroke-width:4; stroke-opacity:1; fill:none\" points=\"\n",
              "  420.228,1425.62 420.228,1404.94 \n",
              "  \"/>\n",
              "<polyline clip-path=\"url(#clip4800)\" style=\"stroke:#000000; stroke-width:4; stroke-opacity:1; fill:none\" points=\"\n",
              "  777.843,1425.62 777.843,1404.94 \n",
              "  \"/>\n",
              "<polyline clip-path=\"url(#clip4800)\" style=\"stroke:#000000; stroke-width:4; stroke-opacity:1; fill:none\" points=\"\n",
              "  1135.46,1425.62 1135.46,1404.94 \n",
              "  \"/>\n",
              "<polyline clip-path=\"url(#clip4800)\" style=\"stroke:#000000; stroke-width:4; stroke-opacity:1; fill:none\" points=\"\n",
              "  1493.07,1425.62 1493.07,1404.94 \n",
              "  \"/>\n",
              "<polyline clip-path=\"url(#clip4800)\" style=\"stroke:#000000; stroke-width:4; stroke-opacity:1; fill:none\" points=\"\n",
              "  1850.69,1425.62 1850.69,1404.94 \n",
              "  \"/>\n",
              "<polyline clip-path=\"url(#clip4800)\" style=\"stroke:#000000; stroke-width:4; stroke-opacity:1; fill:none\" points=\"\n",
              "  2208.31,1425.62 2208.31,1404.94 \n",
              "  \"/>\n",
              "<polyline clip-path=\"url(#clip4800)\" style=\"stroke:#000000; stroke-width:4; stroke-opacity:1; fill:none\" points=\"\n",
              "  230.483,1345.77 262.317,1345.77 \n",
              "  \"/>\n",
              "<polyline clip-path=\"url(#clip4800)\" style=\"stroke:#000000; stroke-width:4; stroke-opacity:1; fill:none\" points=\"\n",
              "  230.483,1140.59 262.317,1140.59 \n",
              "  \"/>\n",
              "<polyline clip-path=\"url(#clip4800)\" style=\"stroke:#000000; stroke-width:4; stroke-opacity:1; fill:none\" points=\"\n",
              "  230.483,935.408 262.317,935.408 \n",
              "  \"/>\n",
              "<polyline clip-path=\"url(#clip4800)\" style=\"stroke:#000000; stroke-width:4; stroke-opacity:1; fill:none\" points=\"\n",
              "  230.483,730.225 262.317,730.225 \n",
              "  \"/>\n",
              "<polyline clip-path=\"url(#clip4800)\" style=\"stroke:#000000; stroke-width:4; stroke-opacity:1; fill:none\" points=\"\n",
              "  230.483,525.042 262.317,525.042 \n",
              "  \"/>\n",
              "<polyline clip-path=\"url(#clip4800)\" style=\"stroke:#000000; stroke-width:4; stroke-opacity:1; fill:none\" points=\"\n",
              "  230.483,319.86 262.317,319.86 \n",
              "  \"/>\n",
              "<polyline clip-path=\"url(#clip4800)\" style=\"stroke:#000000; stroke-width:4; stroke-opacity:1; fill:none\" points=\"\n",
              "  230.483,114.677 262.317,114.677 \n",
              "  \"/>\n",
              "<g clip-path=\"url(#clip4800)\">\n",
              "<text style=\"fill:#000000; fill-opacity:1; font-family:Arial,Helvetica Neue,Helvetica,sans-serif; font-size:48px; text-anchor:middle;\" transform=\"rotate(0, 420.228, 1479.62)\" x=\"420.228\" y=\"1479.62\">-0.50</text>\n",
              "</g>\n",
              "<g clip-path=\"url(#clip4800)\">\n",
              "<text style=\"fill:#000000; fill-opacity:1; font-family:Arial,Helvetica Neue,Helvetica,sans-serif; font-size:48px; text-anchor:middle;\" transform=\"rotate(0, 777.843, 1479.62)\" x=\"777.843\" y=\"1479.62\">-0.25</text>\n",
              "</g>\n",
              "<g clip-path=\"url(#clip4800)\">\n",
              "<text style=\"fill:#000000; fill-opacity:1; font-family:Arial,Helvetica Neue,Helvetica,sans-serif; font-size:48px; text-anchor:middle;\" transform=\"rotate(0, 1135.46, 1479.62)\" x=\"1135.46\" y=\"1479.62\">0.00</text>\n",
              "</g>\n",
              "<g clip-path=\"url(#clip4800)\">\n",
              "<text style=\"fill:#000000; fill-opacity:1; font-family:Arial,Helvetica Neue,Helvetica,sans-serif; font-size:48px; text-anchor:middle;\" transform=\"rotate(0, 1493.07, 1479.62)\" x=\"1493.07\" y=\"1479.62\">0.25</text>\n",
              "</g>\n",
              "<g clip-path=\"url(#clip4800)\">\n",
              "<text style=\"fill:#000000; fill-opacity:1; font-family:Arial,Helvetica Neue,Helvetica,sans-serif; font-size:48px; text-anchor:middle;\" transform=\"rotate(0, 1850.69, 1479.62)\" x=\"1850.69\" y=\"1479.62\">0.50</text>\n",
              "</g>\n",
              "<g clip-path=\"url(#clip4800)\">\n",
              "<text style=\"fill:#000000; fill-opacity:1; font-family:Arial,Helvetica Neue,Helvetica,sans-serif; font-size:48px; text-anchor:middle;\" transform=\"rotate(0, 2208.31, 1479.62)\" x=\"2208.31\" y=\"1479.62\">0.75</text>\n",
              "</g>\n",
              "<g clip-path=\"url(#clip4800)\">\n",
              "<text style=\"fill:#000000; fill-opacity:1; font-family:Arial,Helvetica Neue,Helvetica,sans-serif; font-size:48px; text-anchor:end;\" transform=\"rotate(0, 206.483, 1363.27)\" x=\"206.483\" y=\"1363.27\">-15</text>\n",
              "</g>\n",
              "<g clip-path=\"url(#clip4800)\">\n",
              "<text style=\"fill:#000000; fill-opacity:1; font-family:Arial,Helvetica Neue,Helvetica,sans-serif; font-size:48px; text-anchor:end;\" transform=\"rotate(0, 206.483, 1158.09)\" x=\"206.483\" y=\"1158.09\">-10</text>\n",
              "</g>\n",
              "<g clip-path=\"url(#clip4800)\">\n",
              "<text style=\"fill:#000000; fill-opacity:1; font-family:Arial,Helvetica Neue,Helvetica,sans-serif; font-size:48px; text-anchor:end;\" transform=\"rotate(0, 206.483, 952.908)\" x=\"206.483\" y=\"952.908\">-5</text>\n",
              "</g>\n",
              "<g clip-path=\"url(#clip4800)\">\n",
              "<text style=\"fill:#000000; fill-opacity:1; font-family:Arial,Helvetica Neue,Helvetica,sans-serif; font-size:48px; text-anchor:end;\" transform=\"rotate(0, 206.483, 747.725)\" x=\"206.483\" y=\"747.725\">0</text>\n",
              "</g>\n",
              "<g clip-path=\"url(#clip4800)\">\n",
              "<text style=\"fill:#000000; fill-opacity:1; font-family:Arial,Helvetica Neue,Helvetica,sans-serif; font-size:48px; text-anchor:end;\" transform=\"rotate(0, 206.483, 542.542)\" x=\"206.483\" y=\"542.542\">5</text>\n",
              "</g>\n",
              "<g clip-path=\"url(#clip4800)\">\n",
              "<text style=\"fill:#000000; fill-opacity:1; font-family:Arial,Helvetica Neue,Helvetica,sans-serif; font-size:48px; text-anchor:end;\" transform=\"rotate(0, 206.483, 337.36)\" x=\"206.483\" y=\"337.36\">10</text>\n",
              "</g>\n",
              "<g clip-path=\"url(#clip4800)\">\n",
              "<text style=\"fill:#000000; fill-opacity:1; font-family:Arial,Helvetica Neue,Helvetica,sans-serif; font-size:48px; text-anchor:end;\" transform=\"rotate(0, 206.483, 132.177)\" x=\"206.483\" y=\"132.177\">15</text>\n",
              "</g>\n",
              "<g clip-path=\"url(#clip4800)\">\n",
              "<text style=\"fill:#000000; fill-opacity:1; font-family:Arial,Helvetica Neue,Helvetica,sans-serif; font-size:66px; text-anchor:middle;\" transform=\"rotate(0, 1291.62, 1559.48)\" x=\"1291.62\" y=\"1559.48\">theta</text>\n",
              "</g>\n",
              "<g clip-path=\"url(#clip4800)\">\n",
              "<text style=\"fill:#000000; fill-opacity:1; font-family:Arial,Helvetica Neue,Helvetica,sans-serif; font-size:66px; text-anchor:middle;\" transform=\"rotate(-90, 89.2861, 736.431)\" x=\"89.2861\" y=\"736.431\">d_theta</text>\n",
              "</g>\n",
              "<polyline clip-path=\"url(#clip4802)\" style=\"stroke:#009af9; stroke-width:4; stroke-opacity:1; fill:none\" points=\"\n",
              "  2258.94,689.189 2271.76,697.758 2281.57,706.424 2288.35,715.172 2292.06,723.985 2292.69,732.848 2290.23,741.744 2284.65,750.657 2275.97,759.568 2264.19,768.46 \n",
              "  2249.31,777.315 2231.35,786.113 2210.34,794.836 2186.3,803.463 2159.27,811.974 2129.3,820.347 2096.43,828.561 2060.73,836.592 2022.26,844.418 1981.11,852.013 \n",
              "  1937.34,859.351 1891.07,866.406 1842.39,873.151 1791.41,879.555 1738.27,885.588 1683.08,891.218 1626.01,896.41 1567.21,901.129 1506.85,905.337 1445.11,908.994 \n",
              "  1382.2,912.06 1318.33,914.491 1253.73,916.243 1188.64,917.269 1123.33,917.521 1058.07,916.953 993.153,915.517 928.898,913.163 865.631,909.848 803.695,905.525 \n",
              "  743.448,900.156 685.262,893.703 629.521,886.136 576.619,877.431 526.955,867.571 480.933,856.551 438.96,844.374 401.435,831.057 368.752,816.629 341.291,801.133 \n",
              "  319.416,784.628 303.465,767.189 293.751,748.907 290.547,729.891 294.09,710.267 304.568,690.182 322.113,669.797 346.8,649.293 378.637,628.87 417.56,608.743 \n",
              "  463.426,589.145 516.008,570.325 574.992,552.545 639.966,536.083 710.421,521.225 785.747,508.269 865.228,497.52 948.037,489.285 1033.25,483.872 1119.81,481.582 \n",
              "  1206.6,482.703 1292.35,487.503 1375.76,496.214 1455.41,509.025 1529.85,526.063 1597.59,547.378 1657.14,572.928 1707.03,602.561 1745.88,635.998 1772.44,672.822 \n",
              "  1785.6,712.467 1784.51,754.213 1768.57,797.182 1737.53,840.35 1691.51,882.554 1631.07,922.518 1557.21,958.877 1471.44,990.212 1375.76,1015.09 1272.69,1032.13 \n",
              "  1165.19,1040.01 1056.69,1037.59 950.979,1023.93 852.11,998.44 764.291,960.932 691.697,911.763 638.271,851.947 607.47,783.252 601.989,708.273 623.473,630.441 \n",
              "  672.228,553.952 746.978,483.608 844.691,424.552 960.505,381.923 1087.8,360.456 1218.38,364.043 1342.91,395.272 1451.41,454.919 1534.01,541.401 1581.9,650.233 \n",
              "  1588.43,773.625 1550.26,900.434 1468.49,1016.73 1349.47,1107.16 1204.99,1156.94 1051.72,1154.29 909.718,1092.77 800.117,973.51 742.036,807.214 748.87,615.662 \n",
              "  824.353,431.264 959.287,292.954 1130.39,237.832 1302.61,290.665 1435.32,454.51 1491.65,703.761 1449.64,980.69 1313.29,1201.46 1118.93,1279.75 930.404,1163.54 \n",
              "  820.222,866.934 841.177,486.176 996.435,189.184 1221.33,149.435 1399.28,434.599 1419.74,926.625 1252.96,1325.88 1000.41,1306.69 856.322,808.093 959.311,198.29 \n",
              "  1236.34,86.2547 1402.56,693.695 1243.61,1386.61 936.689,1199.77 933.234,272.574 1276.15,113.119 1347.62,1145.32 959.163,1262.87 1002.55,109.822 1413.84,716.455 \n",
              "  \n",
              "  \"/>\n",
              "<path clip-path=\"url(#clip4800)\" d=\"\n",
              "M1989.93 251.724 L2280.76 251.724 L2280.76 130.764 L1989.93 130.764  Z\n",
              "  \" fill=\"#ffffff\" fill-rule=\"evenodd\" fill-opacity=\"1\"/>\n",
              "<polyline clip-path=\"url(#clip4800)\" style=\"stroke:#000000; stroke-width:4; stroke-opacity:1; fill:none\" points=\"\n",
              "  1989.93,251.724 2280.76,251.724 2280.76,130.764 1989.93,130.764 1989.93,251.724 \n",
              "  \"/>\n",
              "<polyline clip-path=\"url(#clip4800)\" style=\"stroke:#009af9; stroke-width:4; stroke-opacity:1; fill:none\" points=\"\n",
              "  2013.93,191.244 2157.93,191.244 \n",
              "  \"/>\n",
              "<g clip-path=\"url(#clip4800)\">\n",
              "<text style=\"fill:#000000; fill-opacity:1; font-family:Arial,Helvetica Neue,Helvetica,sans-serif; font-size:48px; text-anchor:start;\" transform=\"rotate(0, 2181.93, 208.744)\" x=\"2181.93\" y=\"208.744\">y1</text>\n",
              "</g>\n",
              "</svg>\n"
            ]
          },
          "metadata": {}
        }
      ],
      "execution_count": 16,
      "metadata": {
        "collapsed": false,
        "outputHidden": false,
        "inputHidden": false
      }
    }
  ],
  "metadata": {
    "kernel_info": {
      "name": "julia-1.0"
    },
    "language_info": {
      "file_extension": ".jl",
      "name": "julia",
      "mimetype": "application/julia",
      "version": "1.0.0"
    },
    "kernelspec": {
      "name": "julia-1.0",
      "language": "julia",
      "display_name": "Julia 1.0.0"
    },
    "nteract": {
      "version": "0.11.6"
    }
  },
  "nbformat": 4,
  "nbformat_minor": 4
}