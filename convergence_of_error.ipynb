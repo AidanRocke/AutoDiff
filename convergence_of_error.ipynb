{
  "cells": [
    {
      "cell_type": "markdown",
      "source": [
        "## 1. Let's first define the main derivative operation: "
      ],
      "metadata": {
        "collapsed": false,
        "outputHidden": false,
        "inputHidden": false
      }
    },
    {
      "cell_type": "code",
      "source": [
        "function nabla(f, x::Float64, delta::Float64)\n",
        "\n",
        "  ## automatic differentiation of holomorphic functions in a single complex variable\n",
        "  ## applied to real-valued functions in a single variable using the Cauchy Integral Formula\n",
        "\n",
        "  N = round(Int,2*pi/delta)\n",
        "  thetas = vcat(1:N)*delta\n",
        "\n",
        "  ## collect arguments and rotations: \n",
        "  rotations = map(theta -> exp(-im*theta),thetas)\n",
        "  arguments = x .+ conj.(rotations)  \n",
        "\n",
        "  ## calculate expectation: \n",
        "  expectation = 1.0/N*real(sum(map(f,arguments).*rotations))\n",
        "\n",
        "  return expectation\n",
        "\nend"
      ],
      "outputs": [
        {
          "output_type": "execute_result",
          "execution_count": 1,
          "data": {
            "text/plain": [
              "nabla (generic function with 1 method)"
            ]
          },
          "metadata": {}
        }
      ],
      "execution_count": 1,
      "metadata": {
        "collapsed": false,
        "outputHidden": false,
        "inputHidden": false
      }
    },
    {
      "cell_type": "markdown",
      "source": [
        "## 2. We define a function to compute the error of nabla: "
      ],
      "metadata": {}
    },
    {
      "cell_type": "code",
      "source": [
        "## define average rate of convergence for different deltas and inputs x: \n",
        "function average_errors(f,df,X::Array{Float64,1})\n",
        "\n",
        "    errors = zeros(5)\n",
        "\n",
        "    for i = 1:5\n",
        "\n",
        "        delta = (2*pi)/10^i\n",
        "\n",
        "        nabla_hat = map(x -> nabla(f,x,delta),X)\n",
        "\n",
        "        nabla_true =  df.(X)\n",
        "        \n",
        "        errors[i] = sum((nabla_hat .-nabla_true).^2)/100\n",
        "    \n",
        "    end\n",
        "    \n",
        "    return errors\n",
        "\nend"
      ],
      "outputs": [
        {
          "output_type": "execute_result",
          "execution_count": 2,
          "data": {
            "text/plain": [
              "average_errors (generic function with 1 method)"
            ]
          },
          "metadata": {}
        }
      ],
      "execution_count": 2,
      "metadata": {
        "collapsed": false,
        "outputHidden": false,
        "inputHidden": false
      }
    },
    {
      "cell_type": "markdown",
      "source": [
        "## 3. Let's consider a few neural network activation functions: "
      ],
      "metadata": {}
    },
    {
      "cell_type": "code",
      "source": [
        "sig(x) = 1/(1+exp(-x))\n",
        "\n",
        "d_sig(x) = sig(x)*(1-sig(x))\n",
        "\n",
        "sinh(x) = (exp(x)-exp(-x))/2\n",
        "\n",
        "cosh(x) = (exp(x)+exp(-x))/2\n",
        "\n",
        "tanh(x) = sinh(x)/cosh(x)\n",
        "\n",
        "d_tanh(x) = 1/cosh(x)^2\n",
        "\n",
        "## this is an analytic approximation to the relu: \n",
        "relu(x) = log(1+exp(x))\n",
        "\nd_relu(x) = sig(x)"
      ],
      "outputs": [
        {
          "output_type": "execute_result",
          "execution_count": 3,
          "data": {
            "text/plain": [
              "d_relu (generic function with 1 method)"
            ]
          },
          "metadata": {}
        }
      ],
      "execution_count": 3,
      "metadata": {
        "collapsed": false,
        "outputHidden": false,
        "inputHidden": false
      }
    },
    {
      "cell_type": "markdown",
      "source": [
        "## 4. The case of the sigmoid: "
      ],
      "metadata": {}
    },
    {
      "cell_type": "code",
      "source": [
        "## define range ~(-10,10): \n",
        "X = (vcat(1:100).-50.5)*.01\n",
        "\nerrors = average_errors(sig,d_sig,X)"
      ],
      "outputs": [
        {
          "output_type": "execute_result",
          "execution_count": 4,
          "data": {
            "text/plain": [
              "5-element Array{Float64,1}:\n",
              " 1.9003506373273576e-12\n",
              " 5.0844550531823024e-33\n",
              " 3.06145823959795e-32  \n",
              " 7.51112678311022e-33  \n",
              " 3.42815530100928e-33  "
            ]
          },
          "metadata": {}
        }
      ],
      "execution_count": 4,
      "metadata": {
        "collapsed": false,
        "outputHidden": false,
        "inputHidden": false
      }
    },
    {
      "cell_type": "code",
      "source": [
        "using Plots\n",
        "\n",
        "## plotting position against time: \n",
        "plot(1:5,errors)\n",
        "\n",
        "xlabel!(\"-log(delta)\")\n",
        "ylabel!(\"error\")"
      ],
      "outputs": [
        {
          "output_type": "execute_result",
          "execution_count": 5,
          "data": {
            "image/svg+xml": [
              "<?xml version=\"1.0\" encoding=\"utf-8\"?>\n",
              "<svg xmlns=\"http://www.w3.org/2000/svg\" xmlns:xlink=\"http://www.w3.org/1999/xlink\" width=\"600\" height=\"400\" viewBox=\"0 0 2400 1600\">\n",
              "<defs>\n",
              "  <clipPath id=\"clip1500\">\n",
              "    <rect x=\"0\" y=\"0\" width=\"2400\" height=\"1600\"/>\n",
              "  </clipPath>\n",
              "</defs>\n",
              "<path clip-path=\"url(#clip1500)\" d=\"\n",
              "M0 1600 L2400 1600 L2400 0 L0 0  Z\n",
              "  \" fill=\"#ffffff\" fill-rule=\"evenodd\" fill-opacity=\"1\"/>\n",
              "<defs>\n",
              "  <clipPath id=\"clip1501\">\n",
              "    <rect x=\"480\" y=\"0\" width=\"1681\" height=\"1600\"/>\n",
              "  </clipPath>\n",
              "</defs>\n",
              "<path clip-path=\"url(#clip1500)\" d=\"\n",
              "M395.245 1425.62 L2352.76 1425.62 L2352.76 47.2441 L395.245 47.2441  Z\n",
              "  \" fill=\"#ffffff\" fill-rule=\"evenodd\" fill-opacity=\"1\"/>\n",
              "<defs>\n",
              "  <clipPath id=\"clip1502\">\n",
              "    <rect x=\"395\" y=\"47\" width=\"1959\" height=\"1379\"/>\n",
              "  </clipPath>\n",
              "</defs>\n",
              "<polyline clip-path=\"url(#clip1502)\" style=\"stroke:#000000; stroke-width:2; stroke-opacity:0.1; fill:none\" points=\"\n",
              "  450.646,1425.62 450.646,47.2441 \n",
              "  \"/>\n",
              "<polyline clip-path=\"url(#clip1502)\" style=\"stroke:#000000; stroke-width:2; stroke-opacity:0.1; fill:none\" points=\"\n",
              "  912.323,1425.62 912.323,47.2441 \n",
              "  \"/>\n",
              "<polyline clip-path=\"url(#clip1502)\" style=\"stroke:#000000; stroke-width:2; stroke-opacity:0.1; fill:none\" points=\"\n",
              "  1374,1425.62 1374,47.2441 \n",
              "  \"/>\n",
              "<polyline clip-path=\"url(#clip1502)\" style=\"stroke:#000000; stroke-width:2; stroke-opacity:0.1; fill:none\" points=\"\n",
              "  1835.68,1425.62 1835.68,47.2441 \n",
              "  \"/>\n",
              "<polyline clip-path=\"url(#clip1502)\" style=\"stroke:#000000; stroke-width:2; stroke-opacity:0.1; fill:none\" points=\"\n",
              "  2297.35,1425.62 2297.35,47.2441 \n",
              "  \"/>\n",
              "<polyline clip-path=\"url(#clip1502)\" style=\"stroke:#000000; stroke-width:2; stroke-opacity:0.1; fill:none\" points=\"\n",
              "  395.245,1386.61 2352.76,1386.61 \n",
              "  \"/>\n",
              "<polyline clip-path=\"url(#clip1502)\" style=\"stroke:#000000; stroke-width:2; stroke-opacity:0.1; fill:none\" points=\"\n",
              "  395.245,1044.47 2352.76,1044.47 \n",
              "  \"/>\n",
              "<polyline clip-path=\"url(#clip1502)\" style=\"stroke:#000000; stroke-width:2; stroke-opacity:0.1; fill:none\" points=\"\n",
              "  395.245,702.338 2352.76,702.338 \n",
              "  \"/>\n",
              "<polyline clip-path=\"url(#clip1502)\" style=\"stroke:#000000; stroke-width:2; stroke-opacity:0.1; fill:none\" points=\"\n",
              "  395.245,360.203 2352.76,360.203 \n",
              "  \"/>\n",
              "<polyline clip-path=\"url(#clip1500)\" style=\"stroke:#000000; stroke-width:4; stroke-opacity:1; fill:none\" points=\"\n",
              "  395.245,1425.62 2352.76,1425.62 \n",
              "  \"/>\n",
              "<polyline clip-path=\"url(#clip1500)\" style=\"stroke:#000000; stroke-width:4; stroke-opacity:1; fill:none\" points=\"\n",
              "  395.245,1425.62 395.245,47.2441 \n",
              "  \"/>\n",
              "<polyline clip-path=\"url(#clip1500)\" style=\"stroke:#000000; stroke-width:4; stroke-opacity:1; fill:none\" points=\"\n",
              "  450.646,1425.62 450.646,1404.94 \n",
              "  \"/>\n",
              "<polyline clip-path=\"url(#clip1500)\" style=\"stroke:#000000; stroke-width:4; stroke-opacity:1; fill:none\" points=\"\n",
              "  912.323,1425.62 912.323,1404.94 \n",
              "  \"/>\n",
              "<polyline clip-path=\"url(#clip1500)\" style=\"stroke:#000000; stroke-width:4; stroke-opacity:1; fill:none\" points=\"\n",
              "  1374,1425.62 1374,1404.94 \n",
              "  \"/>\n",
              "<polyline clip-path=\"url(#clip1500)\" style=\"stroke:#000000; stroke-width:4; stroke-opacity:1; fill:none\" points=\"\n",
              "  1835.68,1425.62 1835.68,1404.94 \n",
              "  \"/>\n",
              "<polyline clip-path=\"url(#clip1500)\" style=\"stroke:#000000; stroke-width:4; stroke-opacity:1; fill:none\" points=\"\n",
              "  2297.35,1425.62 2297.35,1404.94 \n",
              "  \"/>\n",
              "<polyline clip-path=\"url(#clip1500)\" style=\"stroke:#000000; stroke-width:4; stroke-opacity:1; fill:none\" points=\"\n",
              "  395.245,1386.61 424.607,1386.61 \n",
              "  \"/>\n",
              "<polyline clip-path=\"url(#clip1500)\" style=\"stroke:#000000; stroke-width:4; stroke-opacity:1; fill:none\" points=\"\n",
              "  395.245,1044.47 424.607,1044.47 \n",
              "  \"/>\n",
              "<polyline clip-path=\"url(#clip1500)\" style=\"stroke:#000000; stroke-width:4; stroke-opacity:1; fill:none\" points=\"\n",
              "  395.245,702.338 424.607,702.338 \n",
              "  \"/>\n",
              "<polyline clip-path=\"url(#clip1500)\" style=\"stroke:#000000; stroke-width:4; stroke-opacity:1; fill:none\" points=\"\n",
              "  395.245,360.203 424.607,360.203 \n",
              "  \"/>\n",
              "<g clip-path=\"url(#clip1500)\">\n",
              "<text style=\"fill:#000000; fill-opacity:1; font-family:Arial,Helvetica Neue,Helvetica,sans-serif; font-size:48px; text-anchor:middle;\" transform=\"rotate(0, 450.646, 1479.62)\" x=\"450.646\" y=\"1479.62\">1</text>\n",
              "</g>\n",
              "<g clip-path=\"url(#clip1500)\">\n",
              "<text style=\"fill:#000000; fill-opacity:1; font-family:Arial,Helvetica Neue,Helvetica,sans-serif; font-size:48px; text-anchor:middle;\" transform=\"rotate(0, 912.323, 1479.62)\" x=\"912.323\" y=\"1479.62\">2</text>\n",
              "</g>\n",
              "<g clip-path=\"url(#clip1500)\">\n",
              "<text style=\"fill:#000000; fill-opacity:1; font-family:Arial,Helvetica Neue,Helvetica,sans-serif; font-size:48px; text-anchor:middle;\" transform=\"rotate(0, 1374, 1479.62)\" x=\"1374\" y=\"1479.62\">3</text>\n",
              "</g>\n",
              "<g clip-path=\"url(#clip1500)\">\n",
              "<text style=\"fill:#000000; fill-opacity:1; font-family:Arial,Helvetica Neue,Helvetica,sans-serif; font-size:48px; text-anchor:middle;\" transform=\"rotate(0, 1835.68, 1479.62)\" x=\"1835.68\" y=\"1479.62\">4</text>\n",
              "</g>\n",
              "<g clip-path=\"url(#clip1500)\">\n",
              "<text style=\"fill:#000000; fill-opacity:1; font-family:Arial,Helvetica Neue,Helvetica,sans-serif; font-size:48px; text-anchor:middle;\" transform=\"rotate(0, 2297.35, 1479.62)\" x=\"2297.35\" y=\"1479.62\">5</text>\n",
              "</g>\n",
              "<g clip-path=\"url(#clip1500)\">\n",
              "<text style=\"fill:#000000; fill-opacity:1; font-family:Arial,Helvetica Neue,Helvetica,sans-serif; font-size:48px; text-anchor:end;\" transform=\"rotate(0, 371.245, 1404.11)\" x=\"371.245\" y=\"1404.11\">0</text>\n",
              "</g>\n",
              "<g clip-path=\"url(#clip1500)\">\n",
              "<text style=\"fill:#000000; fill-opacity:1; font-family:Arial,Helvetica Neue,Helvetica,sans-serif; font-size:48px; text-anchor:start;\" transform=\"rotate(0, 156.376, 1068.2)\" x=\"156.376\" y=\"1068.2\">5.0×10</text>\n",
              "</g>\n",
              "<g clip-path=\"url(#clip1500)\">\n",
              "<text style=\"fill:#000000; fill-opacity:1; font-family:Arial,Helvetica Neue,Helvetica,sans-serif; font-size:38px; text-anchor:start;\" transform=\"rotate(0, 304.916, 1040.79)\" x=\"304.916\" y=\"1040.79\">-</text>\n",
              "</g>\n",
              "<g clip-path=\"url(#clip1500)\">\n",
              "<text style=\"fill:#000000; fill-opacity:1; font-family:Arial,Helvetica Neue,Helvetica,sans-serif; font-size:38px; text-anchor:start;\" transform=\"rotate(0, 327.756, 1040.79)\" x=\"327.756\" y=\"1040.79\">13</text>\n",
              "</g>\n",
              "<g clip-path=\"url(#clip1500)\">\n",
              "<text style=\"fill:#000000; fill-opacity:1; font-family:Arial,Helvetica Neue,Helvetica,sans-serif; font-size:48px; text-anchor:start;\" transform=\"rotate(0, 156.376, 726.065)\" x=\"156.376\" y=\"726.065\">1.0×10</text>\n",
              "</g>\n",
              "<g clip-path=\"url(#clip1500)\">\n",
              "<text style=\"fill:#000000; fill-opacity:1; font-family:Arial,Helvetica Neue,Helvetica,sans-serif; font-size:38px; text-anchor:start;\" transform=\"rotate(0, 304.916, 698.655)\" x=\"304.916\" y=\"698.655\">-</text>\n",
              "</g>\n",
              "<g clip-path=\"url(#clip1500)\">\n",
              "<text style=\"fill:#000000; fill-opacity:1; font-family:Arial,Helvetica Neue,Helvetica,sans-serif; font-size:38px; text-anchor:start;\" transform=\"rotate(0, 327.756, 698.655)\" x=\"327.756\" y=\"698.655\">12</text>\n",
              "</g>\n",
              "<g clip-path=\"url(#clip1500)\">\n",
              "<text style=\"fill:#000000; fill-opacity:1; font-family:Arial,Helvetica Neue,Helvetica,sans-serif; font-size:48px; text-anchor:start;\" transform=\"rotate(0, 156.376, 383.93)\" x=\"156.376\" y=\"383.93\">1.5×10</text>\n",
              "</g>\n",
              "<g clip-path=\"url(#clip1500)\">\n",
              "<text style=\"fill:#000000; fill-opacity:1; font-family:Arial,Helvetica Neue,Helvetica,sans-serif; font-size:38px; text-anchor:start;\" transform=\"rotate(0, 304.916, 356.52)\" x=\"304.916\" y=\"356.52\">-</text>\n",
              "</g>\n",
              "<g clip-path=\"url(#clip1500)\">\n",
              "<text style=\"fill:#000000; fill-opacity:1; font-family:Arial,Helvetica Neue,Helvetica,sans-serif; font-size:38px; text-anchor:start;\" transform=\"rotate(0, 327.756, 356.52)\" x=\"327.756\" y=\"356.52\">12</text>\n",
              "</g>\n",
              "<g clip-path=\"url(#clip1500)\">\n",
              "<text style=\"fill:#000000; fill-opacity:1; font-family:Arial,Helvetica Neue,Helvetica,sans-serif; font-size:66px; text-anchor:middle;\" transform=\"rotate(0, 1374, 1559.48)\" x=\"1374\" y=\"1559.48\">-log(delta)</text>\n",
              "</g>\n",
              "<g clip-path=\"url(#clip1500)\">\n",
              "<text style=\"fill:#000000; fill-opacity:1; font-family:Arial,Helvetica Neue,Helvetica,sans-serif; font-size:66px; text-anchor:middle;\" transform=\"rotate(-90, 89.2861, 736.431)\" x=\"89.2861\" y=\"736.431\">error</text>\n",
              "</g>\n",
              "<polyline clip-path=\"url(#clip1502)\" style=\"stroke:#009af9; stroke-width:4; stroke-opacity:1; fill:none\" points=\"\n",
              "  450.646,86.2547 912.323,1386.61 1374,1386.61 1835.68,1386.61 2297.35,1386.61 \n",
              "  \"/>\n",
              "<path clip-path=\"url(#clip1500)\" d=\"\n",
              "M1989.93 251.724 L2280.76 251.724 L2280.76 130.764 L1989.93 130.764  Z\n",
              "  \" fill=\"#ffffff\" fill-rule=\"evenodd\" fill-opacity=\"1\"/>\n",
              "<polyline clip-path=\"url(#clip1500)\" style=\"stroke:#000000; stroke-width:4; stroke-opacity:1; fill:none\" points=\"\n",
              "  1989.93,251.724 2280.76,251.724 2280.76,130.764 1989.93,130.764 1989.93,251.724 \n",
              "  \"/>\n",
              "<polyline clip-path=\"url(#clip1500)\" style=\"stroke:#009af9; stroke-width:4; stroke-opacity:1; fill:none\" points=\"\n",
              "  2013.93,191.244 2157.93,191.244 \n",
              "  \"/>\n",
              "<g clip-path=\"url(#clip1500)\">\n",
              "<text style=\"fill:#000000; fill-opacity:1; font-family:Arial,Helvetica Neue,Helvetica,sans-serif; font-size:48px; text-anchor:start;\" transform=\"rotate(0, 2181.93, 208.744)\" x=\"2181.93\" y=\"208.744\">y1</text>\n",
              "</g>\n",
              "</svg>\n"
            ]
          },
          "metadata": {}
        }
      ],
      "execution_count": 5,
      "metadata": {
        "collapsed": false,
        "outputHidden": false,
        "inputHidden": false
      }
    },
    {
      "cell_type": "markdown",
      "source": [
        "## "
      ],
      "metadata": {}
    },
    {
      "cell_type": "markdown",
      "source": [
        "## 5. The case of the tanh: "
      ],
      "metadata": {}
    },
    {
      "cell_type": "code",
      "source": [
        "## define range ~(-10,10): \n",
        "X = (vcat(1:100).-50.5)*.01\n",
        "\nerrors = average_errors(tanh,d_tanh,X)"
      ],
      "outputs": [
        {
          "output_type": "execute_result",
          "execution_count": 6,
          "data": {
            "text/plain": [
              "5-element Array{Float64,1}:\n",
              " 2.91501197256117e-5   \n",
              " 8.911663038668618e-32 \n",
              " 5.253320590706175e-31 \n",
              " 5.842501079293119e-32 \n",
              " 3.3649847988333785e-32"
            ]
          },
          "metadata": {}
        }
      ],
      "execution_count": 6,
      "metadata": {
        "collapsed": false,
        "outputHidden": false,
        "inputHidden": false
      }
    },
    {
      "cell_type": "code",
      "source": [
        "using Plots\n",
        "\n",
        "## plotting position against time: \n",
        "plot(1:5,errors)\n",
        "\n",
        "xlabel!(\"-log(delta)\")\n",
        "ylabel!(\"error\")"
      ],
      "outputs": [
        {
          "output_type": "execute_result",
          "execution_count": 7,
          "data": {
            "image/svg+xml": [
              "<?xml version=\"1.0\" encoding=\"utf-8\"?>\n",
              "<svg xmlns=\"http://www.w3.org/2000/svg\" xmlns:xlink=\"http://www.w3.org/1999/xlink\" width=\"600\" height=\"400\" viewBox=\"0 0 2400 1600\">\n",
              "<defs>\n",
              "  <clipPath id=\"clip1900\">\n",
              "    <rect x=\"0\" y=\"0\" width=\"2400\" height=\"1600\"/>\n",
              "  </clipPath>\n",
              "</defs>\n",
              "<path clip-path=\"url(#clip1900)\" d=\"\n",
              "M0 1600 L2400 1600 L2400 0 L0 0  Z\n",
              "  \" fill=\"#ffffff\" fill-rule=\"evenodd\" fill-opacity=\"1\"/>\n",
              "<defs>\n",
              "  <clipPath id=\"clip1901\">\n",
              "    <rect x=\"480\" y=\"0\" width=\"1681\" height=\"1600\"/>\n",
              "  </clipPath>\n",
              "</defs>\n",
              "<path clip-path=\"url(#clip1900)\" d=\"\n",
              "M388.843 1425.62 L2352.76 1425.62 L2352.76 47.2441 L388.843 47.2441  Z\n",
              "  \" fill=\"#ffffff\" fill-rule=\"evenodd\" fill-opacity=\"1\"/>\n",
              "<defs>\n",
              "  <clipPath id=\"clip1902\">\n",
              "    <rect x=\"388\" y=\"47\" width=\"1965\" height=\"1379\"/>\n",
              "  </clipPath>\n",
              "</defs>\n",
              "<polyline clip-path=\"url(#clip1902)\" style=\"stroke:#000000; stroke-width:2; stroke-opacity:0.1; fill:none\" points=\"\n",
              "  444.425,1425.62 444.425,47.2441 \n",
              "  \"/>\n",
              "<polyline clip-path=\"url(#clip1902)\" style=\"stroke:#000000; stroke-width:2; stroke-opacity:0.1; fill:none\" points=\"\n",
              "  907.612,1425.62 907.612,47.2441 \n",
              "  \"/>\n",
              "<polyline clip-path=\"url(#clip1902)\" style=\"stroke:#000000; stroke-width:2; stroke-opacity:0.1; fill:none\" points=\"\n",
              "  1370.8,1425.62 1370.8,47.2441 \n",
              "  \"/>\n",
              "<polyline clip-path=\"url(#clip1902)\" style=\"stroke:#000000; stroke-width:2; stroke-opacity:0.1; fill:none\" points=\"\n",
              "  1833.99,1425.62 1833.99,47.2441 \n",
              "  \"/>\n",
              "<polyline clip-path=\"url(#clip1902)\" style=\"stroke:#000000; stroke-width:2; stroke-opacity:0.1; fill:none\" points=\"\n",
              "  2297.17,1425.62 2297.17,47.2441 \n",
              "  \"/>\n",
              "<polyline clip-path=\"url(#clip1902)\" style=\"stroke:#000000; stroke-width:2; stroke-opacity:0.1; fill:none\" points=\"\n",
              "  388.843,1386.61 2352.76,1386.61 \n",
              "  \"/>\n",
              "<polyline clip-path=\"url(#clip1902)\" style=\"stroke:#000000; stroke-width:2; stroke-opacity:0.1; fill:none\" points=\"\n",
              "  388.843,940.52 2352.76,940.52 \n",
              "  \"/>\n",
              "<polyline clip-path=\"url(#clip1902)\" style=\"stroke:#000000; stroke-width:2; stroke-opacity:0.1; fill:none\" points=\"\n",
              "  388.843,494.431 2352.76,494.431 \n",
              "  \"/>\n",
              "<polyline clip-path=\"url(#clip1902)\" style=\"stroke:#000000; stroke-width:2; stroke-opacity:0.1; fill:none\" points=\"\n",
              "  388.843,48.3425 2352.76,48.3425 \n",
              "  \"/>\n",
              "<polyline clip-path=\"url(#clip1900)\" style=\"stroke:#000000; stroke-width:4; stroke-opacity:1; fill:none\" points=\"\n",
              "  388.843,1425.62 2352.76,1425.62 \n",
              "  \"/>\n",
              "<polyline clip-path=\"url(#clip1900)\" style=\"stroke:#000000; stroke-width:4; stroke-opacity:1; fill:none\" points=\"\n",
              "  388.843,1425.62 388.843,47.2441 \n",
              "  \"/>\n",
              "<polyline clip-path=\"url(#clip1900)\" style=\"stroke:#000000; stroke-width:4; stroke-opacity:1; fill:none\" points=\"\n",
              "  444.425,1425.62 444.425,1404.94 \n",
              "  \"/>\n",
              "<polyline clip-path=\"url(#clip1900)\" style=\"stroke:#000000; stroke-width:4; stroke-opacity:1; fill:none\" points=\"\n",
              "  907.612,1425.62 907.612,1404.94 \n",
              "  \"/>\n",
              "<polyline clip-path=\"url(#clip1900)\" style=\"stroke:#000000; stroke-width:4; stroke-opacity:1; fill:none\" points=\"\n",
              "  1370.8,1425.62 1370.8,1404.94 \n",
              "  \"/>\n",
              "<polyline clip-path=\"url(#clip1900)\" style=\"stroke:#000000; stroke-width:4; stroke-opacity:1; fill:none\" points=\"\n",
              "  1833.99,1425.62 1833.99,1404.94 \n",
              "  \"/>\n",
              "<polyline clip-path=\"url(#clip1900)\" style=\"stroke:#000000; stroke-width:4; stroke-opacity:1; fill:none\" points=\"\n",
              "  2297.17,1425.62 2297.17,1404.94 \n",
              "  \"/>\n",
              "<polyline clip-path=\"url(#clip1900)\" style=\"stroke:#000000; stroke-width:4; stroke-opacity:1; fill:none\" points=\"\n",
              "  388.843,1386.61 418.302,1386.61 \n",
              "  \"/>\n",
              "<polyline clip-path=\"url(#clip1900)\" style=\"stroke:#000000; stroke-width:4; stroke-opacity:1; fill:none\" points=\"\n",
              "  388.843,940.52 418.302,940.52 \n",
              "  \"/>\n",
              "<polyline clip-path=\"url(#clip1900)\" style=\"stroke:#000000; stroke-width:4; stroke-opacity:1; fill:none\" points=\"\n",
              "  388.843,494.431 418.302,494.431 \n",
              "  \"/>\n",
              "<polyline clip-path=\"url(#clip1900)\" style=\"stroke:#000000; stroke-width:4; stroke-opacity:1; fill:none\" points=\"\n",
              "  388.843,48.3425 418.302,48.3425 \n",
              "  \"/>\n",
              "<g clip-path=\"url(#clip1900)\">\n",
              "<text style=\"fill:#000000; fill-opacity:1; font-family:Arial,Helvetica Neue,Helvetica,sans-serif; font-size:48px; text-anchor:middle;\" transform=\"rotate(0, 444.425, 1479.62)\" x=\"444.425\" y=\"1479.62\">1</text>\n",
              "</g>\n",
              "<g clip-path=\"url(#clip1900)\">\n",
              "<text style=\"fill:#000000; fill-opacity:1; font-family:Arial,Helvetica Neue,Helvetica,sans-serif; font-size:48px; text-anchor:middle;\" transform=\"rotate(0, 907.612, 1479.62)\" x=\"907.612\" y=\"1479.62\">2</text>\n",
              "</g>\n",
              "<g clip-path=\"url(#clip1900)\">\n",
              "<text style=\"fill:#000000; fill-opacity:1; font-family:Arial,Helvetica Neue,Helvetica,sans-serif; font-size:48px; text-anchor:middle;\" transform=\"rotate(0, 1370.8, 1479.62)\" x=\"1370.8\" y=\"1479.62\">3</text>\n",
              "</g>\n",
              "<g clip-path=\"url(#clip1900)\">\n",
              "<text style=\"fill:#000000; fill-opacity:1; font-family:Arial,Helvetica Neue,Helvetica,sans-serif; font-size:48px; text-anchor:middle;\" transform=\"rotate(0, 1833.99, 1479.62)\" x=\"1833.99\" y=\"1479.62\">4</text>\n",
              "</g>\n",
              "<g clip-path=\"url(#clip1900)\">\n",
              "<text style=\"fill:#000000; fill-opacity:1; font-family:Arial,Helvetica Neue,Helvetica,sans-serif; font-size:48px; text-anchor:middle;\" transform=\"rotate(0, 2297.17, 1479.62)\" x=\"2297.17\" y=\"1479.62\">5</text>\n",
              "</g>\n",
              "<g clip-path=\"url(#clip1900)\">\n",
              "<text style=\"fill:#000000; fill-opacity:1; font-family:Arial,Helvetica Neue,Helvetica,sans-serif; font-size:48px; text-anchor:end;\" transform=\"rotate(0, 364.843, 1404.11)\" x=\"364.843\" y=\"1404.11\">0</text>\n",
              "</g>\n",
              "<g clip-path=\"url(#clip1900)\">\n",
              "<text style=\"fill:#000000; fill-opacity:1; font-family:Arial,Helvetica Neue,Helvetica,sans-serif; font-size:48px; text-anchor:start;\" transform=\"rotate(0, 211.862, 964.247)\" x=\"211.862\" y=\"964.247\">1×10</text>\n",
              "</g>\n",
              "<g clip-path=\"url(#clip1900)\">\n",
              "<text style=\"fill:#000000; fill-opacity:1; font-family:Arial,Helvetica Neue,Helvetica,sans-serif; font-size:38px; text-anchor:start;\" transform=\"rotate(0, 320.259, 936.837)\" x=\"320.259\" y=\"936.837\">-</text>\n",
              "</g>\n",
              "<g clip-path=\"url(#clip1900)\">\n",
              "<text style=\"fill:#000000; fill-opacity:1; font-family:Arial,Helvetica Neue,Helvetica,sans-serif; font-size:38px; text-anchor:start;\" transform=\"rotate(0, 343.098, 936.837)\" x=\"343.098\" y=\"936.837\">5</text>\n",
              "</g>\n",
              "<g clip-path=\"url(#clip1900)\">\n",
              "<text style=\"fill:#000000; fill-opacity:1; font-family:Arial,Helvetica Neue,Helvetica,sans-serif; font-size:48px; text-anchor:start;\" transform=\"rotate(0, 211.862, 518.159)\" x=\"211.862\" y=\"518.159\">2×10</text>\n",
              "</g>\n",
              "<g clip-path=\"url(#clip1900)\">\n",
              "<text style=\"fill:#000000; fill-opacity:1; font-family:Arial,Helvetica Neue,Helvetica,sans-serif; font-size:38px; text-anchor:start;\" transform=\"rotate(0, 320.259, 490.748)\" x=\"320.259\" y=\"490.748\">-</text>\n",
              "</g>\n",
              "<g clip-path=\"url(#clip1900)\">\n",
              "<text style=\"fill:#000000; fill-opacity:1; font-family:Arial,Helvetica Neue,Helvetica,sans-serif; font-size:38px; text-anchor:start;\" transform=\"rotate(0, 343.098, 490.748)\" x=\"343.098\" y=\"490.748\">5</text>\n",
              "</g>\n",
              "<g clip-path=\"url(#clip1900)\">\n",
              "<text style=\"fill:#000000; fill-opacity:1; font-family:Arial,Helvetica Neue,Helvetica,sans-serif; font-size:48px; text-anchor:start;\" transform=\"rotate(0, 211.862, 72.0701)\" x=\"211.862\" y=\"72.0701\">3×10</text>\n",
              "</g>\n",
              "<g clip-path=\"url(#clip1900)\">\n",
              "<text style=\"fill:#000000; fill-opacity:1; font-family:Arial,Helvetica Neue,Helvetica,sans-serif; font-size:38px; text-anchor:start;\" transform=\"rotate(0, 320.259, 44.6597)\" x=\"320.259\" y=\"44.6597\">-</text>\n",
              "</g>\n",
              "<g clip-path=\"url(#clip1900)\">\n",
              "<text style=\"fill:#000000; fill-opacity:1; font-family:Arial,Helvetica Neue,Helvetica,sans-serif; font-size:38px; text-anchor:start;\" transform=\"rotate(0, 343.098, 44.6597)\" x=\"343.098\" y=\"44.6597\">5</text>\n",
              "</g>\n",
              "<g clip-path=\"url(#clip1900)\">\n",
              "<text style=\"fill:#000000; fill-opacity:1; font-family:Arial,Helvetica Neue,Helvetica,sans-serif; font-size:66px; text-anchor:middle;\" transform=\"rotate(0, 1370.8, 1559.48)\" x=\"1370.8\" y=\"1559.48\">-log(delta)</text>\n",
              "</g>\n",
              "<g clip-path=\"url(#clip1900)\">\n",
              "<text style=\"fill:#000000; fill-opacity:1; font-family:Arial,Helvetica Neue,Helvetica,sans-serif; font-size:66px; text-anchor:middle;\" transform=\"rotate(-90, 89.2861, 736.431)\" x=\"89.2861\" y=\"736.431\">error</text>\n",
              "</g>\n",
              "<polyline clip-path=\"url(#clip1902)\" style=\"stroke:#009af9; stroke-width:4; stroke-opacity:1; fill:none\" points=\"\n",
              "  444.425,86.2547 907.612,1386.61 1370.8,1386.61 1833.99,1386.61 2297.17,1386.61 \n",
              "  \"/>\n",
              "<path clip-path=\"url(#clip1900)\" d=\"\n",
              "M1989.93 251.724 L2280.76 251.724 L2280.76 130.764 L1989.93 130.764  Z\n",
              "  \" fill=\"#ffffff\" fill-rule=\"evenodd\" fill-opacity=\"1\"/>\n",
              "<polyline clip-path=\"url(#clip1900)\" style=\"stroke:#000000; stroke-width:4; stroke-opacity:1; fill:none\" points=\"\n",
              "  1989.93,251.724 2280.76,251.724 2280.76,130.764 1989.93,130.764 1989.93,251.724 \n",
              "  \"/>\n",
              "<polyline clip-path=\"url(#clip1900)\" style=\"stroke:#009af9; stroke-width:4; stroke-opacity:1; fill:none\" points=\"\n",
              "  2013.93,191.244 2157.93,191.244 \n",
              "  \"/>\n",
              "<g clip-path=\"url(#clip1900)\">\n",
              "<text style=\"fill:#000000; fill-opacity:1; font-family:Arial,Helvetica Neue,Helvetica,sans-serif; font-size:48px; text-anchor:start;\" transform=\"rotate(0, 2181.93, 208.744)\" x=\"2181.93\" y=\"208.744\">y1</text>\n",
              "</g>\n",
              "</svg>\n"
            ]
          },
          "metadata": {}
        }
      ],
      "execution_count": 7,
      "metadata": {
        "collapsed": false,
        "outputHidden": false,
        "inputHidden": false
      }
    },
    {
      "cell_type": "markdown",
      "source": [
        "## 6. The case of relu: "
      ],
      "metadata": {}
    },
    {
      "cell_type": "code",
      "source": [
        "## define range ~(-10,10): \n",
        "X = (vcat(1:100).-50.5)*.01\n",
        "\nerrors = average_errors(relu,d_relu,X)"
      ],
      "outputs": [
        {
          "output_type": "execute_result",
          "execution_count": 8,
          "data": {
            "text/plain": [
              "5-element Array{Float64,1}:\n",
              " 1.822868958433552e-13 \n",
              " 2.582286869434406e-32 \n",
              " 1.815612677172735e-31 \n",
              " 2.348093788196918e-32 \n",
              " 1.0631133293017542e-32"
            ]
          },
          "metadata": {}
        }
      ],
      "execution_count": 8,
      "metadata": {
        "collapsed": false,
        "outputHidden": false,
        "inputHidden": false
      }
    },
    {
      "cell_type": "code",
      "source": [
        "using Plots\n",
        "\n",
        "## plotting position against time: \n",
        "plot(1:5,errors)\n",
        "\n",
        "xlabel!(\"-log(delta)\")\n",
        "ylabel!(\"error\")"
      ],
      "outputs": [
        {
          "output_type": "execute_result",
          "execution_count": 9,
          "data": {
            "image/svg+xml": [
              "<?xml version=\"1.0\" encoding=\"utf-8\"?>\n",
              "<svg xmlns=\"http://www.w3.org/2000/svg\" xmlns:xlink=\"http://www.w3.org/1999/xlink\" width=\"600\" height=\"400\" viewBox=\"0 0 2400 1600\">\n",
              "<defs>\n",
              "  <clipPath id=\"clip2300\">\n",
              "    <rect x=\"0\" y=\"0\" width=\"2400\" height=\"1600\"/>\n",
              "  </clipPath>\n",
              "</defs>\n",
              "<path clip-path=\"url(#clip2300)\" d=\"\n",
              "M0 1600 L2400 1600 L2400 0 L0 0  Z\n",
              "  \" fill=\"#ffffff\" fill-rule=\"evenodd\" fill-opacity=\"1\"/>\n",
              "<defs>\n",
              "  <clipPath id=\"clip2301\">\n",
              "    <rect x=\"480\" y=\"0\" width=\"1681\" height=\"1600\"/>\n",
              "  </clipPath>\n",
              "</defs>\n",
              "<path clip-path=\"url(#clip2300)\" d=\"\n",
              "M431.634 1425.62 L2352.76 1425.62 L2352.76 47.2441 L431.634 47.2441  Z\n",
              "  \" fill=\"#ffffff\" fill-rule=\"evenodd\" fill-opacity=\"1\"/>\n",
              "<defs>\n",
              "  <clipPath id=\"clip2302\">\n",
              "    <rect x=\"431\" y=\"47\" width=\"1922\" height=\"1379\"/>\n",
              "  </clipPath>\n",
              "</defs>\n",
              "<polyline clip-path=\"url(#clip2302)\" style=\"stroke:#000000; stroke-width:2; stroke-opacity:0.1; fill:none\" points=\"\n",
              "  486.005,1425.62 486.005,47.2441 \n",
              "  \"/>\n",
              "<polyline clip-path=\"url(#clip2302)\" style=\"stroke:#000000; stroke-width:2; stroke-opacity:0.1; fill:none\" points=\"\n",
              "  939.1,1425.62 939.1,47.2441 \n",
              "  \"/>\n",
              "<polyline clip-path=\"url(#clip2302)\" style=\"stroke:#000000; stroke-width:2; stroke-opacity:0.1; fill:none\" points=\"\n",
              "  1392.19,1425.62 1392.19,47.2441 \n",
              "  \"/>\n",
              "<polyline clip-path=\"url(#clip2302)\" style=\"stroke:#000000; stroke-width:2; stroke-opacity:0.1; fill:none\" points=\"\n",
              "  1845.29,1425.62 1845.29,47.2441 \n",
              "  \"/>\n",
              "<polyline clip-path=\"url(#clip2302)\" style=\"stroke:#000000; stroke-width:2; stroke-opacity:0.1; fill:none\" points=\"\n",
              "  2298.38,1425.62 2298.38,47.2441 \n",
              "  \"/>\n",
              "<polyline clip-path=\"url(#clip2302)\" style=\"stroke:#000000; stroke-width:2; stroke-opacity:0.1; fill:none\" points=\"\n",
              "  431.634,1386.61 2352.76,1386.61 \n",
              "  \"/>\n",
              "<polyline clip-path=\"url(#clip2302)\" style=\"stroke:#000000; stroke-width:2; stroke-opacity:0.1; fill:none\" points=\"\n",
              "  431.634,1029.93 2352.76,1029.93 \n",
              "  \"/>\n",
              "<polyline clip-path=\"url(#clip2302)\" style=\"stroke:#000000; stroke-width:2; stroke-opacity:0.1; fill:none\" points=\"\n",
              "  431.634,673.253 2352.76,673.253 \n",
              "  \"/>\n",
              "<polyline clip-path=\"url(#clip2302)\" style=\"stroke:#000000; stroke-width:2; stroke-opacity:0.1; fill:none\" points=\"\n",
              "  431.634,316.575 2352.76,316.575 \n",
              "  \"/>\n",
              "<polyline clip-path=\"url(#clip2300)\" style=\"stroke:#000000; stroke-width:4; stroke-opacity:1; fill:none\" points=\"\n",
              "  431.634,1425.62 2352.76,1425.62 \n",
              "  \"/>\n",
              "<polyline clip-path=\"url(#clip2300)\" style=\"stroke:#000000; stroke-width:4; stroke-opacity:1; fill:none\" points=\"\n",
              "  431.634,1425.62 431.634,47.2441 \n",
              "  \"/>\n",
              "<polyline clip-path=\"url(#clip2300)\" style=\"stroke:#000000; stroke-width:4; stroke-opacity:1; fill:none\" points=\"\n",
              "  486.005,1425.62 486.005,1404.94 \n",
              "  \"/>\n",
              "<polyline clip-path=\"url(#clip2300)\" style=\"stroke:#000000; stroke-width:4; stroke-opacity:1; fill:none\" points=\"\n",
              "  939.1,1425.62 939.1,1404.94 \n",
              "  \"/>\n",
              "<polyline clip-path=\"url(#clip2300)\" style=\"stroke:#000000; stroke-width:4; stroke-opacity:1; fill:none\" points=\"\n",
              "  1392.19,1425.62 1392.19,1404.94 \n",
              "  \"/>\n",
              "<polyline clip-path=\"url(#clip2300)\" style=\"stroke:#000000; stroke-width:4; stroke-opacity:1; fill:none\" points=\"\n",
              "  1845.29,1425.62 1845.29,1404.94 \n",
              "  \"/>\n",
              "<polyline clip-path=\"url(#clip2300)\" style=\"stroke:#000000; stroke-width:4; stroke-opacity:1; fill:none\" points=\"\n",
              "  2298.38,1425.62 2298.38,1404.94 \n",
              "  \"/>\n",
              "<polyline clip-path=\"url(#clip2300)\" style=\"stroke:#000000; stroke-width:4; stroke-opacity:1; fill:none\" points=\"\n",
              "  431.634,1386.61 460.451,1386.61 \n",
              "  \"/>\n",
              "<polyline clip-path=\"url(#clip2300)\" style=\"stroke:#000000; stroke-width:4; stroke-opacity:1; fill:none\" points=\"\n",
              "  431.634,1029.93 460.451,1029.93 \n",
              "  \"/>\n",
              "<polyline clip-path=\"url(#clip2300)\" style=\"stroke:#000000; stroke-width:4; stroke-opacity:1; fill:none\" points=\"\n",
              "  431.634,673.253 460.451,673.253 \n",
              "  \"/>\n",
              "<polyline clip-path=\"url(#clip2300)\" style=\"stroke:#000000; stroke-width:4; stroke-opacity:1; fill:none\" points=\"\n",
              "  431.634,316.575 460.451,316.575 \n",
              "  \"/>\n",
              "<g clip-path=\"url(#clip2300)\">\n",
              "<text style=\"fill:#000000; fill-opacity:1; font-family:Arial,Helvetica Neue,Helvetica,sans-serif; font-size:48px; text-anchor:middle;\" transform=\"rotate(0, 486.005, 1479.62)\" x=\"486.005\" y=\"1479.62\">1</text>\n",
              "</g>\n",
              "<g clip-path=\"url(#clip2300)\">\n",
              "<text style=\"fill:#000000; fill-opacity:1; font-family:Arial,Helvetica Neue,Helvetica,sans-serif; font-size:48px; text-anchor:middle;\" transform=\"rotate(0, 939.1, 1479.62)\" x=\"939.1\" y=\"1479.62\">2</text>\n",
              "</g>\n",
              "<g clip-path=\"url(#clip2300)\">\n",
              "<text style=\"fill:#000000; fill-opacity:1; font-family:Arial,Helvetica Neue,Helvetica,sans-serif; font-size:48px; text-anchor:middle;\" transform=\"rotate(0, 1392.19, 1479.62)\" x=\"1392.19\" y=\"1479.62\">3</text>\n",
              "</g>\n",
              "<g clip-path=\"url(#clip2300)\">\n",
              "<text style=\"fill:#000000; fill-opacity:1; font-family:Arial,Helvetica Neue,Helvetica,sans-serif; font-size:48px; text-anchor:middle;\" transform=\"rotate(0, 1845.29, 1479.62)\" x=\"1845.29\" y=\"1479.62\">4</text>\n",
              "</g>\n",
              "<g clip-path=\"url(#clip2300)\">\n",
              "<text style=\"fill:#000000; fill-opacity:1; font-family:Arial,Helvetica Neue,Helvetica,sans-serif; font-size:48px; text-anchor:middle;\" transform=\"rotate(0, 2298.38, 1479.62)\" x=\"2298.38\" y=\"1479.62\">5</text>\n",
              "</g>\n",
              "<g clip-path=\"url(#clip2300)\">\n",
              "<text style=\"fill:#000000; fill-opacity:1; font-family:Arial,Helvetica Neue,Helvetica,sans-serif; font-size:48px; text-anchor:end;\" transform=\"rotate(0, 407.634, 1404.11)\" x=\"407.634\" y=\"1404.11\">0</text>\n",
              "</g>\n",
              "<g clip-path=\"url(#clip2300)\">\n",
              "<text style=\"fill:#000000; fill-opacity:1; font-family:Arial,Helvetica Neue,Helvetica,sans-serif; font-size:48px; text-anchor:start;\" transform=\"rotate(0, 192.765, 1053.66)\" x=\"192.765\" y=\"1053.66\">5.0×10</text>\n",
              "</g>\n",
              "<g clip-path=\"url(#clip2300)\">\n",
              "<text style=\"fill:#000000; fill-opacity:1; font-family:Arial,Helvetica Neue,Helvetica,sans-serif; font-size:38px; text-anchor:start;\" transform=\"rotate(0, 341.306, 1026.25)\" x=\"341.306\" y=\"1026.25\">-</text>\n",
              "</g>\n",
              "<g clip-path=\"url(#clip2300)\">\n",
              "<text style=\"fill:#000000; fill-opacity:1; font-family:Arial,Helvetica Neue,Helvetica,sans-serif; font-size:38px; text-anchor:start;\" transform=\"rotate(0, 364.145, 1026.25)\" x=\"364.145\" y=\"1026.25\">14</text>\n",
              "</g>\n",
              "<g clip-path=\"url(#clip2300)\">\n",
              "<text style=\"fill:#000000; fill-opacity:1; font-family:Arial,Helvetica Neue,Helvetica,sans-serif; font-size:48px; text-anchor:start;\" transform=\"rotate(0, 192.765, 696.98)\" x=\"192.765\" y=\"696.98\">1.0×10</text>\n",
              "</g>\n",
              "<g clip-path=\"url(#clip2300)\">\n",
              "<text style=\"fill:#000000; fill-opacity:1; font-family:Arial,Helvetica Neue,Helvetica,sans-serif; font-size:38px; text-anchor:start;\" transform=\"rotate(0, 341.306, 669.57)\" x=\"341.306\" y=\"669.57\">-</text>\n",
              "</g>\n",
              "<g clip-path=\"url(#clip2300)\">\n",
              "<text style=\"fill:#000000; fill-opacity:1; font-family:Arial,Helvetica Neue,Helvetica,sans-serif; font-size:38px; text-anchor:start;\" transform=\"rotate(0, 364.145, 669.57)\" x=\"364.145\" y=\"669.57\">13</text>\n",
              "</g>\n",
              "<g clip-path=\"url(#clip2300)\">\n",
              "<text style=\"fill:#000000; fill-opacity:1; font-family:Arial,Helvetica Neue,Helvetica,sans-serif; font-size:48px; text-anchor:start;\" transform=\"rotate(0, 192.765, 340.303)\" x=\"192.765\" y=\"340.303\">1.5×10</text>\n",
              "</g>\n",
              "<g clip-path=\"url(#clip2300)\">\n",
              "<text style=\"fill:#000000; fill-opacity:1; font-family:Arial,Helvetica Neue,Helvetica,sans-serif; font-size:38px; text-anchor:start;\" transform=\"rotate(0, 341.306, 312.892)\" x=\"341.306\" y=\"312.892\">-</text>\n",
              "</g>\n",
              "<g clip-path=\"url(#clip2300)\">\n",
              "<text style=\"fill:#000000; fill-opacity:1; font-family:Arial,Helvetica Neue,Helvetica,sans-serif; font-size:38px; text-anchor:start;\" transform=\"rotate(0, 364.145, 312.892)\" x=\"364.145\" y=\"312.892\">13</text>\n",
              "</g>\n",
              "<g clip-path=\"url(#clip2300)\">\n",
              "<text style=\"fill:#000000; fill-opacity:1; font-family:Arial,Helvetica Neue,Helvetica,sans-serif; font-size:66px; text-anchor:middle;\" transform=\"rotate(0, 1392.19, 1559.48)\" x=\"1392.19\" y=\"1559.48\">-log(delta)</text>\n",
              "</g>\n",
              "<g clip-path=\"url(#clip2300)\">\n",
              "<text style=\"fill:#000000; fill-opacity:1; font-family:Arial,Helvetica Neue,Helvetica,sans-serif; font-size:66px; text-anchor:middle;\" transform=\"rotate(-90, 89.2861, 736.431)\" x=\"89.2861\" y=\"736.431\">error</text>\n",
              "</g>\n",
              "<polyline clip-path=\"url(#clip2302)\" style=\"stroke:#009af9; stroke-width:4; stroke-opacity:1; fill:none\" points=\"\n",
              "  486.005,86.2547 939.1,1386.61 1392.19,1386.61 1845.29,1386.61 2298.38,1386.61 \n",
              "  \"/>\n",
              "<path clip-path=\"url(#clip2300)\" d=\"\n",
              "M1989.93 251.724 L2280.76 251.724 L2280.76 130.764 L1989.93 130.764  Z\n",
              "  \" fill=\"#ffffff\" fill-rule=\"evenodd\" fill-opacity=\"1\"/>\n",
              "<polyline clip-path=\"url(#clip2300)\" style=\"stroke:#000000; stroke-width:4; stroke-opacity:1; fill:none\" points=\"\n",
              "  1989.93,251.724 2280.76,251.724 2280.76,130.764 1989.93,130.764 1989.93,251.724 \n",
              "  \"/>\n",
              "<polyline clip-path=\"url(#clip2300)\" style=\"stroke:#009af9; stroke-width:4; stroke-opacity:1; fill:none\" points=\"\n",
              "  2013.93,191.244 2157.93,191.244 \n",
              "  \"/>\n",
              "<g clip-path=\"url(#clip2300)\">\n",
              "<text style=\"fill:#000000; fill-opacity:1; font-family:Arial,Helvetica Neue,Helvetica,sans-serif; font-size:48px; text-anchor:start;\" transform=\"rotate(0, 2181.93, 208.744)\" x=\"2181.93\" y=\"208.744\">y1</text>\n",
              "</g>\n",
              "</svg>\n"
            ]
          },
          "metadata": {}
        }
      ],
      "execution_count": 9,
      "metadata": {
        "collapsed": false,
        "outputHidden": false,
        "inputHidden": false
      }
    }
  ],
  "metadata": {
    "kernel_info": {
      "name": "julia-1.0"
    },
    "language_info": {
      "file_extension": ".jl",
      "name": "julia",
      "mimetype": "application/julia",
      "version": "1.0.0"
    },
    "kernelspec": {
      "name": "julia-1.0",
      "language": "julia",
      "display_name": "Julia 1.0.0"
    },
    "nteract": {
      "version": "0.11.6"
    }
  },
  "nbformat": 4,
  "nbformat_minor": 4
}