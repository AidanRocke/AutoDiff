{
  "cells": [
    {
      "cell_type": "markdown",
      "source": [
        "## Automatic Differentiation via Contour Integration: "
      ],
      "metadata": {}
    },
    {
      "cell_type": "markdown",
      "source": [
        "## 1. The Cauchy Integral Formula for computing derivatives: "
      ],
      "metadata": {}
    },
    {
      "cell_type": "code",
      "source": [
        "function nabla(f, x::Float64, delta::Float64)\n",
        "\n",
        "  N = round(Int,2*pi/delta)\n",
        "  thetas = vcat(1:N)*delta\n",
        "\n",
        "  ## collect arguments and rotations: \n",
        "  rotations = map(theta -> exp(-im*theta),thetas)\n",
        "  arguments = x .+ conj.(rotations)  \n",
        "\n",
        "  ## calculate expectation: \n",
        "  expectation = 1.0/N*real(sum(map(f,arguments).*rotations))\n",
        "\n",
        "  return expectation\n",
        "\nend"
      ],
      "outputs": [
        {
          "output_type": "execute_result",
          "execution_count": 1,
          "data": {
            "text/plain": [
              "nabla (generic function with 1 method)"
            ]
          },
          "metadata": {}
        }
      ],
      "execution_count": 1,
      "metadata": {
        "collapsed": false,
        "outputHidden": false,
        "inputHidden": false
      }
    },
    {
      "cell_type": "markdown",
      "source": [
        "## 2. A few test cases: "
      ],
      "metadata": {
        "collapsed": false,
        "outputHidden": false,
        "inputHidden": false
      }
    },
    {
      "cell_type": "markdown",
      "source": [
        "### a. A few test functions of a single variable including compositions of functions:"
      ],
      "metadata": {}
    },
    {
      "cell_type": "code",
      "source": [
        "cosh_(x) = (exp(x)+exp(-x))/2\n",
        "\n",
        "g(x) = (x-1)^2 + (x-2)^4 + (x-3)^6\n",
        "\n",
        "h(x) = cos(x)\n",
        "\n",
        "l = g ∘ h\n",
        "\nm = g ∘ cosh_"
      ],
      "outputs": [
        {
          "output_type": "execute_result",
          "execution_count": 2,
          "data": {
            "text/plain": [
              "#52 (generic function with 1 method)"
            ]
          },
          "metadata": {}
        }
      ],
      "execution_count": 2,
      "metadata": {
        "collapsed": false,
        "outputHidden": false,
        "inputHidden": false
      }
    },
    {
      "cell_type": "markdown",
      "source": [
        "### b. Test it on cosine: "
      ],
      "metadata": {}
    },
    {
      "cell_type": "code",
      "source": [
        "delta = (2*pi)/1000\n",
        "\nnabla(h, pi/2, delta)"
      ],
      "outputs": [
        {
          "output_type": "execute_result",
          "execution_count": 3,
          "data": {
            "text/plain": [
              "-1.0000000000000016"
            ]
          },
          "metadata": {}
        }
      ],
      "execution_count": 3,
      "metadata": {
        "collapsed": false,
        "outputHidden": false,
        "inputHidden": false
      }
    },
    {
      "cell_type": "markdown",
      "source": [
        "### c. Test it on compositions of functions:"
      ],
      "metadata": {}
    },
    {
      "cell_type": "code",
      "source": [
        "delta = (2*pi)/1000\n",
        "\nnabla(m, 1.0, delta) "
      ],
      "outputs": [
        {
          "output_type": "execute_result",
          "execution_count": 4,
          "data": {
            "text/plain": [
              "-45.45705185890576"
            ]
          },
          "metadata": {}
        }
      ],
      "execution_count": 4,
      "metadata": {
        "collapsed": false,
        "outputHidden": false,
        "inputHidden": false
      }
    },
    {
      "cell_type": "markdown",
      "source": [
        "#### Wolfram Alpha agrees with the above calculations. A good sign."
      ],
      "metadata": {}
    },
    {
      "cell_type": "markdown",
      "source": [
        "## 3. Using the Cauchy Integral Formula to perform gradient descent: "
      ],
      "metadata": {}
    },
    {
      "cell_type": "code",
      "source": [
        "function gradient_descent(f,x_p::Float64,alpha::Float64)\n",
        "\n",
        "  ## 100 steps\n",
        "  for i=1:100\n",
        "\n",
        "    x_n = x_p - alpha*nabla(f,x_p,delta)\n",
        "    x_p = x_n\n",
        "\n",
        "  end\n",
        "\n",
        "  return x_p\n",
        "\nend"
      ],
      "outputs": [
        {
          "output_type": "execute_result",
          "execution_count": 5,
          "data": {
            "text/plain": [
              "gradient_descent (generic function with 1 method)"
            ]
          },
          "metadata": {}
        }
      ],
      "execution_count": 5,
      "metadata": {
        "collapsed": false,
        "outputHidden": false,
        "inputHidden": false
      }
    },
    {
      "cell_type": "code",
      "source": [
        "## initial value: \n",
        "x_p = 5.0 \n",
        "\n",
        "## learning rate: \n",
        "alpha = 0.01 \n",
        "\nx_min = gradient_descent(g,x_p,alpha)"
      ],
      "outputs": [
        {
          "output_type": "execute_result",
          "execution_count": 6,
          "data": {
            "text/plain": [
              "2.1702275657206824"
            ]
          },
          "metadata": {}
        }
      ],
      "execution_count": 6,
      "metadata": {
        "collapsed": false,
        "outputHidden": false,
        "inputHidden": false
      }
    },
    {
      "cell_type": "code",
      "source": [
        "## check solution: \n",
        "\ng(x_min)"
      ],
      "outputs": [
        {
          "output_type": "execute_result",
          "execution_count": 7,
          "data": {
            "text/plain": [
              "1.6966751541950713"
            ]
          },
          "metadata": {}
        }
      ],
      "execution_count": 7,
      "metadata": {
        "collapsed": false,
        "outputHidden": false,
        "inputHidden": false
      }
    },
    {
      "cell_type": "markdown",
      "source": [
        "## 4. Using the Cauchy Integral Formula to compute Partial Derivatives: "
      ],
      "metadata": {}
    },
    {
      "cell_type": "markdown",
      "source": [
        "#### a. Define a function of several variables, in this case three: "
      ],
      "metadata": {}
    },
    {
      "cell_type": "code",
      "source": [
        "q(X) = X[1] + X[2]^2 + cos(X[3])\n",
        "\n",
        "## we can now introduce partial nabla: \n",
        "function partial_nabla(f, i::Int64, X::Array{Float64,1},delta::Float64)\n",
        "\n",
        "  ## f:= the function to be differentiated\n",
        "  ## i:= partial differentiation with respect to this index\n",
        "  ## X:= where the partial derivative is evaluated\n",
        "  ## delta:= the sampling frequency\n",
        "\n",
        "  N = length(X)\n",
        "\n",
        "  kd(i,n) = [j==i for j in 1:n]\n",
        "\n",
        "  f_i = x -> f(x*kd(i,N) .+ X.*(ones(N)-kd(i,N)))\n",
        "\n",
        "  return nabla(f_i,X[i],delta)\n",
        "\nend"
      ],
      "outputs": [
        {
          "output_type": "execute_result",
          "execution_count": 8,
          "data": {
            "text/plain": [
              "partial_nabla (generic function with 1 method)"
            ]
          },
          "metadata": {}
        }
      ],
      "execution_count": 8,
      "metadata": {
        "collapsed": false,
        "outputHidden": false,
        "inputHidden": false
      }
    },
    {
      "cell_type": "markdown",
      "source": [
        "#### b. Compute all three partial derivatives:"
      ],
      "metadata": {}
    },
    {
      "cell_type": "code",
      "source": [
        "## computations are done with respect to a point X:\n",
        "X = [0.0,0.0,pi/2.0]"
      ],
      "outputs": [
        {
          "output_type": "execute_result",
          "execution_count": 9,
          "data": {
            "text/plain": [
              "3-element Array{Float64,1}:\n",
              " 0.0               \n",
              " 0.0               \n",
              " 1.5707963267948966"
            ]
          },
          "metadata": {}
        }
      ],
      "execution_count": 9,
      "metadata": {
        "collapsed": false,
        "outputHidden": false,
        "inputHidden": false
      }
    },
    {
      "cell_type": "code",
      "source": [
        "## first partial derivative: \n",
        "delta = (2*pi)/1000\n",
        "\npartial_nabla(q,1,X,delta)"
      ],
      "outputs": [
        {
          "output_type": "execute_result",
          "execution_count": 10,
          "data": {
            "text/plain": [
              "1.0"
            ]
          },
          "metadata": {}
        }
      ],
      "execution_count": 10,
      "metadata": {
        "collapsed": false,
        "outputHidden": false,
        "inputHidden": false
      }
    },
    {
      "cell_type": "code",
      "source": [
        "## second partial derivative: \n",
        "delta = (2*pi)/1000\n",
        "\npartial_nabla(q,2,X,delta)"
      ],
      "outputs": [
        {
          "output_type": "execute_result",
          "execution_count": 11,
          "data": {
            "text/plain": [
              "-1.1324274851176598e-17"
            ]
          },
          "metadata": {}
        }
      ],
      "execution_count": 11,
      "metadata": {
        "collapsed": false,
        "outputHidden": false,
        "inputHidden": false
      }
    },
    {
      "cell_type": "code",
      "source": [
        "## third partial derivative: \n",
        "delta = (2*pi)/1000\n",
        "\npartial_nabla(q,3,X,delta)"
      ],
      "outputs": [
        {
          "output_type": "execute_result",
          "execution_count": 12,
          "data": {
            "text/plain": [
              "-1.0000000000000016"
            ]
          },
          "metadata": {}
        }
      ],
      "execution_count": 12,
      "metadata": {
        "collapsed": false,
        "outputHidden": false,
        "inputHidden": false
      }
    },
    {
      "cell_type": "markdown",
      "source": [
        "## 5. The case where we have some uncertainty about the function to be evaluated: "
      ],
      "metadata": {}
    },
    {
      "cell_type": "code",
      "source": [
        "### If we are uncertain about f, which is generally the case, a more refined grid over [0,2*pi] may \n",
        "### actually yield a more biased answer so it may be better to use noise present in the biological \n",
        "### system to come up with a cheap and fast monte-carlo estimate.\n",
        "\n",
        "### This motivates the definition of monte-carlo gradients using half the usual number of points and the definition\n",
        "### of the gradient as an expected value:\n",
        "\n",
        "function mc_nabla(f, x::Float64, delta::Float64)\n",
        "\n",
        "  N = round(Int,2*pi/delta)\n",
        "\n",
        "  ## sample with only half the number of points: \n",
        "  sample = rand(1:N,round(Int,N/2)) \n",
        "  thetas = sample*delta\n",
        "\n",
        "  ## collect arguments and rotations: \n",
        "  rotations = map(theta -> exp(-im*theta),thetas)\n",
        "  arguments = x .+ conj.(rotations)  \n",
        "\n",
        "  ## calculate expectation: \n",
        "  expectation = 2.0/N*real(sum(map(f,arguments).*rotations))\n",
        "\n",
        "  return expectation\n",
        "\nend"
      ],
      "outputs": [
        {
          "output_type": "execute_result",
          "execution_count": 13,
          "data": {
            "text/plain": [
              "mc_nabla (generic function with 1 method)"
            ]
          },
          "metadata": {}
        }
      ],
      "execution_count": 13,
      "metadata": {
        "collapsed": false,
        "outputHidden": false,
        "inputHidden": false
      }
    }
  ],
  "metadata": {
    "kernel_info": {
      "name": "julia-1.0"
    },
    "language_info": {
      "file_extension": ".jl",
      "name": "julia",
      "mimetype": "application/julia",
      "version": "1.0.0"
    },
    "kernelspec": {
      "name": "julia-1.0",
      "language": "julia",
      "display_name": "Julia 1.0.0"
    },
    "nteract": {
      "version": "0.11.6"
    }
  },
  "nbformat": 4,
  "nbformat_minor": 4
}